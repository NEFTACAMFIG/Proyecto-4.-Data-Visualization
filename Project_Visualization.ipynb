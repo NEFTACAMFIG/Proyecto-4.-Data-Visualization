{
  "nbformat": 4,
  "nbformat_minor": 0,
  "metadata": {
    "colab": {
      "provenance": [],
      "collapsed_sections": [],
      "include_colab_link": true
    },
    "kernelspec": {
      "name": "python3",
      "display_name": "Python 3"
    },
    "language_info": {
      "name": "python"
    }
  },
  "cells": [
    {
      "cell_type": "markdown",
      "metadata": {
        "id": "view-in-github",
        "colab_type": "text"
      },
      "source": [
        "<a href=\"https://colab.research.google.com/github/NEFTACAMFIG/Proyecto-4.-Data-Visualization/blob/main/Project_Visualization.ipynb\" target=\"_parent\"><img src=\"https://colab.research.google.com/assets/colab-badge.svg\" alt=\"Open In Colab\"/></a>"
      ]
    },
    {
      "cell_type": "code",
      "source": [
        "#!pip install jupyter-dash"
      ],
      "metadata": {
        "id": "cO0UxaqSVyay"
      },
      "execution_count": null,
      "outputs": []
    },
    {
      "cell_type": "code",
      "source": [
        "!pip install geopandas\n",
        "!pip install contextily"
      ],
      "metadata": {
        "id": "8hPPskhbnT1A",
        "colab": {
          "base_uri": "https://localhost:8080/"
        },
        "outputId": "d227fd0d-648b-4c95-faf8-74fea6e16e7d"
      },
      "execution_count": null,
      "outputs": [
        {
          "output_type": "stream",
          "name": "stdout",
          "text": [
            "Looking in indexes: https://pypi.org/simple, https://us-python.pkg.dev/colab-wheels/public/simple/\n",
            "Collecting geopandas\n",
            "  Downloading geopandas-0.10.2-py2.py3-none-any.whl (1.0 MB)\n",
            "\u001b[K     |████████████████████████████████| 1.0 MB 4.9 MB/s \n",
            "\u001b[?25hCollecting pyproj>=2.2.0\n",
            "  Downloading pyproj-3.2.1-cp37-cp37m-manylinux2010_x86_64.whl (6.3 MB)\n",
            "\u001b[K     |████████████████████████████████| 6.3 MB 45.0 MB/s \n",
            "\u001b[?25hCollecting fiona>=1.8\n",
            "  Downloading Fiona-1.8.21-cp37-cp37m-manylinux2014_x86_64.whl (16.7 MB)\n",
            "\u001b[K     |████████████████████████████████| 16.7 MB 5.1 MB/s \n",
            "\u001b[?25hRequirement already satisfied: shapely>=1.6 in /usr/local/lib/python3.7/dist-packages (from geopandas) (1.8.4)\n",
            "Requirement already satisfied: pandas>=0.25.0 in /usr/local/lib/python3.7/dist-packages (from geopandas) (1.3.5)\n",
            "Requirement already satisfied: click>=4.0 in /usr/local/lib/python3.7/dist-packages (from fiona>=1.8->geopandas) (7.1.2)\n",
            "Collecting cligj>=0.5\n",
            "  Downloading cligj-0.7.2-py3-none-any.whl (7.1 kB)\n",
            "Requirement already satisfied: certifi in /usr/local/lib/python3.7/dist-packages (from fiona>=1.8->geopandas) (2022.9.24)\n",
            "Collecting munch\n",
            "  Downloading munch-2.5.0-py2.py3-none-any.whl (10 kB)\n",
            "Requirement already satisfied: setuptools in /usr/local/lib/python3.7/dist-packages (from fiona>=1.8->geopandas) (57.4.0)\n",
            "Collecting click-plugins>=1.0\n",
            "  Downloading click_plugins-1.1.1-py2.py3-none-any.whl (7.5 kB)\n",
            "Requirement already satisfied: six>=1.7 in /usr/local/lib/python3.7/dist-packages (from fiona>=1.8->geopandas) (1.15.0)\n",
            "Requirement already satisfied: attrs>=17 in /usr/local/lib/python3.7/dist-packages (from fiona>=1.8->geopandas) (22.1.0)\n",
            "Requirement already satisfied: python-dateutil>=2.7.3 in /usr/local/lib/python3.7/dist-packages (from pandas>=0.25.0->geopandas) (2.8.2)\n",
            "Requirement already satisfied: numpy>=1.17.3 in /usr/local/lib/python3.7/dist-packages (from pandas>=0.25.0->geopandas) (1.21.6)\n",
            "Requirement already satisfied: pytz>=2017.3 in /usr/local/lib/python3.7/dist-packages (from pandas>=0.25.0->geopandas) (2022.4)\n",
            "Installing collected packages: munch, cligj, click-plugins, pyproj, fiona, geopandas\n",
            "Successfully installed click-plugins-1.1.1 cligj-0.7.2 fiona-1.8.21 geopandas-0.10.2 munch-2.5.0 pyproj-3.2.1\n",
            "Looking in indexes: https://pypi.org/simple, https://us-python.pkg.dev/colab-wheels/public/simple/\n",
            "Collecting contextily\n",
            "  Downloading contextily-1.2.0-py3-none-any.whl (16 kB)\n",
            "Requirement already satisfied: geopy in /usr/local/lib/python3.7/dist-packages (from contextily) (1.17.0)\n",
            "Requirement already satisfied: joblib in /usr/local/lib/python3.7/dist-packages (from contextily) (1.2.0)\n",
            "Collecting mercantile\n",
            "  Downloading mercantile-1.2.1-py3-none-any.whl (14 kB)\n",
            "Collecting xyzservices\n",
            "  Downloading xyzservices-2022.9.0-py3-none-any.whl (55 kB)\n",
            "\u001b[K     |████████████████████████████████| 55 kB 2.4 MB/s \n",
            "\u001b[?25hRequirement already satisfied: matplotlib in /usr/local/lib/python3.7/dist-packages (from contextily) (3.2.2)\n",
            "Requirement already satisfied: requests in /usr/local/lib/python3.7/dist-packages (from contextily) (2.23.0)\n",
            "Requirement already satisfied: pillow in /usr/local/lib/python3.7/dist-packages (from contextily) (7.1.2)\n",
            "Collecting rasterio\n",
            "  Downloading rasterio-1.2.10-cp37-cp37m-manylinux1_x86_64.whl (19.3 MB)\n",
            "\u001b[K     |████████████████████████████████| 19.3 MB 87 kB/s \n",
            "\u001b[?25hRequirement already satisfied: geographiclib<2,>=1.49 in /usr/local/lib/python3.7/dist-packages (from geopy->contextily) (1.52)\n",
            "Requirement already satisfied: numpy>=1.11 in /usr/local/lib/python3.7/dist-packages (from matplotlib->contextily) (1.21.6)\n",
            "Requirement already satisfied: python-dateutil>=2.1 in /usr/local/lib/python3.7/dist-packages (from matplotlib->contextily) (2.8.2)\n",
            "Requirement already satisfied: pyparsing!=2.0.4,!=2.1.2,!=2.1.6,>=2.0.1 in /usr/local/lib/python3.7/dist-packages (from matplotlib->contextily) (3.0.9)\n",
            "Requirement already satisfied: kiwisolver>=1.0.1 in /usr/local/lib/python3.7/dist-packages (from matplotlib->contextily) (1.4.4)\n",
            "Requirement already satisfied: cycler>=0.10 in /usr/local/lib/python3.7/dist-packages (from matplotlib->contextily) (0.11.0)\n",
            "Requirement already satisfied: typing-extensions in /usr/local/lib/python3.7/dist-packages (from kiwisolver>=1.0.1->matplotlib->contextily) (4.1.1)\n",
            "Requirement already satisfied: six>=1.5 in /usr/local/lib/python3.7/dist-packages (from python-dateutil>=2.1->matplotlib->contextily) (1.15.0)\n",
            "Requirement already satisfied: click>=3.0 in /usr/local/lib/python3.7/dist-packages (from mercantile->contextily) (7.1.2)\n",
            "Collecting affine\n",
            "  Downloading affine-2.3.1-py2.py3-none-any.whl (16 kB)\n",
            "Collecting snuggs>=1.4.1\n",
            "  Downloading snuggs-1.4.7-py3-none-any.whl (5.4 kB)\n",
            "Requirement already satisfied: cligj>=0.5 in /usr/local/lib/python3.7/dist-packages (from rasterio->contextily) (0.7.2)\n",
            "Requirement already satisfied: attrs in /usr/local/lib/python3.7/dist-packages (from rasterio->contextily) (22.1.0)\n",
            "Requirement already satisfied: setuptools in /usr/local/lib/python3.7/dist-packages (from rasterio->contextily) (57.4.0)\n",
            "Requirement already satisfied: click-plugins in /usr/local/lib/python3.7/dist-packages (from rasterio->contextily) (1.1.1)\n",
            "Requirement already satisfied: certifi in /usr/local/lib/python3.7/dist-packages (from rasterio->contextily) (2022.9.24)\n",
            "Requirement already satisfied: chardet<4,>=3.0.2 in /usr/local/lib/python3.7/dist-packages (from requests->contextily) (3.0.4)\n",
            "Requirement already satisfied: urllib3!=1.25.0,!=1.25.1,<1.26,>=1.21.1 in /usr/local/lib/python3.7/dist-packages (from requests->contextily) (1.24.3)\n",
            "Requirement already satisfied: idna<3,>=2.5 in /usr/local/lib/python3.7/dist-packages (from requests->contextily) (2.10)\n",
            "Installing collected packages: snuggs, affine, xyzservices, rasterio, mercantile, contextily\n",
            "Successfully installed affine-2.3.1 contextily-1.2.0 mercantile-1.2.1 rasterio-1.2.10 snuggs-1.4.7 xyzservices-2022.9.0\n"
          ]
        }
      ]
    },
    {
      "cell_type": "code",
      "source": [
        "#CORRER ESTA LINEA DE CODIGO\n",
        "from google.colab import drive\n",
        "import numpy as np\n",
        "import pandas as pd\n",
        "#import dash\n",
        "import plotly.express as px\n",
        "import csv\n",
        "from geopy.geocoders import Nominatim\n",
        "import geopandas as gpd\n",
        "import contextily as ctx"
      ],
      "metadata": {
        "id": "Y1k5LkNYXWRQ"
      },
      "execution_count": null,
      "outputs": []
    },
    {
      "cell_type": "code",
      "source": [
        "#CORRER ESTA LINEA DE CODIGO\n",
        "from google.colab import drive\n",
        "drive.mount('/content/drive')"
      ],
      "metadata": {
        "colab": {
          "base_uri": "https://localhost:8080/"
        },
        "id": "uWbz_a2Aiepb",
        "outputId": "779b6b5c-36fe-4470-a901-c1cd5e4d6c38"
      },
      "execution_count": null,
      "outputs": [
        {
          "output_type": "stream",
          "name": "stdout",
          "text": [
            "Mounted at /content/drive\n"
          ]
        }
      ]
    },
    {
      "cell_type": "code",
      "source": [
        "df = pd.read_csv(\"/content/drive/MyDrive/Colab_Notebooks/Neftali/sales_day_book.csv\",encoding = \"ISO-8859-1\")\n",
        "#df=pd.read_csv('sales_day_book.csv', encoding='cp1252')"
      ],
      "metadata": {
        "id": "0tj6X33SwFwg"
      },
      "execution_count": null,
      "outputs": []
    },
    {
      "cell_type": "code",
      "source": [
        "df1=df.copy()"
      ],
      "metadata": {
        "id": "_uG5hB2NxCsj"
      },
      "execution_count": null,
      "outputs": []
    },
    {
      "cell_type": "code",
      "source": [
        "df1=df1.drop(['Type','Contact Reference','Details','Tax'],axis=1)"
      ],
      "metadata": {
        "id": "FwZgj328ce49"
      },
      "execution_count": null,
      "outputs": []
    },
    {
      "cell_type": "code",
      "source": [
        "#df1['Date'] = df1['Date'].apply(pd.to_datetime,format='%Y')\n",
        "df1['Date'] = df1['Date'].astype('datetime64')"
      ],
      "metadata": {
        "id": "YTp8gcelce2X"
      },
      "execution_count": null,
      "outputs": []
    },
    {
      "cell_type": "code",
      "source": [
        "#df1.set_index('Date', inplace=True)"
      ],
      "metadata": {
        "id": "oI2npZ9ncez9"
      },
      "execution_count": null,
      "outputs": []
    },
    {
      "cell_type": "code",
      "source": [
        "df1['Ref'] = df1['Ref'].str.upper()"
      ],
      "metadata": {
        "id": "9G2DXgL4clwg"
      },
      "execution_count": null,
      "outputs": []
    },
    {
      "cell_type": "code",
      "source": [
        "comparison_column = np.where(df1[\"Net\"] == df1[\"Total\"], True, False)"
      ],
      "metadata": {
        "id": "S7eeu07Vcluf"
      },
      "execution_count": null,
      "outputs": []
    },
    {
      "cell_type": "code",
      "source": [
        "df1['Net & Total'] = df1['Net']"
      ],
      "metadata": {
        "id": "27yVpiGCclri"
      },
      "execution_count": null,
      "outputs": []
    },
    {
      "cell_type": "code",
      "source": [
        "df1=df1.drop(['Net','Total'],axis=1)"
      ],
      "metadata": {
        "id": "EVsEp4Wiclpf"
      },
      "execution_count": null,
      "outputs": []
    },
    {
      "cell_type": "code",
      "source": [
        "df1['Net & Total']=df1['Net & Total'].str.replace(',','')"
      ],
      "metadata": {
        "id": "9bdZ_8lCclmz"
      },
      "execution_count": null,
      "outputs": []
    },
    {
      "cell_type": "code",
      "source": [
        "df1['Net & Total']=df1['Net & Total'].astype('float')"
      ],
      "metadata": {
        "id": "w9Zx2L89clfe"
      },
      "execution_count": null,
      "outputs": []
    },
    {
      "cell_type": "code",
      "source": [
        "df1.head(4)"
      ],
      "metadata": {
        "id": "w-HW7AuSU01E"
      },
      "execution_count": null,
      "outputs": []
    },
    {
      "cell_type": "code",
      "source": [
        "df1.columns=[\"TRX\",\"DATE\",\"ENTERPRISE\",\"INVOICE NUMBER\",\"CUSTOMER\",\"TOTAL $\"]"
      ],
      "metadata": {
        "id": "ktbpmwjJcld-"
      },
      "execution_count": null,
      "outputs": []
    },
    {
      "cell_type": "code",
      "source": [
        "coord=df1['CUSTOMER']"
      ],
      "metadata": {
        "id": "L5DMobVFcla_"
      },
      "execution_count": null,
      "outputs": []
    },
    {
      "cell_type": "code",
      "source": [
        "geolocalizador = Nominatim(user_agent=\"specify_your_app_name_here\",timeout=3)"
      ],
      "metadata": {
        "id": "KOJLwf2sclYu"
      },
      "execution_count": null,
      "outputs": []
    },
    {
      "cell_type": "code",
      "source": [
        "lat=[]\n",
        "lon=[]\n",
        "for i in range(len(coord)):\n",
        "  try:\n",
        "    Resultado=geolocalizador.geocode(coord[i])\n",
        "    #print(Resultado.latitude,Resultado.longitude)\n",
        "    lat.append(Resultado.latitude)\n",
        "    lon.append(Resultado.longitude)\n",
        "  except (SyntaxError,AttributeError):\n",
        "    a=0\n",
        "    b=0\n",
        "    lat.append(a)\n",
        "    lon.append(b)"
      ],
      "metadata": {
        "id": "1QHO-I14clWd"
      },
      "execution_count": null,
      "outputs": []
    },
    {
      "cell_type": "code",
      "source": [
        "df1['longitud']=lon\n",
        "df1['latitud']=lat"
      ],
      "metadata": {
        "id": "o86s_shiclTn"
      },
      "execution_count": null,
      "outputs": []
    },
    {
      "cell_type": "code",
      "source": [
        "filtro = df1['latitud'] != 0.0\n",
        "df2=df1[filtro]"
      ],
      "metadata": {
        "id": "8mE9DCoUclQ_"
      },
      "execution_count": null,
      "outputs": []
    },
    {
      "cell_type": "code",
      "source": [
        "df2.head(5)"
      ],
      "metadata": {
        "id": "hJHDLsVAT-oQ"
      },
      "execution_count": null,
      "outputs": []
    },
    {
      "cell_type": "code",
      "source": [
        "# CORRER ESTA LINEA DE CODIGO\n",
        "#Arellano URL\n",
        "#points_city=pd.read_csv('/content/drive/MyDrive/Mis Documentos/Curso de Python/PROYECTOS/Proyecto Data Visualization/points_city.csv')\n",
        "points_city=pd.read_csv('/content/drive/MyDrive/Mis Documentos/Curso de Python/PROYECTOS/Proyecto Data Visualization/points_city.csv')\n",
        "#Nefta URL\n",
        "#points_geoframe=pd.read_csv('')"
      ],
      "metadata": {
        "id": "bg3zX12Tp4MB"
      },
      "execution_count": null,
      "outputs": []
    },
    {
      "cell_type": "code",
      "source": [
        "# CORRER ESTA LINEA DE CODIGO\n",
        "points_city = gpd.GeoDataFrame(\n",
        "    points_city, geometry=gpd.points_from_xy(points_city.Longitud, points_city.Latitud))"
      ],
      "metadata": {
        "id": "OQhcZKEop4DX"
      },
      "execution_count": null,
      "outputs": []
    },
    {
      "cell_type": "code",
      "source": [
        "# CORRER ESTA LINEA DE CODIGO\n",
        "points_geoframe = points_city.set_crs('epsg:4326')"
      ],
      "metadata": {
        "id": "OuH_YZjVp4A_"
      },
      "execution_count": null,
      "outputs": []
    },
    {
      "cell_type": "code",
      "source": [
        "ax = points_geoframe.to_crs('EPSG:4326').plot(color=\"red\",\n",
        "                                    edgecolor=\"black\",\n",
        "                                    markersize=50, \n",
        "                                    figsize=(9, 9))\n",
        "ax.set_title('Campos Figueroa')\n",
        "cx.add_basemap(ax,crs=points_geoframe.crs,source=ctx.providers.OpenStreetMap.Mapnik)"
      ],
      "metadata": {
        "id": "fR4Tcf1zp3-P"
      },
      "execution_count": null,
      "outputs": []
    },
    {
      "cell_type": "code",
      "source": [
        "ax = points_geoframe.to_crs('EPSG:4326').plot(color=\"red\",\n",
        "                                    edgecolor=\"black\",\n",
        "                                    markersize=50, \n",
        "                                    figsize=(9, 9))\n",
        "ax.set_title('Work locations')\n",
        "ctx.add_basemap(ax,crs=points_geoframe.crs,source=ctx.providers.OpenStreetMap.Mapnik)"
      ],
      "metadata": {
        "id": "N3vvBvZTlM1B",
        "colab": {
          "base_uri": "https://localhost:8080/",
          "height": 217
        },
        "outputId": "eb6364a1-3537-4a84-9f2f-3b04ab9c2f4b"
      },
      "execution_count": null,
      "outputs": [
        {
          "output_type": "display_data",
          "data": {
            "text/plain": [
              "<Figure size 648x648 with 1 Axes>"
            ],
            "image/png": "[encoded data removed]"
          },
          "metadata": {
            "needs_background": "light"
          }
        }
      ]
    },
    {
      "cell_type": "code",
      "source": [],
      "metadata": {
        "id": "p1zcLM5WlMyi"
      },
      "execution_count": null,
      "outputs": []
    },
    {
      "cell_type": "markdown",
      "source": [
        "# Neftali\n"
      ],
      "metadata": {
        "id": "wRkac8p6xD4m"
      }
    },
    {
      "cell_type": "markdown",
      "source": [
        "# 2. Datos de los trabajadores y horas trabajadas\n"
      ],
      "metadata": {
        "id": "TCSAWCh4xtNj"
      }
    },
    {
      "cell_type": "markdown",
      "source": [
        "Objetivo: Encontrar una correlación entre las horas trabajadas y el salario obtenido para encontrar un promedio ideal en el que las horas trabajadas correspondan al mayor rendimiento que se pueda obtener por un trabajador"
      ],
      "metadata": {
        "id": "-PVeOJ5IhHjK"
      }
    },
    {
      "cell_type": "code",
      "source": [
        "#Para leer los datos desde Drive\n",
        "from google.colab import drive\n",
        "drive.mount('/content/drive')"
      ],
      "metadata": {
        "colab": {
          "base_uri": "https://localhost:8080/"
        },
        "id": "zWV9hA42iUct",
        "outputId": "b069d7a7-1c09-4514-869d-e112d239cb07"
      },
      "execution_count": null,
      "outputs": [
        {
          "output_type": "stream",
          "name": "stdout",
          "text": [
            "Drive already mounted at /content/drive; to attempt to forcibly remount, call drive.mount(\"/content/drive\", force_remount=True).\n"
          ]
        }
      ]
    },
    {
      "cell_type": "code",
      "source": [
        "#Importamos los datos que vamos a utilizar\n",
        "#Arellano\n",
        "df_workers = pd.read_csv(\"/content/drive/MyDrive/Colab_Notebooks/Neftali/Workers_JMA1.csv\", encoding = \"ISO-8859-1\")\n",
        "#Nef\n",
        "#df_workers = pd.read_csv(\"/content/drive/MyDrive/Mis Documentos/Curso de Python/PROYECTOS/Proyecto Data Visualization/60f2e03b7355457f84f3354197ed17ce_general_ledger_detail_accrual_20220925_195138507.csv\",encoding = \"ISO-8859-1\")"
      ],
      "metadata": {
        "id": "xeQXbpsExCxt"
      },
      "execution_count": null,
      "outputs": []
    },
    {
      "cell_type": "code",
      "source": [
        "df_workers.head(100)"
      ],
      "metadata": {
        "id": "QJ7us2NMxC1k"
      },
      "execution_count": null,
      "outputs": []
    },
    {
      "cell_type": "code",
      "source": [
        "#Eliminamos columnas que no seran utilizadas\n",
        "df_workers = df_workers.drop(['Invoice Number','Type','Credit','Running Total'],axis = 1)\n"
      ],
      "metadata": {
        "id": "9W8JTayxxEzY"
      },
      "execution_count": null,
      "outputs": []
    },
    {
      "cell_type": "code",
      "source": [
        "#Eliminamos las filas que no seran utilizadas\n",
        "#df_workers = df_workers.drop([0,26,27,88],axis=0)\n",
        "#df_workers.head(100)\n",
        "df_workers = df_workers.drop([121,122],axis=0)"
      ],
      "metadata": {
        "id": "wq-8PCxAxv2R"
      },
      "execution_count": null,
      "outputs": []
    },
    {
      "cell_type": "code",
      "source": [
        "#Cambiando nombre de las columnas\n",
        "df_workers.columns\n",
        "df_workers.columns = ['ID','Date','Worker','Reference','Time Pay','Quantity Pay']"
      ],
      "metadata": {
        "id": "7ffMoKT8yf4t"
      },
      "execution_count": null,
      "outputs": []
    },
    {
      "cell_type": "code",
      "source": [
        "#Cambiando datos \"Weekly pay\" por 45 HRS\n",
        "df_workers = df_workers.replace(to_replace=['WEEKLY PAY ','WEEKLY PAY','PAY DAY','PAY DAY '], value='45 HRS')"
      ],
      "metadata": {
        "id": "eTYW8-735IGq"
      },
      "execution_count": null,
      "outputs": []
    },
    {
      "cell_type": "code",
      "source": [
        "df_workers.head(100)"
      ],
      "metadata": {
        "id": "GI_Cr5RtzH5j"
      },
      "execution_count": null,
      "outputs": []
    },
    {
      "cell_type": "code",
      "source": [
        "#Este codigo se utiliza para limpiar algunos datos especificos que quedan aun despues de los primeros procesos\n",
        "#df_workers.loc[df_workers['ID'] == 4222,'Time Pay'] = '59 HRS'\n",
        "df_workers.loc[df_workers['ID'] == 3900,'Time Pay'] = '45 HRS'\n",
        "df_workers.loc[df_workers['ID'] == 4631,'Time Pay'] = '59 HRS'\n",
        "df_workers.loc[df_workers['ID'] == 4632,'Time Pay'] = '35 HRS'\n",
        "df_workers.head(100)"
      ],
      "metadata": {
        "id": "NHPKxHhEO2ge"
      },
      "execution_count": null,
      "outputs": []
    },
    {
      "cell_type": "code",
      "source": [
        "#Este frgamento del codigo se utiliza para eliminar los caracteres que no son digitos en la columna de Time Pay ya que esta columna se utilizara \n",
        "#como entero y no como string\n",
        "#column = ['Time Pay']\n",
        "#df_workers[column] = df_workers[column].replace({' HRS':''},regex=True)\n",
        "#df_workers[column] = df_workers[column].replace({' PAY':''},regex=True)\n",
        "#df_workers[column] = df_workers[column].replace({' hrs pay':''},regex=True)\n",
        "#df_workers[column] = df_workers[column].replace({'ROLL':''},regex=True)\n",
        "#df_workers[column] = df_workers[column].replace({' HOURS':''},regex=True)\n",
        "#df_workers[column] = df_workers[column].replace({' Hrs Pay':''},regex=True)\n",
        "#df_workers[column] = df_workers[column].replace({' ':''},regex=True)\n",
        "df_workers.head(200)"
      ],
      "metadata": {
        "id": "8Wt5K12gRNpY"
      },
      "execution_count": null,
      "outputs": []
    },
    {
      "cell_type": "code",
      "source": [
        "#Cambiando tipo de datos en la columna \"Time Pay\" y \"Date\"\n",
        "df_workers['Date'] = df_workers['Date'].astype('datetime64')\n",
        "df_workers['Time Pay'] = df_workers['Time Pay'].astype('float')\n",
        "df_workers.dtypes"
      ],
      "metadata": {
        "id": "mgyZNynzZUXR"
      },
      "execution_count": null,
      "outputs": []
    },
    {
      "cell_type": "code",
      "source": [
        " #Se guarda el Dataset limpio\n",
        "df_workers.to_csv('/content/drive/MyDrive/Mis Documentos/Workers_JMA1.csv', index=False)\n",
        "#!cp data.csv '/content/drive/MyDrive/Mis Documentos'"
      ],
      "metadata": {
        "id": "hkVfJ_-5UuHT"
      },
      "execution_count": null,
      "outputs": []
    },
    {
      "cell_type": "code",
      "source": [
        "#CORRER ESTA LINEA DE CODIGO\n",
        "#workers = pd.read_csv(\"/content/drive/MyDrive/Mis Documentos/Curso de Python/PROYECTOS/Proyecto Data Visualization/Workers_JMA1.csv\", encoding = \"ISO-8859-1\")\n",
        "#Arellano\n",
        "workers = pd.read_csv(\"/content/drive/MyDrive/Mis Documentos/Curso de Python/PROYECTOS/Proyecto Data Visualization/Workers_JMA1.csv\", encoding = \"ISO-8859-1\")"
      ],
      "metadata": {
        "id": "ApwQDAUP6yci"
      },
      "execution_count": null,
      "outputs": []
    },
    {
      "cell_type": "code",
      "source": [
        "workers.head()"
      ],
      "metadata": {
        "id": "CXg1NrF87Mbo"
      },
      "execution_count": null,
      "outputs": []
    },
    {
      "cell_type": "code",
      "source": [
        "#CORRER ESTA LINEA DE CODIGO\n",
        "df2 = workers.pivot(index = 'Date',columns = 'Worker',values = 'Time Pay')"
      ],
      "metadata": {
        "id": "omm2mh1__1jo"
      },
      "execution_count": null,
      "outputs": []
    },
    {
      "cell_type": "code",
      "source": [
        "#CORRER ESTA LINEA DE CODIGO\n",
        "df2 = df2.reset_index()"
      ],
      "metadata": {
        "id": "F74RhWARFgEl"
      },
      "execution_count": null,
      "outputs": []
    },
    {
      "cell_type": "code",
      "source": [
        "df2"
      ],
      "metadata": {
        "id": "BQxngXaVJFrh"
      },
      "execution_count": null,
      "outputs": []
    },
    {
      "cell_type": "code",
      "source": [
        "#CORRER ESTA LINEA DE CODIGO\n",
        "df2 = df2.fillna(method='ffill')"
      ],
      "metadata": {
        "id": "wjvlkTLbBQNg"
      },
      "execution_count": null,
      "outputs": []
    },
    {
      "cell_type": "code",
      "source": [
        "#df2.dtypes"
      ],
      "metadata": {
        "id": "pap90uCqKapr"
      },
      "execution_count": null,
      "outputs": []
    },
    {
      "cell_type": "code",
      "source": [
        "#df2.head(100)"
      ],
      "metadata": {
        "id": "yVGOBGwr7Vs1"
      },
      "execution_count": null,
      "outputs": []
    },
    {
      "cell_type": "code",
      "source": [
        "#CORRER ESTA LINEA DE CODIGO\n",
        "#Obtener las horas trabajadas por en un periodo de tiempo por trabajador\n",
        "\n",
        "fig = px.line(df2, x='Date', y=df2.columns,\n",
        "              hover_data={\"Date\": \"|%B %d, %Y\"},\n",
        "              labels = {'value':'Horas trabajadas [Hrs]',\n",
        "                        'Date': 'Mes de Septiembre'},\n",
        "              title='Horas trabajadas durante el mes de Septiembre por Trabajador')\n",
        "fig.update_xaxes(\n",
        "    dtick='D1',\n",
        "    tickformat=\"%d %B \",\n",
        "    ticklabelmode=\"period\")\n",
        "fig.update_layout(title_x= 0.5)\n",
        "fig.show()"
      ],
      "metadata": {
        "id": "fHB9uAj3zYgj",
        "colab": {
          "base_uri": "https://localhost:8080/",
          "height": 542
        },
        "outputId": "c660c867-ac5f-4527-9df0-6268d4b3e2b0"
      },
      "execution_count": null,
      "outputs": [
        {
          "output_type": "display_data",
          "data": {
            "text/html": [
              "<html>\n",
              "<head><meta charset=\"utf-8\" /></head>\n",
              "<body>\n",
              "    <div>            <script src=\"https://cdnjs.cloudflare.com/ajax/libs/mathjax/2.7.5/MathJax.js?config=TeX-AMS-MML_SVG\"></script><script type=\"text/javascript\">if (window.MathJax) {MathJax.Hub.Config({SVG: {font: \"STIX-Web\"}});}</script>                <script type=\"text/javascript\">window.PlotlyConfig = {MathJaxConfig: 'local'};</script>\n",
              "        <script src=\"https://cdn.plot.ly/plotly-2.8.3.min.js\"></script>                <div id=\"8ebdfc59-b4c0-4da1-a631-eb31cf0ea0d1\" class=\"plotly-graph-div\" style=\"height:525px; width:100%;\"></div>            <script type=\"text/javascript\">                                    window.PLOTLYENV=window.PLOTLYENV || {};                                    if (document.getElementById(\"8ebdfc59-b4c0-4da1-a631-eb31cf0ea0d1\")) {                    Plotly.newPlot(                        \"8ebdfc59-b4c0-4da1-a631-eb31cf0ea0d1\",                        [{\"hovertemplate\":\"Worker=ABACUC FIGUEROA<br>Mes de Septiembre=%{x|%B %d, %Y}<br>Horas trabajadas [Hrs]=%{y}<extra></extra>\",\"legendgroup\":\"ABACUC FIGUEROA\",\"line\":{\"color\":\"#636efa\",\"dash\":\"solid\"},\"marker\":{\"symbol\":\"circle\"},\"mode\":\"lines\",\"name\":\"ABACUC FIGUEROA\",\"orientation\":\"v\",\"showlegend\":true,\"x\":[\"2022-09-01\",\"2022-09-02\",\"2022-09-03\",\"2022-09-07\",\"2022-09-08\",\"2022-09-09\",\"2022-09-11\",\"2022-09-12\",\"2022-09-15\",\"2022-09-16\",\"2022-09-17\",\"2022-09-19\",\"2022-09-21\",\"2022-09-22\",\"2022-09-23\",\"2022-09-24\"],\"xaxis\":\"x\",\"y\":[45.0,45.0,45.0,45.0,45.0,45.0,45.0,45.0,45.0,45.0,45.0,45.0,45.0,45.0,45.0,45.0],\"yaxis\":\"y\",\"type\":\"scatter\"},{\"hovertemplate\":\"Worker=ADOLFO SANCHEZ<br>Mes de Septiembre=%{x|%B %d, %Y}<br>Horas trabajadas [Hrs]=%{y}<extra></extra>\",\"legendgroup\":\"ADOLFO SANCHEZ\",\"line\":{\"color\":\"#EF553B\",\"dash\":\"solid\"},\"marker\":{\"symbol\":\"circle\"},\"mode\":\"lines\",\"name\":\"ADOLFO SANCHEZ\",\"orientation\":\"v\",\"showlegend\":true,\"x\":[\"2022-09-01\",\"2022-09-02\",\"2022-09-03\",\"2022-09-07\",\"2022-09-08\",\"2022-09-09\",\"2022-09-11\",\"2022-09-12\",\"2022-09-15\",\"2022-09-16\",\"2022-09-17\",\"2022-09-19\",\"2022-09-21\",\"2022-09-22\",\"2022-09-23\",\"2022-09-24\"],\"xaxis\":\"x\",\"y\":[49.0,49.0,49.0,49.0,59.0,59.0,59.0,59.0,43.0,43.0,43.0,43.0,61.0,61.0,61.0,61.0],\"yaxis\":\"y\",\"type\":\"scatter\"},{\"hovertemplate\":\"Worker=ALEJANDRO SALAZAR<br>Mes de Septiembre=%{x|%B %d, %Y}<br>Horas trabajadas [Hrs]=%{y}<extra></extra>\",\"legendgroup\":\"ALEJANDRO SALAZAR\",\"line\":{\"color\":\"#00cc96\",\"dash\":\"solid\"},\"marker\":{\"symbol\":\"circle\"},\"mode\":\"lines\",\"name\":\"ALEJANDRO SALAZAR\",\"orientation\":\"v\",\"showlegend\":true,\"x\":[\"2022-09-01\",\"2022-09-02\",\"2022-09-03\",\"2022-09-07\",\"2022-09-08\",\"2022-09-09\",\"2022-09-11\",\"2022-09-12\",\"2022-09-15\",\"2022-09-16\",\"2022-09-17\",\"2022-09-19\",\"2022-09-21\",\"2022-09-22\",\"2022-09-23\",\"2022-09-24\"],\"xaxis\":\"x\",\"y\":[null,null,null,null,48.0,48.0,48.0,48.0,48.0,48.0,48.0,48.0,48.0,50.0,50.0,50.0],\"yaxis\":\"y\",\"type\":\"scatter\"},{\"hovertemplate\":\"Worker=ALEX HUMBERTO CEBALLOS<br>Mes de Septiembre=%{x|%B %d, %Y}<br>Horas trabajadas [Hrs]=%{y}<extra></extra>\",\"legendgroup\":\"ALEX HUMBERTO CEBALLOS\",\"line\":{\"color\":\"#ab63fa\",\"dash\":\"solid\"},\"marker\":{\"symbol\":\"circle\"},\"mode\":\"lines\",\"name\":\"ALEX HUMBERTO CEBALLOS\",\"orientation\":\"v\",\"showlegend\":true,\"x\":[\"2022-09-01\",\"2022-09-02\",\"2022-09-03\",\"2022-09-07\",\"2022-09-08\",\"2022-09-09\",\"2022-09-11\",\"2022-09-12\",\"2022-09-15\",\"2022-09-16\",\"2022-09-17\",\"2022-09-19\",\"2022-09-21\",\"2022-09-22\",\"2022-09-23\",\"2022-09-24\"],\"xaxis\":\"x\",\"y\":[40.0,40.0,40.0,40.0,8.0,8.0,8.0,8.0,14.0,14.0,14.0,14.0,14.0,36.0,36.0,36.0],\"yaxis\":\"y\",\"type\":\"scatter\"},{\"hovertemplate\":\"Worker=BRAYAN FLORES<br>Mes de Septiembre=%{x|%B %d, %Y}<br>Horas trabajadas [Hrs]=%{y}<extra></extra>\",\"legendgroup\":\"BRAYAN FLORES\",\"line\":{\"color\":\"#FFA15A\",\"dash\":\"solid\"},\"marker\":{\"symbol\":\"circle\"},\"mode\":\"lines\",\"name\":\"BRAYAN FLORES\",\"orientation\":\"v\",\"showlegend\":true,\"x\":[\"2022-09-01\",\"2022-09-02\",\"2022-09-03\",\"2022-09-07\",\"2022-09-08\",\"2022-09-09\",\"2022-09-11\",\"2022-09-12\",\"2022-09-15\",\"2022-09-16\",\"2022-09-17\",\"2022-09-19\",\"2022-09-21\",\"2022-09-22\",\"2022-09-23\",\"2022-09-24\"],\"xaxis\":\"x\",\"y\":[66.0,66.0,66.0,66.0,43.0,43.0,43.0,43.0,41.0,41.0,41.0,41.0,41.0,57.0,57.0,57.0],\"yaxis\":\"y\",\"type\":\"scatter\"},{\"hovertemplate\":\"Worker=CARLOS AMAYA<br>Mes de Septiembre=%{x|%B %d, %Y}<br>Horas trabajadas [Hrs]=%{y}<extra></extra>\",\"legendgroup\":\"CARLOS AMAYA\",\"line\":{\"color\":\"#19d3f3\",\"dash\":\"solid\"},\"marker\":{\"symbol\":\"circle\"},\"mode\":\"lines\",\"name\":\"CARLOS AMAYA\",\"orientation\":\"v\",\"showlegend\":true,\"x\":[\"2022-09-01\",\"2022-09-02\",\"2022-09-03\",\"2022-09-07\",\"2022-09-08\",\"2022-09-09\",\"2022-09-11\",\"2022-09-12\",\"2022-09-15\",\"2022-09-16\",\"2022-09-17\",\"2022-09-19\",\"2022-09-21\",\"2022-09-22\",\"2022-09-23\",\"2022-09-24\"],\"xaxis\":\"x\",\"y\":[null,null,54.0,54.0,54.0,54.0,54.0,44.0,44.0,44.0,50.0,50.0,50.0,50.0,50.0,46.0],\"yaxis\":\"y\",\"type\":\"scatter\"},{\"hovertemplate\":\"Worker=CRISTIAN HERNANDEZ<br>Mes de Septiembre=%{x|%B %d, %Y}<br>Horas trabajadas [Hrs]=%{y}<extra></extra>\",\"legendgroup\":\"CRISTIAN HERNANDEZ\",\"line\":{\"color\":\"#FF6692\",\"dash\":\"solid\"},\"marker\":{\"symbol\":\"circle\"},\"mode\":\"lines\",\"name\":\"CRISTIAN HERNANDEZ\",\"orientation\":\"v\",\"showlegend\":true,\"x\":[\"2022-09-01\",\"2022-09-02\",\"2022-09-03\",\"2022-09-07\",\"2022-09-08\",\"2022-09-09\",\"2022-09-11\",\"2022-09-12\",\"2022-09-15\",\"2022-09-16\",\"2022-09-17\",\"2022-09-19\",\"2022-09-21\",\"2022-09-22\",\"2022-09-23\",\"2022-09-24\"],\"xaxis\":\"x\",\"y\":[null,null,null,null,48.0,48.0,48.0,48.0,48.0,48.0,48.0,48.0,48.0,50.0,50.0,50.0],\"yaxis\":\"y\",\"type\":\"scatter\"},{\"hovertemplate\":\"Worker=CRISTOFER GOMEZ<br>Mes de Septiembre=%{x|%B %d, %Y}<br>Horas trabajadas [Hrs]=%{y}<extra></extra>\",\"legendgroup\":\"CRISTOFER GOMEZ\",\"line\":{\"color\":\"#B6E880\",\"dash\":\"solid\"},\"marker\":{\"symbol\":\"circle\"},\"mode\":\"lines\",\"name\":\"CRISTOFER GOMEZ\",\"orientation\":\"v\",\"showlegend\":true,\"x\":[\"2022-09-01\",\"2022-09-02\",\"2022-09-03\",\"2022-09-07\",\"2022-09-08\",\"2022-09-09\",\"2022-09-11\",\"2022-09-12\",\"2022-09-15\",\"2022-09-16\",\"2022-09-17\",\"2022-09-19\",\"2022-09-21\",\"2022-09-22\",\"2022-09-23\",\"2022-09-24\"],\"xaxis\":\"x\",\"y\":[43.0,43.0,43.0,43.0,40.0,40.0,40.0,40.0,35.0,35.0,35.0,35.0,35.0,47.0,47.0,47.0],\"yaxis\":\"y\",\"type\":\"scatter\"},{\"hovertemplate\":\"Worker=ELDER JOSUE ROSALES QUINTANILLA<br>Mes de Septiembre=%{x|%B %d, %Y}<br>Horas trabajadas [Hrs]=%{y}<extra></extra>\",\"legendgroup\":\"ELDER JOSUE ROSALES QUINTANILLA\",\"line\":{\"color\":\"#FF97FF\",\"dash\":\"solid\"},\"marker\":{\"symbol\":\"circle\"},\"mode\":\"lines\",\"name\":\"ELDER JOSUE ROSALES QUINTANILLA\",\"orientation\":\"v\",\"showlegend\":true,\"x\":[\"2022-09-01\",\"2022-09-02\",\"2022-09-03\",\"2022-09-07\",\"2022-09-08\",\"2022-09-09\",\"2022-09-11\",\"2022-09-12\",\"2022-09-15\",\"2022-09-16\",\"2022-09-17\",\"2022-09-19\",\"2022-09-21\",\"2022-09-22\",\"2022-09-23\",\"2022-09-24\"],\"xaxis\":\"x\",\"y\":[46.0,46.0,46.0,46.0,60.0,60.0,60.0,60.0,59.0,59.0,59.0,59.0,59.0,48.0,48.0,48.0],\"yaxis\":\"y\",\"type\":\"scatter\"},{\"hovertemplate\":\"Worker=ENEC PEREZ<br>Mes de Septiembre=%{x|%B %d, %Y}<br>Horas trabajadas [Hrs]=%{y}<extra></extra>\",\"legendgroup\":\"ENEC PEREZ\",\"line\":{\"color\":\"#FECB52\",\"dash\":\"solid\"},\"marker\":{\"symbol\":\"circle\"},\"mode\":\"lines\",\"name\":\"ENEC PEREZ\",\"orientation\":\"v\",\"showlegend\":true,\"x\":[\"2022-09-01\",\"2022-09-02\",\"2022-09-03\",\"2022-09-07\",\"2022-09-08\",\"2022-09-09\",\"2022-09-11\",\"2022-09-12\",\"2022-09-15\",\"2022-09-16\",\"2022-09-17\",\"2022-09-19\",\"2022-09-21\",\"2022-09-22\",\"2022-09-23\",\"2022-09-24\"],\"xaxis\":\"x\",\"y\":[68.0,68.0,68.0,68.0,68.0,48.0,48.0,48.0,48.0,48.0,48.0,48.0,48.0,48.0,48.0,48.0],\"yaxis\":\"y\",\"type\":\"scatter\"},{\"hovertemplate\":\"Worker=GIANCARLO CUEVAS<br>Mes de Septiembre=%{x|%B %d, %Y}<br>Horas trabajadas [Hrs]=%{y}<extra></extra>\",\"legendgroup\":\"GIANCARLO CUEVAS\",\"line\":{\"color\":\"#636efa\",\"dash\":\"solid\"},\"marker\":{\"symbol\":\"circle\"},\"mode\":\"lines\",\"name\":\"GIANCARLO CUEVAS\",\"orientation\":\"v\",\"showlegend\":true,\"x\":[\"2022-09-01\",\"2022-09-02\",\"2022-09-03\",\"2022-09-07\",\"2022-09-08\",\"2022-09-09\",\"2022-09-11\",\"2022-09-12\",\"2022-09-15\",\"2022-09-16\",\"2022-09-17\",\"2022-09-19\",\"2022-09-21\",\"2022-09-22\",\"2022-09-23\",\"2022-09-24\"],\"xaxis\":\"x\",\"y\":[54.0,54.0,54.0,54.0,31.0,31.0,31.0,31.0,43.0,43.0,43.0,43.0,43.0,42.0,42.0,42.0],\"yaxis\":\"y\",\"type\":\"scatter\"},{\"hovertemplate\":\"Worker=IDALIA DEL CARMEN IGLESIAS<br>Mes de Septiembre=%{x|%B %d, %Y}<br>Horas trabajadas [Hrs]=%{y}<extra></extra>\",\"legendgroup\":\"IDALIA DEL CARMEN IGLESIAS\",\"line\":{\"color\":\"#EF553B\",\"dash\":\"solid\"},\"marker\":{\"symbol\":\"circle\"},\"mode\":\"lines\",\"name\":\"IDALIA DEL CARMEN IGLESIAS\",\"orientation\":\"v\",\"showlegend\":true,\"x\":[\"2022-09-01\",\"2022-09-02\",\"2022-09-03\",\"2022-09-07\",\"2022-09-08\",\"2022-09-09\",\"2022-09-11\",\"2022-09-12\",\"2022-09-15\",\"2022-09-16\",\"2022-09-17\",\"2022-09-19\",\"2022-09-21\",\"2022-09-22\",\"2022-09-23\",\"2022-09-24\"],\"xaxis\":\"x\",\"y\":[60.0,60.0,60.0,60.0,31.0,31.0,31.0,31.0,39.0,39.0,39.0,39.0,39.0,56.0,56.0,56.0],\"yaxis\":\"y\",\"type\":\"scatter\"},{\"hovertemplate\":\"Worker=ISAAC GUERRA<br>Mes de Septiembre=%{x|%B %d, %Y}<br>Horas trabajadas [Hrs]=%{y}<extra></extra>\",\"legendgroup\":\"ISAAC GUERRA\",\"line\":{\"color\":\"#00cc96\",\"dash\":\"solid\"},\"marker\":{\"symbol\":\"circle\"},\"mode\":\"lines\",\"name\":\"ISAAC GUERRA\",\"orientation\":\"v\",\"showlegend\":true,\"x\":[\"2022-09-01\",\"2022-09-02\",\"2022-09-03\",\"2022-09-07\",\"2022-09-08\",\"2022-09-09\",\"2022-09-11\",\"2022-09-12\",\"2022-09-15\",\"2022-09-16\",\"2022-09-17\",\"2022-09-19\",\"2022-09-21\",\"2022-09-22\",\"2022-09-23\",\"2022-09-24\"],\"xaxis\":\"x\",\"y\":[45.0,45.0,45.0,45.0,45.0,45.0,45.0,45.0,45.0,45.0,45.0,45.0,45.0,45.0,45.0,45.0],\"yaxis\":\"y\",\"type\":\"scatter\"},{\"hovertemplate\":\"Worker=JENIFER GONZALEZ<br>Mes de Septiembre=%{x|%B %d, %Y}<br>Horas trabajadas [Hrs]=%{y}<extra></extra>\",\"legendgroup\":\"JENIFER GONZALEZ\",\"line\":{\"color\":\"#ab63fa\",\"dash\":\"solid\"},\"marker\":{\"symbol\":\"circle\"},\"mode\":\"lines\",\"name\":\"JENIFER GONZALEZ\",\"orientation\":\"v\",\"showlegend\":true,\"x\":[\"2022-09-01\",\"2022-09-02\",\"2022-09-03\",\"2022-09-07\",\"2022-09-08\",\"2022-09-09\",\"2022-09-11\",\"2022-09-12\",\"2022-09-15\",\"2022-09-16\",\"2022-09-17\",\"2022-09-19\",\"2022-09-21\",\"2022-09-22\",\"2022-09-23\",\"2022-09-24\"],\"xaxis\":\"x\",\"y\":[null,null,null,null,null,42.0,42.0,42.0,42.0,42.0,42.0,42.0,42.0,42.0,42.0,40.0],\"yaxis\":\"y\",\"type\":\"scatter\"},{\"hovertemplate\":\"Worker=JESUS ANTONIO PE\\u00c3\\u0091A BUENDIA<br>Mes de Septiembre=%{x|%B %d, %Y}<br>Horas trabajadas [Hrs]=%{y}<extra></extra>\",\"legendgroup\":\"JESUS ANTONIO PE\\u00c3\\u0091A BUENDIA\",\"line\":{\"color\":\"#FFA15A\",\"dash\":\"solid\"},\"marker\":{\"symbol\":\"circle\"},\"mode\":\"lines\",\"name\":\"JESUS ANTONIO PE\\u00c3\\u0091A BUENDIA\",\"orientation\":\"v\",\"showlegend\":true,\"x\":[\"2022-09-01\",\"2022-09-02\",\"2022-09-03\",\"2022-09-07\",\"2022-09-08\",\"2022-09-09\",\"2022-09-11\",\"2022-09-12\",\"2022-09-15\",\"2022-09-16\",\"2022-09-17\",\"2022-09-19\",\"2022-09-21\",\"2022-09-22\",\"2022-09-23\",\"2022-09-24\"],\"xaxis\":\"x\",\"y\":[37.0,37.0,37.0,37.0,50.0,50.0,50.0,50.0,32.0,32.0,32.0,32.0,32.0,58.0,58.0,58.0],\"yaxis\":\"y\",\"type\":\"scatter\"},{\"hovertemplate\":\"Worker=JESUS ESPINOZA<br>Mes de Septiembre=%{x|%B %d, %Y}<br>Horas trabajadas [Hrs]=%{y}<extra></extra>\",\"legendgroup\":\"JESUS ESPINOZA\",\"line\":{\"color\":\"#19d3f3\",\"dash\":\"solid\"},\"marker\":{\"symbol\":\"circle\"},\"mode\":\"lines\",\"name\":\"JESUS ESPINOZA\",\"orientation\":\"v\",\"showlegend\":true,\"x\":[\"2022-09-01\",\"2022-09-02\",\"2022-09-03\",\"2022-09-07\",\"2022-09-08\",\"2022-09-09\",\"2022-09-11\",\"2022-09-12\",\"2022-09-15\",\"2022-09-16\",\"2022-09-17\",\"2022-09-19\",\"2022-09-21\",\"2022-09-22\",\"2022-09-23\",\"2022-09-24\"],\"xaxis\":\"x\",\"y\":[null,null,null,null,null,null,null,null,null,null,null,null,null,null,48.0,48.0],\"yaxis\":\"y\",\"type\":\"scatter\"},{\"hovertemplate\":\"Worker=JOSE ISRAEL POSADA<br>Mes de Septiembre=%{x|%B %d, %Y}<br>Horas trabajadas [Hrs]=%{y}<extra></extra>\",\"legendgroup\":\"JOSE ISRAEL POSADA\",\"line\":{\"color\":\"#FF6692\",\"dash\":\"solid\"},\"marker\":{\"symbol\":\"circle\"},\"mode\":\"lines\",\"name\":\"JOSE ISRAEL POSADA\",\"orientation\":\"v\",\"showlegend\":true,\"x\":[\"2022-09-01\",\"2022-09-02\",\"2022-09-03\",\"2022-09-07\",\"2022-09-08\",\"2022-09-09\",\"2022-09-11\",\"2022-09-12\",\"2022-09-15\",\"2022-09-16\",\"2022-09-17\",\"2022-09-19\",\"2022-09-21\",\"2022-09-22\",\"2022-09-23\",\"2022-09-24\"],\"xaxis\":\"x\",\"y\":[69.0,69.0,69.0,69.0,31.0,31.0,31.0,31.0,39.0,39.0,39.0,39.0,39.0,56.0,56.0,56.0],\"yaxis\":\"y\",\"type\":\"scatter\"},{\"hovertemplate\":\"Worker=JOSUE VASQUEZ<br>Mes de Septiembre=%{x|%B %d, %Y}<br>Horas trabajadas [Hrs]=%{y}<extra></extra>\",\"legendgroup\":\"JOSUE VASQUEZ\",\"line\":{\"color\":\"#B6E880\",\"dash\":\"solid\"},\"marker\":{\"symbol\":\"circle\"},\"mode\":\"lines\",\"name\":\"JOSUE VASQUEZ\",\"orientation\":\"v\",\"showlegend\":true,\"x\":[\"2022-09-01\",\"2022-09-02\",\"2022-09-03\",\"2022-09-07\",\"2022-09-08\",\"2022-09-09\",\"2022-09-11\",\"2022-09-12\",\"2022-09-15\",\"2022-09-16\",\"2022-09-17\",\"2022-09-19\",\"2022-09-21\",\"2022-09-22\",\"2022-09-23\",\"2022-09-24\"],\"xaxis\":\"x\",\"y\":[39.0,39.0,39.0,39.0,39.0,39.0,40.0,40.0,40.0,40.0,40.0,40.0,40.0,40.0,40.0,40.0],\"yaxis\":\"y\",\"type\":\"scatter\"},{\"hovertemplate\":\"Worker=JUAN ORELLANA<br>Mes de Septiembre=%{x|%B %d, %Y}<br>Horas trabajadas [Hrs]=%{y}<extra></extra>\",\"legendgroup\":\"JUAN ORELLANA\",\"line\":{\"color\":\"#FF97FF\",\"dash\":\"solid\"},\"marker\":{\"symbol\":\"circle\"},\"mode\":\"lines\",\"name\":\"JUAN ORELLANA\",\"orientation\":\"v\",\"showlegend\":true,\"x\":[\"2022-09-01\",\"2022-09-02\",\"2022-09-03\",\"2022-09-07\",\"2022-09-08\",\"2022-09-09\",\"2022-09-11\",\"2022-09-12\",\"2022-09-15\",\"2022-09-16\",\"2022-09-17\",\"2022-09-19\",\"2022-09-21\",\"2022-09-22\",\"2022-09-23\",\"2022-09-24\"],\"xaxis\":\"x\",\"y\":[70.0,70.0,70.0,70.0,53.0,53.0,53.0,53.0,55.0,55.0,55.0,55.0,55.0,45.0,45.0,45.0],\"yaxis\":\"y\",\"type\":\"scatter\"},{\"hovertemplate\":\"Worker=JUAN ROSALES<br>Mes de Septiembre=%{x|%B %d, %Y}<br>Horas trabajadas [Hrs]=%{y}<extra></extra>\",\"legendgroup\":\"JUAN ROSALES\",\"line\":{\"color\":\"#FECB52\",\"dash\":\"solid\"},\"marker\":{\"symbol\":\"circle\"},\"mode\":\"lines\",\"name\":\"JUAN ROSALES\",\"orientation\":\"v\",\"showlegend\":true,\"x\":[\"2022-09-01\",\"2022-09-02\",\"2022-09-03\",\"2022-09-07\",\"2022-09-08\",\"2022-09-09\",\"2022-09-11\",\"2022-09-12\",\"2022-09-15\",\"2022-09-16\",\"2022-09-17\",\"2022-09-19\",\"2022-09-21\",\"2022-09-22\",\"2022-09-23\",\"2022-09-24\"],\"xaxis\":\"x\",\"y\":[40.0,40.0,40.0,40.0,40.0,40.0,40.0,40.0,39.0,39.0,39.0,39.0,39.0,40.0,40.0,40.0],\"yaxis\":\"y\",\"type\":\"scatter\"},{\"hovertemplate\":\"Worker=JUNIOR JOEL CASTRO<br>Mes de Septiembre=%{x|%B %d, %Y}<br>Horas trabajadas [Hrs]=%{y}<extra></extra>\",\"legendgroup\":\"JUNIOR JOEL CASTRO\",\"line\":{\"color\":\"#636efa\",\"dash\":\"solid\"},\"marker\":{\"symbol\":\"circle\"},\"mode\":\"lines\",\"name\":\"JUNIOR JOEL CASTRO\",\"orientation\":\"v\",\"showlegend\":true,\"x\":[\"2022-09-01\",\"2022-09-02\",\"2022-09-03\",\"2022-09-07\",\"2022-09-08\",\"2022-09-09\",\"2022-09-11\",\"2022-09-12\",\"2022-09-15\",\"2022-09-16\",\"2022-09-17\",\"2022-09-19\",\"2022-09-21\",\"2022-09-22\",\"2022-09-23\",\"2022-09-24\"],\"xaxis\":\"x\",\"y\":[null,null,null,null,null,null,null,null,null,null,null,null,null,null,null,46.0],\"yaxis\":\"y\",\"type\":\"scatter\"},{\"hovertemplate\":\"Worker=KARLA CORTES<br>Mes de Septiembre=%{x|%B %d, %Y}<br>Horas trabajadas [Hrs]=%{y}<extra></extra>\",\"legendgroup\":\"KARLA CORTES\",\"line\":{\"color\":\"#EF553B\",\"dash\":\"solid\"},\"marker\":{\"symbol\":\"circle\"},\"mode\":\"lines\",\"name\":\"KARLA CORTES\",\"orientation\":\"v\",\"showlegend\":true,\"x\":[\"2022-09-01\",\"2022-09-02\",\"2022-09-03\",\"2022-09-07\",\"2022-09-08\",\"2022-09-09\",\"2022-09-11\",\"2022-09-12\",\"2022-09-15\",\"2022-09-16\",\"2022-09-17\",\"2022-09-19\",\"2022-09-21\",\"2022-09-22\",\"2022-09-23\",\"2022-09-24\"],\"xaxis\":\"x\",\"y\":[60.0,60.0,60.0,60.0,53.0,53.0,53.0,53.0,55.0,55.0,55.0,55.0,55.0,48.0,48.0,48.0],\"yaxis\":\"y\",\"type\":\"scatter\"},{\"hovertemplate\":\"Worker=KEVIN ALEXANDER ALFARO<br>Mes de Septiembre=%{x|%B %d, %Y}<br>Horas trabajadas [Hrs]=%{y}<extra></extra>\",\"legendgroup\":\"KEVIN ALEXANDER ALFARO\",\"line\":{\"color\":\"#00cc96\",\"dash\":\"solid\"},\"marker\":{\"symbol\":\"circle\"},\"mode\":\"lines\",\"name\":\"KEVIN ALEXANDER ALFARO\",\"orientation\":\"v\",\"showlegend\":true,\"x\":[\"2022-09-01\",\"2022-09-02\",\"2022-09-03\",\"2022-09-07\",\"2022-09-08\",\"2022-09-09\",\"2022-09-11\",\"2022-09-12\",\"2022-09-15\",\"2022-09-16\",\"2022-09-17\",\"2022-09-19\",\"2022-09-21\",\"2022-09-22\",\"2022-09-23\",\"2022-09-24\"],\"xaxis\":\"x\",\"y\":[56.0,56.0,56.0,56.0,56.0,56.0,56.0,56.0,46.0,46.0,46.0,46.0,46.0,58.5,58.5,58.5],\"yaxis\":\"y\",\"type\":\"scatter\"},{\"hovertemplate\":\"Worker=MARCO TULIO AMAYA FAGA<br>Mes de Septiembre=%{x|%B %d, %Y}<br>Horas trabajadas [Hrs]=%{y}<extra></extra>\",\"legendgroup\":\"MARCO TULIO AMAYA FAGA\",\"line\":{\"color\":\"#ab63fa\",\"dash\":\"solid\"},\"marker\":{\"symbol\":\"circle\"},\"mode\":\"lines\",\"name\":\"MARCO TULIO AMAYA FAGA\",\"orientation\":\"v\",\"showlegend\":true,\"x\":[\"2022-09-01\",\"2022-09-02\",\"2022-09-03\",\"2022-09-07\",\"2022-09-08\",\"2022-09-09\",\"2022-09-11\",\"2022-09-12\",\"2022-09-15\",\"2022-09-16\",\"2022-09-17\",\"2022-09-19\",\"2022-09-21\",\"2022-09-22\",\"2022-09-23\",\"2022-09-24\"],\"xaxis\":\"x\",\"y\":[59.0,59.0,59.0,59.0,31.0,31.0,31.0,31.0,51.0,51.0,51.0,51.0,51.0,39.0,39.0,39.0],\"yaxis\":\"y\",\"type\":\"scatter\"},{\"hovertemplate\":\"Worker=MOISES CARDOZA<br>Mes de Septiembre=%{x|%B %d, %Y}<br>Horas trabajadas [Hrs]=%{y}<extra></extra>\",\"legendgroup\":\"MOISES CARDOZA\",\"line\":{\"color\":\"#FFA15A\",\"dash\":\"solid\"},\"marker\":{\"symbol\":\"circle\"},\"mode\":\"lines\",\"name\":\"MOISES CARDOZA\",\"orientation\":\"v\",\"showlegend\":true,\"x\":[\"2022-09-01\",\"2022-09-02\",\"2022-09-03\",\"2022-09-07\",\"2022-09-08\",\"2022-09-09\",\"2022-09-11\",\"2022-09-12\",\"2022-09-15\",\"2022-09-16\",\"2022-09-17\",\"2022-09-19\",\"2022-09-21\",\"2022-09-22\",\"2022-09-23\",\"2022-09-24\"],\"xaxis\":\"x\",\"y\":[49.0,49.0,49.0,49.0,52.0,52.0,52.0,52.0,52.0,52.0,52.0,52.0,52.0,52.0,52.0,52.0],\"yaxis\":\"y\",\"type\":\"scatter\"},{\"hovertemplate\":\"Worker=OSMAN GARCIA PINEDA<br>Mes de Septiembre=%{x|%B %d, %Y}<br>Horas trabajadas [Hrs]=%{y}<extra></extra>\",\"legendgroup\":\"OSMAN GARCIA PINEDA\",\"line\":{\"color\":\"#19d3f3\",\"dash\":\"solid\"},\"marker\":{\"symbol\":\"circle\"},\"mode\":\"lines\",\"name\":\"OSMAN GARCIA PINEDA\",\"orientation\":\"v\",\"showlegend\":true,\"x\":[\"2022-09-01\",\"2022-09-02\",\"2022-09-03\",\"2022-09-07\",\"2022-09-08\",\"2022-09-09\",\"2022-09-11\",\"2022-09-12\",\"2022-09-15\",\"2022-09-16\",\"2022-09-17\",\"2022-09-19\",\"2022-09-21\",\"2022-09-22\",\"2022-09-23\",\"2022-09-24\"],\"xaxis\":\"x\",\"y\":[39.0,39.0,39.0,39.0,59.0,59.0,59.0,59.0,42.0,42.0,42.0,42.0,42.0,57.0,57.0,57.0],\"yaxis\":\"y\",\"type\":\"scatter\"},{\"hovertemplate\":\"Worker=RAFAEL LUNA<br>Mes de Septiembre=%{x|%B %d, %Y}<br>Horas trabajadas [Hrs]=%{y}<extra></extra>\",\"legendgroup\":\"RAFAEL LUNA\",\"line\":{\"color\":\"#FF6692\",\"dash\":\"solid\"},\"marker\":{\"symbol\":\"circle\"},\"mode\":\"lines\",\"name\":\"RAFAEL LUNA\",\"orientation\":\"v\",\"showlegend\":true,\"x\":[\"2022-09-01\",\"2022-09-02\",\"2022-09-03\",\"2022-09-07\",\"2022-09-08\",\"2022-09-09\",\"2022-09-11\",\"2022-09-12\",\"2022-09-15\",\"2022-09-16\",\"2022-09-17\",\"2022-09-19\",\"2022-09-21\",\"2022-09-22\",\"2022-09-23\",\"2022-09-24\"],\"xaxis\":\"x\",\"y\":[48.0,48.0,48.0,48.0,49.0,49.0,49.0,49.0,46.0,46.0,46.0,46.0,46.0,47.0,47.0,47.0],\"yaxis\":\"y\",\"type\":\"scatter\"},{\"hovertemplate\":\"Worker=ROBER POSADAS<br>Mes de Septiembre=%{x|%B %d, %Y}<br>Horas trabajadas [Hrs]=%{y}<extra></extra>\",\"legendgroup\":\"ROBER POSADAS\",\"line\":{\"color\":\"#B6E880\",\"dash\":\"solid\"},\"marker\":{\"symbol\":\"circle\"},\"mode\":\"lines\",\"name\":\"ROBER POSADAS\",\"orientation\":\"v\",\"showlegend\":true,\"x\":[\"2022-09-01\",\"2022-09-02\",\"2022-09-03\",\"2022-09-07\",\"2022-09-08\",\"2022-09-09\",\"2022-09-11\",\"2022-09-12\",\"2022-09-15\",\"2022-09-16\",\"2022-09-17\",\"2022-09-19\",\"2022-09-21\",\"2022-09-22\",\"2022-09-23\",\"2022-09-24\"],\"xaxis\":\"x\",\"y\":[53.0,53.0,53.0,53.0,48.0,48.0,48.0,48.0,59.0,59.0,59.0,59.0,59.0,48.0,48.0,48.0],\"yaxis\":\"y\",\"type\":\"scatter\"},{\"hovertemplate\":\"Worker=ROCIO MACIAS<br>Mes de Septiembre=%{x|%B %d, %Y}<br>Horas trabajadas [Hrs]=%{y}<extra></extra>\",\"legendgroup\":\"ROCIO MACIAS\",\"line\":{\"color\":\"#FF97FF\",\"dash\":\"solid\"},\"marker\":{\"symbol\":\"circle\"},\"mode\":\"lines\",\"name\":\"ROCIO MACIAS\",\"orientation\":\"v\",\"showlegend\":true,\"x\":[\"2022-09-01\",\"2022-09-02\",\"2022-09-03\",\"2022-09-07\",\"2022-09-08\",\"2022-09-09\",\"2022-09-11\",\"2022-09-12\",\"2022-09-15\",\"2022-09-16\",\"2022-09-17\",\"2022-09-19\",\"2022-09-21\",\"2022-09-22\",\"2022-09-23\",\"2022-09-24\"],\"xaxis\":\"x\",\"y\":[60.0,60.0,60.0,60.0,49.0,49.0,49.0,49.0,49.0,49.0,49.0,49.0,49.0,67.0,67.0,67.0],\"yaxis\":\"y\",\"type\":\"scatter\"},{\"hovertemplate\":\"Worker=VALENTIN LUVIANOS<br>Mes de Septiembre=%{x|%B %d, %Y}<br>Horas trabajadas [Hrs]=%{y}<extra></extra>\",\"legendgroup\":\"VALENTIN LUVIANOS\",\"line\":{\"color\":\"#FECB52\",\"dash\":\"solid\"},\"marker\":{\"symbol\":\"circle\"},\"mode\":\"lines\",\"name\":\"VALENTIN LUVIANOS\",\"orientation\":\"v\",\"showlegend\":true,\"x\":[\"2022-09-01\",\"2022-09-02\",\"2022-09-03\",\"2022-09-07\",\"2022-09-08\",\"2022-09-09\",\"2022-09-11\",\"2022-09-12\",\"2022-09-15\",\"2022-09-16\",\"2022-09-17\",\"2022-09-19\",\"2022-09-21\",\"2022-09-22\",\"2022-09-23\",\"2022-09-24\"],\"xaxis\":\"x\",\"y\":[45.0,45.0,45.0,45.0,45.0,45.0,45.0,45.0,45.0,45.0,45.0,45.0,45.0,45.0,45.0,45.0],\"yaxis\":\"y\",\"type\":\"scatter\"},{\"hovertemplate\":\"Worker=WILLIAM ERNESTO PERLA VENTURA<br>Mes de Septiembre=%{x|%B %d, %Y}<br>Horas trabajadas [Hrs]=%{y}<extra></extra>\",\"legendgroup\":\"WILLIAM ERNESTO PERLA VENTURA\",\"line\":{\"color\":\"#636efa\",\"dash\":\"solid\"},\"marker\":{\"symbol\":\"circle\"},\"mode\":\"lines\",\"name\":\"WILLIAM ERNESTO PERLA VENTURA\",\"orientation\":\"v\",\"showlegend\":true,\"x\":[\"2022-09-01\",\"2022-09-02\",\"2022-09-03\",\"2022-09-07\",\"2022-09-08\",\"2022-09-09\",\"2022-09-11\",\"2022-09-12\",\"2022-09-15\",\"2022-09-16\",\"2022-09-17\",\"2022-09-19\",\"2022-09-21\",\"2022-09-22\",\"2022-09-23\",\"2022-09-24\"],\"xaxis\":\"x\",\"y\":[59.0,59.0,59.0,59.0,58.0,58.0,58.0,58.0,41.0,41.0,41.0,41.0,41.0,55.0,55.0,55.0],\"yaxis\":\"y\",\"type\":\"scatter\"},{\"hovertemplate\":\"Worker=YADIRA MACIAS<br>Mes de Septiembre=%{x|%B %d, %Y}<br>Horas trabajadas [Hrs]=%{y}<extra></extra>\",\"legendgroup\":\"YADIRA MACIAS\",\"line\":{\"color\":\"#EF553B\",\"dash\":\"solid\"},\"marker\":{\"symbol\":\"circle\"},\"mode\":\"lines\",\"name\":\"YADIRA MACIAS\",\"orientation\":\"v\",\"showlegend\":true,\"x\":[\"2022-09-01\",\"2022-09-02\",\"2022-09-03\",\"2022-09-07\",\"2022-09-08\",\"2022-09-09\",\"2022-09-11\",\"2022-09-12\",\"2022-09-15\",\"2022-09-16\",\"2022-09-17\",\"2022-09-19\",\"2022-09-21\",\"2022-09-22\",\"2022-09-23\",\"2022-09-24\"],\"xaxis\":\"x\",\"y\":[null,47.0,47.0,47.0,47.0,63.0,63.0,63.0,63.0,63.0,63.0,47.0,47.0,47.0,40.0,40.0],\"yaxis\":\"y\",\"type\":\"scatter\"},{\"hovertemplate\":\"Worker=YORDY GARCIA PINEDA<br>Mes de Septiembre=%{x|%B %d, %Y}<br>Horas trabajadas [Hrs]=%{y}<extra></extra>\",\"legendgroup\":\"YORDY GARCIA PINEDA\",\"line\":{\"color\":\"#00cc96\",\"dash\":\"solid\"},\"marker\":{\"symbol\":\"circle\"},\"mode\":\"lines\",\"name\":\"YORDY GARCIA PINEDA\",\"orientation\":\"v\",\"showlegend\":true,\"x\":[\"2022-09-01\",\"2022-09-02\",\"2022-09-03\",\"2022-09-07\",\"2022-09-08\",\"2022-09-09\",\"2022-09-11\",\"2022-09-12\",\"2022-09-15\",\"2022-09-16\",\"2022-09-17\",\"2022-09-19\",\"2022-09-21\",\"2022-09-22\",\"2022-09-23\",\"2022-09-24\"],\"xaxis\":\"x\",\"y\":[null,null,null,null,null,null,null,null,null,null,null,null,null,50.0,50.0,50.0],\"yaxis\":\"y\",\"type\":\"scatter\"}],                        {\"template\":{\"data\":{\"bar\":[{\"error_x\":{\"color\":\"#2a3f5f\"},\"error_y\":{\"color\":\"#2a3f5f\"},\"marker\":{\"line\":{\"color\":\"#E5ECF6\",\"width\":0.5},\"pattern\":{\"fillmode\":\"overlay\",\"size\":10,\"solidity\":0.2}},\"type\":\"bar\"}],\"barpolar\":[{\"marker\":{\"line\":{\"color\":\"#E5ECF6\",\"width\":0.5},\"pattern\":{\"fillmode\":\"overlay\",\"size\":10,\"solidity\":0.2}},\"type\":\"barpolar\"}],\"carpet\":[{\"aaxis\":{\"endlinecolor\":\"#2a3f5f\",\"gridcolor\":\"white\",\"linecolor\":\"white\",\"minorgridcolor\":\"white\",\"startlinecolor\":\"#2a3f5f\"},\"baxis\":{\"endlinecolor\":\"#2a3f5f\",\"gridcolor\":\"white\",\"linecolor\":\"white\",\"minorgridcolor\":\"white\",\"startlinecolor\":\"#2a3f5f\"},\"type\":\"carpet\"}],\"choropleth\":[{\"colorbar\":{\"outlinewidth\":0,\"ticks\":\"\"},\"type\":\"choropleth\"}],\"contour\":[{\"colorbar\":{\"outlinewidth\":0,\"ticks\":\"\"},\"colorscale\":[[0.0,\"#0d0887\"],[0.1111111111111111,\"#46039f\"],[0.2222222222222222,\"#7201a8\"],[0.3333333333333333,\"#9c179e\"],[0.4444444444444444,\"#bd3786\"],[0.5555555555555556,\"#d8576b\"],[0.6666666666666666,\"#ed7953\"],[0.7777777777777778,\"#fb9f3a\"],[0.8888888888888888,\"#fdca26\"],[1.0,\"#f0f921\"]],\"type\":\"contour\"}],\"contourcarpet\":[{\"colorbar\":{\"outlinewidth\":0,\"ticks\":\"\"},\"type\":\"contourcarpet\"}],\"heatmap\":[{\"colorbar\":{\"outlinewidth\":0,\"ticks\":\"\"},\"colorscale\":[[0.0,\"#0d0887\"],[0.1111111111111111,\"#46039f\"],[0.2222222222222222,\"#7201a8\"],[0.3333333333333333,\"#9c179e\"],[0.4444444444444444,\"#bd3786\"],[0.5555555555555556,\"#d8576b\"],[0.6666666666666666,\"#ed7953\"],[0.7777777777777778,\"#fb9f3a\"],[0.8888888888888888,\"#fdca26\"],[1.0,\"#f0f921\"]],\"type\":\"heatmap\"}],\"heatmapgl\":[{\"colorbar\":{\"outlinewidth\":0,\"ticks\":\"\"},\"colorscale\":[[0.0,\"#0d0887\"],[0.1111111111111111,\"#46039f\"],[0.2222222222222222,\"#7201a8\"],[0.3333333333333333,\"#9c179e\"],[0.4444444444444444,\"#bd3786\"],[0.5555555555555556,\"#d8576b\"],[0.6666666666666666,\"#ed7953\"],[0.7777777777777778,\"#fb9f3a\"],[0.8888888888888888,\"#fdca26\"],[1.0,\"#f0f921\"]],\"type\":\"heatmapgl\"}],\"histogram\":[{\"marker\":{\"pattern\":{\"fillmode\":\"overlay\",\"size\":10,\"solidity\":0.2}},\"type\":\"histogram\"}],\"histogram2d\":[{\"colorbar\":{\"outlinewidth\":0,\"ticks\":\"\"},\"colorscale\":[[0.0,\"#0d0887\"],[0.1111111111111111,\"#46039f\"],[0.2222222222222222,\"#7201a8\"],[0.3333333333333333,\"#9c179e\"],[0.4444444444444444,\"#bd3786\"],[0.5555555555555556,\"#d8576b\"],[0.6666666666666666,\"#ed7953\"],[0.7777777777777778,\"#fb9f3a\"],[0.8888888888888888,\"#fdca26\"],[1.0,\"#f0f921\"]],\"type\":\"histogram2d\"}],\"histogram2dcontour\":[{\"colorbar\":{\"outlinewidth\":0,\"ticks\":\"\"},\"colorscale\":[[0.0,\"#0d0887\"],[0.1111111111111111,\"#46039f\"],[0.2222222222222222,\"#7201a8\"],[0.3333333333333333,\"#9c179e\"],[0.4444444444444444,\"#bd3786\"],[0.5555555555555556,\"#d8576b\"],[0.6666666666666666,\"#ed7953\"],[0.7777777777777778,\"#fb9f3a\"],[0.8888888888888888,\"#fdca26\"],[1.0,\"#f0f921\"]],\"type\":\"histogram2dcontour\"}],\"mesh3d\":[{\"colorbar\":{\"outlinewidth\":0,\"ticks\":\"\"},\"type\":\"mesh3d\"}],\"parcoords\":[{\"line\":{\"colorbar\":{\"outlinewidth\":0,\"ticks\":\"\"}},\"type\":\"parcoords\"}],\"pie\":[{\"automargin\":true,\"type\":\"pie\"}],\"scatter\":[{\"marker\":{\"colorbar\":{\"outlinewidth\":0,\"ticks\":\"\"}},\"type\":\"scatter\"}],\"scatter3d\":[{\"line\":{\"colorbar\":{\"outlinewidth\":0,\"ticks\":\"\"}},\"marker\":{\"colorbar\":{\"outlinewidth\":0,\"ticks\":\"\"}},\"type\":\"scatter3d\"}],\"scattercarpet\":[{\"marker\":{\"colorbar\":{\"outlinewidth\":0,\"ticks\":\"\"}},\"type\":\"scattercarpet\"}],\"scattergeo\":[{\"marker\":{\"colorbar\":{\"outlinewidth\":0,\"ticks\":\"\"}},\"type\":\"scattergeo\"}],\"scattergl\":[{\"marker\":{\"colorbar\":{\"outlinewidth\":0,\"ticks\":\"\"}},\"type\":\"scattergl\"}],\"scattermapbox\":[{\"marker\":{\"colorbar\":{\"outlinewidth\":0,\"ticks\":\"\"}},\"type\":\"scattermapbox\"}],\"scatterpolar\":[{\"marker\":{\"colorbar\":{\"outlinewidth\":0,\"ticks\":\"\"}},\"type\":\"scatterpolar\"}],\"scatterpolargl\":[{\"marker\":{\"colorbar\":{\"outlinewidth\":0,\"ticks\":\"\"}},\"type\":\"scatterpolargl\"}],\"scatterternary\":[{\"marker\":{\"colorbar\":{\"outlinewidth\":0,\"ticks\":\"\"}},\"type\":\"scatterternary\"}],\"surface\":[{\"colorbar\":{\"outlinewidth\":0,\"ticks\":\"\"},\"colorscale\":[[0.0,\"#0d0887\"],[0.1111111111111111,\"#46039f\"],[0.2222222222222222,\"#7201a8\"],[0.3333333333333333,\"#9c179e\"],[0.4444444444444444,\"#bd3786\"],[0.5555555555555556,\"#d8576b\"],[0.6666666666666666,\"#ed7953\"],[0.7777777777777778,\"#fb9f3a\"],[0.8888888888888888,\"#fdca26\"],[1.0,\"#f0f921\"]],\"type\":\"surface\"}],\"table\":[{\"cells\":{\"fill\":{\"color\":\"#EBF0F8\"},\"line\":{\"color\":\"white\"}},\"header\":{\"fill\":{\"color\":\"#C8D4E3\"},\"line\":{\"color\":\"white\"}},\"type\":\"table\"}]},\"layout\":{\"annotationdefaults\":{\"arrowcolor\":\"#2a3f5f\",\"arrowhead\":0,\"arrowwidth\":1},\"autotypenumbers\":\"strict\",\"coloraxis\":{\"colorbar\":{\"outlinewidth\":0,\"ticks\":\"\"}},\"colorscale\":{\"diverging\":[[0,\"#8e0152\"],[0.1,\"#c51b7d\"],[0.2,\"#de77ae\"],[0.3,\"#f1b6da\"],[0.4,\"#fde0ef\"],[0.5,\"#f7f7f7\"],[0.6,\"#e6f5d0\"],[0.7,\"#b8e186\"],[0.8,\"#7fbc41\"],[0.9,\"#4d9221\"],[1,\"#276419\"]],\"sequential\":[[0.0,\"#0d0887\"],[0.1111111111111111,\"#46039f\"],[0.2222222222222222,\"#7201a8\"],[0.3333333333333333,\"#9c179e\"],[0.4444444444444444,\"#bd3786\"],[0.5555555555555556,\"#d8576b\"],[0.6666666666666666,\"#ed7953\"],[0.7777777777777778,\"#fb9f3a\"],[0.8888888888888888,\"#fdca26\"],[1.0,\"#f0f921\"]],\"sequentialminus\":[[0.0,\"#0d0887\"],[0.1111111111111111,\"#46039f\"],[0.2222222222222222,\"#7201a8\"],[0.3333333333333333,\"#9c179e\"],[0.4444444444444444,\"#bd3786\"],[0.5555555555555556,\"#d8576b\"],[0.6666666666666666,\"#ed7953\"],[0.7777777777777778,\"#fb9f3a\"],[0.8888888888888888,\"#fdca26\"],[1.0,\"#f0f921\"]]},\"colorway\":[\"#636efa\",\"#EF553B\",\"#00cc96\",\"#ab63fa\",\"#FFA15A\",\"#19d3f3\",\"#FF6692\",\"#B6E880\",\"#FF97FF\",\"#FECB52\"],\"font\":{\"color\":\"#2a3f5f\"},\"geo\":{\"bgcolor\":\"white\",\"lakecolor\":\"white\",\"landcolor\":\"#E5ECF6\",\"showlakes\":true,\"showland\":true,\"subunitcolor\":\"white\"},\"hoverlabel\":{\"align\":\"left\"},\"hovermode\":\"closest\",\"mapbox\":{\"style\":\"light\"},\"paper_bgcolor\":\"white\",\"plot_bgcolor\":\"#E5ECF6\",\"polar\":{\"angularaxis\":{\"gridcolor\":\"white\",\"linecolor\":\"white\",\"ticks\":\"\"},\"bgcolor\":\"#E5ECF6\",\"radialaxis\":{\"gridcolor\":\"white\",\"linecolor\":\"white\",\"ticks\":\"\"}},\"scene\":{\"xaxis\":{\"backgroundcolor\":\"#E5ECF6\",\"gridcolor\":\"white\",\"gridwidth\":2,\"linecolor\":\"white\",\"showbackground\":true,\"ticks\":\"\",\"zerolinecolor\":\"white\"},\"yaxis\":{\"backgroundcolor\":\"#E5ECF6\",\"gridcolor\":\"white\",\"gridwidth\":2,\"linecolor\":\"white\",\"showbackground\":true,\"ticks\":\"\",\"zerolinecolor\":\"white\"},\"zaxis\":{\"backgroundcolor\":\"#E5ECF6\",\"gridcolor\":\"white\",\"gridwidth\":2,\"linecolor\":\"white\",\"showbackground\":true,\"ticks\":\"\",\"zerolinecolor\":\"white\"}},\"shapedefaults\":{\"line\":{\"color\":\"#2a3f5f\"}},\"ternary\":{\"aaxis\":{\"gridcolor\":\"white\",\"linecolor\":\"white\",\"ticks\":\"\"},\"baxis\":{\"gridcolor\":\"white\",\"linecolor\":\"white\",\"ticks\":\"\"},\"bgcolor\":\"#E5ECF6\",\"caxis\":{\"gridcolor\":\"white\",\"linecolor\":\"white\",\"ticks\":\"\"}},\"title\":{\"x\":0.05},\"xaxis\":{\"automargin\":true,\"gridcolor\":\"white\",\"linecolor\":\"white\",\"ticks\":\"\",\"title\":{\"standoff\":15},\"zerolinecolor\":\"white\",\"zerolinewidth\":2},\"yaxis\":{\"automargin\":true,\"gridcolor\":\"white\",\"linecolor\":\"white\",\"ticks\":\"\",\"title\":{\"standoff\":15},\"zerolinecolor\":\"white\",\"zerolinewidth\":2}}},\"xaxis\":{\"anchor\":\"y\",\"domain\":[0.0,1.0],\"title\":{\"text\":\"Mes de Septiembre\"},\"dtick\":\"D1\",\"tickformat\":\"%d %B \",\"ticklabelmode\":\"period\"},\"yaxis\":{\"anchor\":\"x\",\"domain\":[0.0,1.0],\"title\":{\"text\":\"Horas trabajadas [Hrs]\"}},\"legend\":{\"title\":{\"text\":\"Worker\"},\"tracegroupgap\":0},\"title\":{\"text\":\"Horas trabajadas durante el mes de Septiembre por Trabajador\",\"x\":0.5}},                        {\"responsive\": true}                    ).then(function(){\n",
              "                            \n",
              "var gd = document.getElementById('8ebdfc59-b4c0-4da1-a631-eb31cf0ea0d1');\n",
              "var x = new MutationObserver(function (mutations, observer) {{\n",
              "        var display = window.getComputedStyle(gd).display;\n",
              "        if (!display || display === 'none') {{\n",
              "            console.log([gd, 'removed!']);\n",
              "            Plotly.purge(gd);\n",
              "            observer.disconnect();\n",
              "        }}\n",
              "}});\n",
              "\n",
              "// Listen for the removal of the full notebook cells\n",
              "var notebookContainer = gd.closest('#notebook-container');\n",
              "if (notebookContainer) {{\n",
              "    x.observe(notebookContainer, {childList: true});\n",
              "}}\n",
              "\n",
              "// Listen for the clearing of the current output cell\n",
              "var outputEl = gd.closest('.output');\n",
              "if (outputEl) {{\n",
              "    x.observe(outputEl, {childList: true});\n",
              "}}\n",
              "\n",
              "                        })                };                            </script>        </div>\n",
              "</body>\n",
              "</html>"
            ]
          },
          "metadata": {}
        }
      ]
    },
    {
      "cell_type": "code",
      "source": [
        "#CORRER ESTA LINEA DE CODIGO\n",
        "workers['Quantity Pay'] = workers['Quantity Pay'].replace({',':''},regex=True)"
      ],
      "metadata": {
        "id": "_tk-GOp1YSBb"
      },
      "execution_count": null,
      "outputs": []
    },
    {
      "cell_type": "code",
      "source": [
        "#CORRER ESTA LINEA DE CODIGO\n",
        "workers['Quantity Pay'] = workers['Quantity Pay'].astype('float')"
      ],
      "metadata": {
        "id": "B-r47hlV7wPn"
      },
      "execution_count": null,
      "outputs": []
    },
    {
      "cell_type": "code",
      "source": [
        "#CORRER ESTA LINEA DE CODIGO\n",
        "df3 = workers.groupby(['Worker']).sum()"
      ],
      "metadata": {
        "id": "aeGK-BFvR1YI"
      },
      "execution_count": null,
      "outputs": []
    },
    {
      "cell_type": "code",
      "source": [
        "#CORRER ESTA LINEA DE CODIGO\n",
        "df3 = df3.reset_index()"
      ],
      "metadata": {
        "id": "Ycn03IAiaGrp"
      },
      "execution_count": null,
      "outputs": []
    },
    {
      "cell_type": "code",
      "source": [
        "df3"
      ],
      "metadata": {
        "id": "k_34oYTLaOUl"
      },
      "execution_count": null,
      "outputs": []
    },
    {
      "cell_type": "code",
      "source": [
        "figz = px.scatter(df3, x = 'Time Pay', y = 'Quantity Pay',\n",
        "     color = 'Worker', size = 'Quantity Pay',\n",
        "     labels = {'Quantity Pay':'Quantity Pay [USD]',\n",
        "                        'Time Pay': 'Time Pay [HRS]'})\n",
        "figz.update_layout(title_text = 'Relación de Horas Trabajadas y salario percibido por trabajador', title_x = 0.42)\n",
        "figz.show()"
      ],
      "metadata": {
        "colab": {
          "base_uri": "https://localhost:8080/",
          "height": 542
        },
        "id": "pHud8V-iR-19",
        "outputId": "3f5314fb-4d7e-4048-ef70-1e6d49bbf1fc"
      },
      "execution_count": null,
      "outputs": [
        {
          "output_type": "display_data",
          "data": {
            "text/html": [
              "<html>\n",
              "<head><meta charset=\"utf-8\" /></head>\n",
              "<body>\n",
              "    <div>            <script src=\"https://cdnjs.cloudflare.com/ajax/libs/mathjax/2.7.5/MathJax.js?config=TeX-AMS-MML_SVG\"></script><script type=\"text/javascript\">if (window.MathJax) {MathJax.Hub.Config({SVG: {font: \"STIX-Web\"}});}</script>                <script type=\"text/javascript\">window.PlotlyConfig = {MathJaxConfig: 'local'};</script>\n",
              "        <script src=\"https://cdn.plot.ly/plotly-2.8.3.min.js\"></script>                <div id=\"60f94be4-8e92-4c66-8814-9811a700014f\" class=\"plotly-graph-div\" style=\"height:525px; width:100%;\"></div>            <script type=\"text/javascript\">                                    window.PLOTLYENV=window.PLOTLYENV || {};                                    if (document.getElementById(\"60f94be4-8e92-4c66-8814-9811a700014f\")) {                    Plotly.newPlot(                        \"60f94be4-8e92-4c66-8814-9811a700014f\",                        [{\"hovertemplate\":\"Worker=ABACUC FIGUEROA<br>Time Pay [HRS]=%{x}<br>Quantity Pay [USD]=%{marker.size}<extra></extra>\",\"legendgroup\":\"ABACUC FIGUEROA\",\"marker\":{\"color\":\"#636efa\",\"size\":[5600.0],\"sizemode\":\"area\",\"sizeref\":14.0,\"symbol\":\"circle\"},\"mode\":\"markers\",\"name\":\"ABACUC FIGUEROA\",\"orientation\":\"v\",\"showlegend\":true,\"x\":[180.0],\"xaxis\":\"x\",\"y\":[5600.0],\"yaxis\":\"y\",\"type\":\"scatter\"},{\"hovertemplate\":\"Worker=ADOLFO SANCHEZ<br>Time Pay [HRS]=%{x}<br>Quantity Pay [USD]=%{marker.size}<extra></extra>\",\"legendgroup\":\"ADOLFO SANCHEZ\",\"marker\":{\"color\":\"#EF553B\",\"size\":[4240.0],\"sizemode\":\"area\",\"sizeref\":14.0,\"symbol\":\"circle\"},\"mode\":\"markers\",\"name\":\"ADOLFO SANCHEZ\",\"orientation\":\"v\",\"showlegend\":true,\"x\":[212.0],\"xaxis\":\"x\",\"y\":[4240.0],\"yaxis\":\"y\",\"type\":\"scatter\"},{\"hovertemplate\":\"Worker=ALEJANDRO SALAZAR<br>Time Pay [HRS]=%{x}<br>Quantity Pay [USD]=%{marker.size}<extra></extra>\",\"legendgroup\":\"ALEJANDRO SALAZAR\",\"marker\":{\"color\":\"#00cc96\",\"size\":[3066.0],\"sizemode\":\"area\",\"sizeref\":14.0,\"symbol\":\"circle\"},\"mode\":\"markers\",\"name\":\"ALEJANDRO SALAZAR\",\"orientation\":\"v\",\"showlegend\":true,\"x\":[146.0],\"xaxis\":\"x\",\"y\":[3066.0],\"yaxis\":\"y\",\"type\":\"scatter\"},{\"hovertemplate\":\"Worker=ALEX HUMBERTO CEBALLOS<br>Time Pay [HRS]=%{x}<br>Quantity Pay [USD]=%{marker.size}<extra></extra>\",\"legendgroup\":\"ALEX HUMBERTO CEBALLOS\",\"marker\":{\"color\":\"#ab63fa\",\"size\":[1470.0],\"sizemode\":\"area\",\"sizeref\":14.0,\"symbol\":\"circle\"},\"mode\":\"markers\",\"name\":\"ALEX HUMBERTO CEBALLOS\",\"orientation\":\"v\",\"showlegend\":true,\"x\":[98.0],\"xaxis\":\"x\",\"y\":[1470.0],\"yaxis\":\"y\",\"type\":\"scatter\"},{\"hovertemplate\":\"Worker=BRAYAN FLORES<br>Time Pay [HRS]=%{x}<br>Quantity Pay [USD]=%{marker.size}<extra></extra>\",\"legendgroup\":\"BRAYAN FLORES\",\"marker\":{\"color\":\"#FFA15A\",\"size\":[3105.0],\"sizemode\":\"area\",\"sizeref\":14.0,\"symbol\":\"circle\"},\"mode\":\"markers\",\"name\":\"BRAYAN FLORES\",\"orientation\":\"v\",\"showlegend\":true,\"x\":[207.0],\"xaxis\":\"x\",\"y\":[3105.0],\"yaxis\":\"y\",\"type\":\"scatter\"},{\"hovertemplate\":\"Worker=CARLOS AMAYA<br>Time Pay [HRS]=%{x}<br>Quantity Pay [USD]=%{marker.size}<extra></extra>\",\"legendgroup\":\"CARLOS AMAYA\",\"marker\":{\"color\":\"#19d3f3\",\"size\":[3686.0],\"sizemode\":\"area\",\"sizeref\":14.0,\"symbol\":\"circle\"},\"mode\":\"markers\",\"name\":\"CARLOS AMAYA\",\"orientation\":\"v\",\"showlegend\":true,\"x\":[194.0],\"xaxis\":\"x\",\"y\":[3686.0],\"yaxis\":\"y\",\"type\":\"scatter\"},{\"hovertemplate\":\"Worker=CRISTIAN HERNANDEZ<br>Time Pay [HRS]=%{x}<br>Quantity Pay [USD]=%{marker.size}<extra></extra>\",\"legendgroup\":\"CRISTIAN HERNANDEZ\",\"marker\":{\"color\":\"#FF6692\",\"size\":[3066.0],\"sizemode\":\"area\",\"sizeref\":14.0,\"symbol\":\"circle\"},\"mode\":\"markers\",\"name\":\"CRISTIAN HERNANDEZ\",\"orientation\":\"v\",\"showlegend\":true,\"x\":[146.0],\"xaxis\":\"x\",\"y\":[3066.0],\"yaxis\":\"y\",\"type\":\"scatter\"},{\"hovertemplate\":\"Worker=CRISTOFER GOMEZ<br>Time Pay [HRS]=%{x}<br>Quantity Pay [USD]=%{marker.size}<extra></extra>\",\"legendgroup\":\"CRISTOFER GOMEZ\",\"marker\":{\"color\":\"#B6E880\",\"size\":[2920.0],\"sizemode\":\"area\",\"sizeref\":14.0,\"symbol\":\"circle\"},\"mode\":\"markers\",\"name\":\"CRISTOFER GOMEZ\",\"orientation\":\"v\",\"showlegend\":true,\"x\":[165.0],\"xaxis\":\"x\",\"y\":[2920.0],\"yaxis\":\"y\",\"type\":\"scatter\"},{\"hovertemplate\":\"Worker=ELDER JOSUE ROSALES QUINTANILLA<br>Time Pay [HRS]=%{x}<br>Quantity Pay [USD]=%{marker.size}<extra></extra>\",\"legendgroup\":\"ELDER JOSUE ROSALES QUINTANILLA\",\"marker\":{\"color\":\"#FF97FF\",\"size\":[3195.0],\"sizemode\":\"area\",\"sizeref\":14.0,\"symbol\":\"circle\"},\"mode\":\"markers\",\"name\":\"ELDER JOSUE ROSALES QUINTANILLA\",\"orientation\":\"v\",\"showlegend\":true,\"x\":[213.0],\"xaxis\":\"x\",\"y\":[3195.0],\"yaxis\":\"y\",\"type\":\"scatter\"},{\"hovertemplate\":\"Worker=ENEC PEREZ<br>Time Pay [HRS]=%{x}<br>Quantity Pay [USD]=%{marker.size}<extra></extra>\",\"legendgroup\":\"ENEC PEREZ\",\"marker\":{\"color\":\"#FECB52\",\"size\":[3604.0],\"sizemode\":\"area\",\"sizeref\":14.0,\"symbol\":\"circle\"},\"mode\":\"markers\",\"name\":\"ENEC PEREZ\",\"orientation\":\"v\",\"showlegend\":true,\"x\":[212.0],\"xaxis\":\"x\",\"y\":[3604.0],\"yaxis\":\"y\",\"type\":\"scatter\"},{\"hovertemplate\":\"Worker=GIANCARLO CUEVAS<br>Time Pay [HRS]=%{x}<br>Quantity Pay [USD]=%{marker.size}<extra></extra>\",\"legendgroup\":\"GIANCARLO CUEVAS\",\"marker\":{\"color\":\"#636efa\",\"size\":[2550.0],\"sizemode\":\"area\",\"sizeref\":14.0,\"symbol\":\"circle\"},\"mode\":\"markers\",\"name\":\"GIANCARLO CUEVAS\",\"orientation\":\"v\",\"showlegend\":true,\"x\":[170.0],\"xaxis\":\"x\",\"y\":[2550.0],\"yaxis\":\"y\",\"type\":\"scatter\"},{\"hovertemplate\":\"Worker=IDALIA DEL CARMEN IGLESIAS<br>Time Pay [HRS]=%{x}<br>Quantity Pay [USD]=%{marker.size}<extra></extra>\",\"legendgroup\":\"IDALIA DEL CARMEN IGLESIAS\",\"marker\":{\"color\":\"#EF553B\",\"size\":[2976.0],\"sizemode\":\"area\",\"sizeref\":14.0,\"symbol\":\"circle\"},\"mode\":\"markers\",\"name\":\"IDALIA DEL CARMEN IGLESIAS\",\"orientation\":\"v\",\"showlegend\":true,\"x\":[186.0],\"xaxis\":\"x\",\"y\":[2976.0],\"yaxis\":\"y\",\"type\":\"scatter\"},{\"hovertemplate\":\"Worker=ISAAC GUERRA<br>Time Pay [HRS]=%{x}<br>Quantity Pay [USD]=%{marker.size}<extra></extra>\",\"legendgroup\":\"ISAAC GUERRA\",\"marker\":{\"color\":\"#00cc96\",\"size\":[4000.0],\"sizemode\":\"area\",\"sizeref\":14.0,\"symbol\":\"circle\"},\"mode\":\"markers\",\"name\":\"ISAAC GUERRA\",\"orientation\":\"v\",\"showlegend\":true,\"x\":[180.0],\"xaxis\":\"x\",\"y\":[4000.0],\"yaxis\":\"y\",\"type\":\"scatter\"},{\"hovertemplate\":\"Worker=JENIFER GONZALEZ<br>Time Pay [HRS]=%{x}<br>Quantity Pay [USD]=%{marker.size}<extra></extra>\",\"legendgroup\":\"JENIFER GONZALEZ\",\"marker\":{\"color\":\"#ab63fa\",\"size\":[1148.0],\"sizemode\":\"area\",\"sizeref\":14.0,\"symbol\":\"circle\"},\"mode\":\"markers\",\"name\":\"JENIFER GONZALEZ\",\"orientation\":\"v\",\"showlegend\":true,\"x\":[82.0],\"xaxis\":\"x\",\"y\":[1148.0],\"yaxis\":\"y\",\"type\":\"scatter\"},{\"hovertemplate\":\"Worker=JESUS ANTONIO PE\\u00c3\\u0091A BUENDIA<br>Time Pay [HRS]=%{x}<br>Quantity Pay [USD]=%{marker.size}<extra></extra>\",\"legendgroup\":\"JESUS ANTONIO PE\\u00c3\\u0091A BUENDIA\",\"marker\":{\"color\":\"#FFA15A\",\"size\":[3009.0],\"sizemode\":\"area\",\"sizeref\":14.0,\"symbol\":\"circle\"},\"mode\":\"markers\",\"name\":\"JESUS ANTONIO PE\\u00c3\\u0091A BUENDIA\",\"orientation\":\"v\",\"showlegend\":true,\"x\":[177.0],\"xaxis\":\"x\",\"y\":[3009.0],\"yaxis\":\"y\",\"type\":\"scatter\"},{\"hovertemplate\":\"Worker=JESUS ESPINOZA<br>Time Pay [HRS]=%{x}<br>Quantity Pay [USD]=%{marker.size}<extra></extra>\",\"legendgroup\":\"JESUS ESPINOZA\",\"marker\":{\"color\":\"#19d3f3\",\"size\":[960.0],\"sizemode\":\"area\",\"sizeref\":14.0,\"symbol\":\"circle\"},\"mode\":\"markers\",\"name\":\"JESUS ESPINOZA\",\"orientation\":\"v\",\"showlegend\":true,\"x\":[48.0],\"xaxis\":\"x\",\"y\":[960.0],\"yaxis\":\"y\",\"type\":\"scatter\"},{\"hovertemplate\":\"Worker=JOSE ISRAEL POSADA<br>Time Pay [HRS]=%{x}<br>Quantity Pay [USD]=%{marker.size}<extra></extra>\",\"legendgroup\":\"JOSE ISRAEL POSADA\",\"marker\":{\"color\":\"#FF6692\",\"size\":[3510.0],\"sizemode\":\"area\",\"sizeref\":14.0,\"symbol\":\"circle\"},\"mode\":\"markers\",\"name\":\"JOSE ISRAEL POSADA\",\"orientation\":\"v\",\"showlegend\":true,\"x\":[195.0],\"xaxis\":\"x\",\"y\":[3510.0],\"yaxis\":\"y\",\"type\":\"scatter\"},{\"hovertemplate\":\"Worker=JOSUE VASQUEZ<br>Time Pay [HRS]=%{x}<br>Quantity Pay [USD]=%{marker.size}<extra></extra>\",\"legendgroup\":\"JOSUE VASQUEZ\",\"marker\":{\"color\":\"#B6E880\",\"size\":[1580.0],\"sizemode\":\"area\",\"sizeref\":14.0,\"symbol\":\"circle\"},\"mode\":\"markers\",\"name\":\"JOSUE VASQUEZ\",\"orientation\":\"v\",\"showlegend\":true,\"x\":[79.0],\"xaxis\":\"x\",\"y\":[1580.0],\"yaxis\":\"y\",\"type\":\"scatter\"},{\"hovertemplate\":\"Worker=JUAN ORELLANA<br>Time Pay [HRS]=%{x}<br>Quantity Pay [USD]=%{marker.size}<extra></extra>\",\"legendgroup\":\"JUAN ORELLANA\",\"marker\":{\"color\":\"#FF97FF\",\"size\":[4460.0],\"sizemode\":\"area\",\"sizeref\":14.0,\"symbol\":\"circle\"},\"mode\":\"markers\",\"name\":\"JUAN ORELLANA\",\"orientation\":\"v\",\"showlegend\":true,\"x\":[223.0],\"xaxis\":\"x\",\"y\":[4460.0],\"yaxis\":\"y\",\"type\":\"scatter\"},{\"hovertemplate\":\"Worker=JUAN ROSALES<br>Time Pay [HRS]=%{x}<br>Quantity Pay [USD]=%{marker.size}<extra></extra>\",\"legendgroup\":\"JUAN ROSALES\",\"marker\":{\"color\":\"#FECB52\",\"size\":[3021.0],\"sizemode\":\"area\",\"sizeref\":14.0,\"symbol\":\"circle\"},\"mode\":\"markers\",\"name\":\"JUAN ROSALES\",\"orientation\":\"v\",\"showlegend\":true,\"x\":[159.0],\"xaxis\":\"x\",\"y\":[3021.0],\"yaxis\":\"y\",\"type\":\"scatter\"},{\"hovertemplate\":\"Worker=JUNIOR JOEL CASTRO<br>Time Pay [HRS]=%{x}<br>Quantity Pay [USD]=%{marker.size}<extra></extra>\",\"legendgroup\":\"JUNIOR JOEL CASTRO\",\"marker\":{\"color\":\"#636efa\",\"size\":[598.0],\"sizemode\":\"area\",\"sizeref\":14.0,\"symbol\":\"circle\"},\"mode\":\"markers\",\"name\":\"JUNIOR JOEL CASTRO\",\"orientation\":\"v\",\"showlegend\":true,\"x\":[46.0],\"xaxis\":\"x\",\"y\":[598.0],\"yaxis\":\"y\",\"type\":\"scatter\"},{\"hovertemplate\":\"Worker=KARLA CORTES<br>Time Pay [HRS]=%{x}<br>Quantity Pay [USD]=%{marker.size}<extra></extra>\",\"legendgroup\":\"KARLA CORTES\",\"marker\":{\"color\":\"#EF553B\",\"size\":[3672.0],\"sizemode\":\"area\",\"sizeref\":14.0,\"symbol\":\"circle\"},\"mode\":\"markers\",\"name\":\"KARLA CORTES\",\"orientation\":\"v\",\"showlegend\":true,\"x\":[216.0],\"xaxis\":\"x\",\"y\":[3672.0],\"yaxis\":\"y\",\"type\":\"scatter\"},{\"hovertemplate\":\"Worker=KEVIN ALEXANDER ALFARO<br>Time Pay [HRS]=%{x}<br>Quantity Pay [USD]=%{marker.size}<extra></extra>\",\"legendgroup\":\"KEVIN ALEXANDER ALFARO\",\"marker\":{\"color\":\"#00cc96\",\"size\":[4114.0],\"sizemode\":\"area\",\"sizeref\":14.0,\"symbol\":\"circle\"},\"mode\":\"markers\",\"name\":\"KEVIN ALEXANDER ALFARO\",\"orientation\":\"v\",\"showlegend\":true,\"x\":[216.5],\"xaxis\":\"x\",\"y\":[4114.0],\"yaxis\":\"y\",\"type\":\"scatter\"},{\"hovertemplate\":\"Worker=MARCO TULIO AMAYA FAGA<br>Time Pay [HRS]=%{x}<br>Quantity Pay [USD]=%{marker.size}<extra></extra>\",\"legendgroup\":\"MARCO TULIO AMAYA FAGA\",\"marker\":{\"color\":\"#ab63fa\",\"size\":[2880.0],\"sizemode\":\"area\",\"sizeref\":14.0,\"symbol\":\"circle\"},\"mode\":\"markers\",\"name\":\"MARCO TULIO AMAYA FAGA\",\"orientation\":\"v\",\"showlegend\":true,\"x\":[180.0],\"xaxis\":\"x\",\"y\":[2880.0],\"yaxis\":\"y\",\"type\":\"scatter\"},{\"hovertemplate\":\"Worker=MOISES CARDOZA<br>Time Pay [HRS]=%{x}<br>Quantity Pay [USD]=%{marker.size}<extra></extra>\",\"legendgroup\":\"MOISES CARDOZA\",\"marker\":{\"color\":\"#FFA15A\",\"size\":[3690.0],\"sizemode\":\"area\",\"sizeref\":14.0,\"symbol\":\"circle\"},\"mode\":\"markers\",\"name\":\"MOISES CARDOZA\",\"orientation\":\"v\",\"showlegend\":true,\"x\":[205.0],\"xaxis\":\"x\",\"y\":[3690.0],\"yaxis\":\"y\",\"type\":\"scatter\"},{\"hovertemplate\":\"Worker=OSMAN GARCIA PINEDA<br>Time Pay [HRS]=%{x}<br>Quantity Pay [USD]=%{marker.size}<extra></extra>\",\"legendgroup\":\"OSMAN GARCIA PINEDA\",\"marker\":{\"color\":\"#19d3f3\",\"size\":[3349.0],\"sizemode\":\"area\",\"sizeref\":14.0,\"symbol\":\"circle\"},\"mode\":\"markers\",\"name\":\"OSMAN GARCIA PINEDA\",\"orientation\":\"v\",\"showlegend\":true,\"x\":[197.0],\"xaxis\":\"x\",\"y\":[3349.0],\"yaxis\":\"y\",\"type\":\"scatter\"},{\"hovertemplate\":\"Worker=RAFAEL LUNA<br>Time Pay [HRS]=%{x}<br>Quantity Pay [USD]=%{marker.size}<extra></extra>\",\"legendgroup\":\"RAFAEL LUNA\",\"marker\":{\"color\":\"#FF6692\",\"size\":[3420.0],\"sizemode\":\"area\",\"sizeref\":14.0,\"symbol\":\"circle\"},\"mode\":\"markers\",\"name\":\"RAFAEL LUNA\",\"orientation\":\"v\",\"showlegend\":true,\"x\":[190.0],\"xaxis\":\"x\",\"y\":[3420.0],\"yaxis\":\"y\",\"type\":\"scatter\"},{\"hovertemplate\":\"Worker=ROBER POSADAS<br>Time Pay [HRS]=%{x}<br>Quantity Pay [USD]=%{marker.size}<extra></extra>\",\"legendgroup\":\"ROBER POSADAS\",\"marker\":{\"color\":\"#B6E880\",\"size\":[3120.0],\"sizemode\":\"area\",\"sizeref\":14.0,\"symbol\":\"circle\"},\"mode\":\"markers\",\"name\":\"ROBER POSADAS\",\"orientation\":\"v\",\"showlegend\":true,\"x\":[208.0],\"xaxis\":\"x\",\"y\":[3120.0],\"yaxis\":\"y\",\"type\":\"scatter\"},{\"hovertemplate\":\"Worker=ROCIO MACIAS<br>Time Pay [HRS]=%{x}<br>Quantity Pay [USD]=%{marker.size}<extra></extra>\",\"legendgroup\":\"ROCIO MACIAS\",\"marker\":{\"color\":\"#FF97FF\",\"size\":[1936.0],\"sizemode\":\"area\",\"sizeref\":14.0,\"symbol\":\"circle\"},\"mode\":\"markers\",\"name\":\"ROCIO MACIAS\",\"orientation\":\"v\",\"showlegend\":true,\"x\":[176.0],\"xaxis\":\"x\",\"y\":[1936.0],\"yaxis\":\"y\",\"type\":\"scatter\"},{\"hovertemplate\":\"Worker=VALENTIN LUVIANOS<br>Time Pay [HRS]=%{x}<br>Quantity Pay [USD]=%{marker.size}<extra></extra>\",\"legendgroup\":\"VALENTIN LUVIANOS\",\"marker\":{\"color\":\"#FECB52\",\"size\":[5200.0],\"sizemode\":\"area\",\"sizeref\":14.0,\"symbol\":\"circle\"},\"mode\":\"markers\",\"name\":\"VALENTIN LUVIANOS\",\"orientation\":\"v\",\"showlegend\":true,\"x\":[180.0],\"xaxis\":\"x\",\"y\":[5200.0],\"yaxis\":\"y\",\"type\":\"scatter\"},{\"hovertemplate\":\"Worker=WILLIAM ERNESTO PERLA VENTURA<br>Time Pay [HRS]=%{x}<br>Quantity Pay [USD]=%{marker.size}<extra></extra>\",\"legendgroup\":\"WILLIAM ERNESTO PERLA VENTURA\",\"marker\":{\"color\":\"#636efa\",\"size\":[3195.0],\"sizemode\":\"area\",\"sizeref\":14.0,\"symbol\":\"circle\"},\"mode\":\"markers\",\"name\":\"WILLIAM ERNESTO PERLA VENTURA\",\"orientation\":\"v\",\"showlegend\":true,\"x\":[213.0],\"xaxis\":\"x\",\"y\":[3195.0],\"yaxis\":\"y\",\"type\":\"scatter\"},{\"hovertemplate\":\"Worker=YADIRA MACIAS<br>Time Pay [HRS]=%{x}<br>Quantity Pay [USD]=%{marker.size}<extra></extra>\",\"legendgroup\":\"YADIRA MACIAS\",\"marker\":{\"color\":\"#EF553B\",\"size\":[3152.0],\"sizemode\":\"area\",\"sizeref\":14.0,\"symbol\":\"circle\"},\"mode\":\"markers\",\"name\":\"YADIRA MACIAS\",\"orientation\":\"v\",\"showlegend\":true,\"x\":[197.0],\"xaxis\":\"x\",\"y\":[3152.0],\"yaxis\":\"y\",\"type\":\"scatter\"},{\"hovertemplate\":\"Worker=YORDY GARCIA PINEDA<br>Time Pay [HRS]=%{x}<br>Quantity Pay [USD]=%{marker.size}<extra></extra>\",\"legendgroup\":\"YORDY GARCIA PINEDA\",\"marker\":{\"color\":\"#00cc96\",\"size\":[700.0],\"sizemode\":\"area\",\"sizeref\":14.0,\"symbol\":\"circle\"},\"mode\":\"markers\",\"name\":\"YORDY GARCIA PINEDA\",\"orientation\":\"v\",\"showlegend\":true,\"x\":[50.0],\"xaxis\":\"x\",\"y\":[700.0],\"yaxis\":\"y\",\"type\":\"scatter\"}],                        {\"template\":{\"data\":{\"bar\":[{\"error_x\":{\"color\":\"#2a3f5f\"},\"error_y\":{\"color\":\"#2a3f5f\"},\"marker\":{\"line\":{\"color\":\"#E5ECF6\",\"width\":0.5},\"pattern\":{\"fillmode\":\"overlay\",\"size\":10,\"solidity\":0.2}},\"type\":\"bar\"}],\"barpolar\":[{\"marker\":{\"line\":{\"color\":\"#E5ECF6\",\"width\":0.5},\"pattern\":{\"fillmode\":\"overlay\",\"size\":10,\"solidity\":0.2}},\"type\":\"barpolar\"}],\"carpet\":[{\"aaxis\":{\"endlinecolor\":\"#2a3f5f\",\"gridcolor\":\"white\",\"linecolor\":\"white\",\"minorgridcolor\":\"white\",\"startlinecolor\":\"#2a3f5f\"},\"baxis\":{\"endlinecolor\":\"#2a3f5f\",\"gridcolor\":\"white\",\"linecolor\":\"white\",\"minorgridcolor\":\"white\",\"startlinecolor\":\"#2a3f5f\"},\"type\":\"carpet\"}],\"choropleth\":[{\"colorbar\":{\"outlinewidth\":0,\"ticks\":\"\"},\"type\":\"choropleth\"}],\"contour\":[{\"colorbar\":{\"outlinewidth\":0,\"ticks\":\"\"},\"colorscale\":[[0.0,\"#0d0887\"],[0.1111111111111111,\"#46039f\"],[0.2222222222222222,\"#7201a8\"],[0.3333333333333333,\"#9c179e\"],[0.4444444444444444,\"#bd3786\"],[0.5555555555555556,\"#d8576b\"],[0.6666666666666666,\"#ed7953\"],[0.7777777777777778,\"#fb9f3a\"],[0.8888888888888888,\"#fdca26\"],[1.0,\"#f0f921\"]],\"type\":\"contour\"}],\"contourcarpet\":[{\"colorbar\":{\"outlinewidth\":0,\"ticks\":\"\"},\"type\":\"contourcarpet\"}],\"heatmap\":[{\"colorbar\":{\"outlinewidth\":0,\"ticks\":\"\"},\"colorscale\":[[0.0,\"#0d0887\"],[0.1111111111111111,\"#46039f\"],[0.2222222222222222,\"#7201a8\"],[0.3333333333333333,\"#9c179e\"],[0.4444444444444444,\"#bd3786\"],[0.5555555555555556,\"#d8576b\"],[0.6666666666666666,\"#ed7953\"],[0.7777777777777778,\"#fb9f3a\"],[0.8888888888888888,\"#fdca26\"],[1.0,\"#f0f921\"]],\"type\":\"heatmap\"}],\"heatmapgl\":[{\"colorbar\":{\"outlinewidth\":0,\"ticks\":\"\"},\"colorscale\":[[0.0,\"#0d0887\"],[0.1111111111111111,\"#46039f\"],[0.2222222222222222,\"#7201a8\"],[0.3333333333333333,\"#9c179e\"],[0.4444444444444444,\"#bd3786\"],[0.5555555555555556,\"#d8576b\"],[0.6666666666666666,\"#ed7953\"],[0.7777777777777778,\"#fb9f3a\"],[0.8888888888888888,\"#fdca26\"],[1.0,\"#f0f921\"]],\"type\":\"heatmapgl\"}],\"histogram\":[{\"marker\":{\"pattern\":{\"fillmode\":\"overlay\",\"size\":10,\"solidity\":0.2}},\"type\":\"histogram\"}],\"histogram2d\":[{\"colorbar\":{\"outlinewidth\":0,\"ticks\":\"\"},\"colorscale\":[[0.0,\"#0d0887\"],[0.1111111111111111,\"#46039f\"],[0.2222222222222222,\"#7201a8\"],[0.3333333333333333,\"#9c179e\"],[0.4444444444444444,\"#bd3786\"],[0.5555555555555556,\"#d8576b\"],[0.6666666666666666,\"#ed7953\"],[0.7777777777777778,\"#fb9f3a\"],[0.8888888888888888,\"#fdca26\"],[1.0,\"#f0f921\"]],\"type\":\"histogram2d\"}],\"histogram2dcontour\":[{\"colorbar\":{\"outlinewidth\":0,\"ticks\":\"\"},\"colorscale\":[[0.0,\"#0d0887\"],[0.1111111111111111,\"#46039f\"],[0.2222222222222222,\"#7201a8\"],[0.3333333333333333,\"#9c179e\"],[0.4444444444444444,\"#bd3786\"],[0.5555555555555556,\"#d8576b\"],[0.6666666666666666,\"#ed7953\"],[0.7777777777777778,\"#fb9f3a\"],[0.8888888888888888,\"#fdca26\"],[1.0,\"#f0f921\"]],\"type\":\"histogram2dcontour\"}],\"mesh3d\":[{\"colorbar\":{\"outlinewidth\":0,\"ticks\":\"\"},\"type\":\"mesh3d\"}],\"parcoords\":[{\"line\":{\"colorbar\":{\"outlinewidth\":0,\"ticks\":\"\"}},\"type\":\"parcoords\"}],\"pie\":[{\"automargin\":true,\"type\":\"pie\"}],\"scatter\":[{\"marker\":{\"colorbar\":{\"outlinewidth\":0,\"ticks\":\"\"}},\"type\":\"scatter\"}],\"scatter3d\":[{\"line\":{\"colorbar\":{\"outlinewidth\":0,\"ticks\":\"\"}},\"marker\":{\"colorbar\":{\"outlinewidth\":0,\"ticks\":\"\"}},\"type\":\"scatter3d\"}],\"scattercarpet\":[{\"marker\":{\"colorbar\":{\"outlinewidth\":0,\"ticks\":\"\"}},\"type\":\"scattercarpet\"}],\"scattergeo\":[{\"marker\":{\"colorbar\":{\"outlinewidth\":0,\"ticks\":\"\"}},\"type\":\"scattergeo\"}],\"scattergl\":[{\"marker\":{\"colorbar\":{\"outlinewidth\":0,\"ticks\":\"\"}},\"type\":\"scattergl\"}],\"scattermapbox\":[{\"marker\":{\"colorbar\":{\"outlinewidth\":0,\"ticks\":\"\"}},\"type\":\"scattermapbox\"}],\"scatterpolar\":[{\"marker\":{\"colorbar\":{\"outlinewidth\":0,\"ticks\":\"\"}},\"type\":\"scatterpolar\"}],\"scatterpolargl\":[{\"marker\":{\"colorbar\":{\"outlinewidth\":0,\"ticks\":\"\"}},\"type\":\"scatterpolargl\"}],\"scatterternary\":[{\"marker\":{\"colorbar\":{\"outlinewidth\":0,\"ticks\":\"\"}},\"type\":\"scatterternary\"}],\"surface\":[{\"colorbar\":{\"outlinewidth\":0,\"ticks\":\"\"},\"colorscale\":[[0.0,\"#0d0887\"],[0.1111111111111111,\"#46039f\"],[0.2222222222222222,\"#7201a8\"],[0.3333333333333333,\"#9c179e\"],[0.4444444444444444,\"#bd3786\"],[0.5555555555555556,\"#d8576b\"],[0.6666666666666666,\"#ed7953\"],[0.7777777777777778,\"#fb9f3a\"],[0.8888888888888888,\"#fdca26\"],[1.0,\"#f0f921\"]],\"type\":\"surface\"}],\"table\":[{\"cells\":{\"fill\":{\"color\":\"#EBF0F8\"},\"line\":{\"color\":\"white\"}},\"header\":{\"fill\":{\"color\":\"#C8D4E3\"},\"line\":{\"color\":\"white\"}},\"type\":\"table\"}]},\"layout\":{\"annotationdefaults\":{\"arrowcolor\":\"#2a3f5f\",\"arrowhead\":0,\"arrowwidth\":1},\"autotypenumbers\":\"strict\",\"coloraxis\":{\"colorbar\":{\"outlinewidth\":0,\"ticks\":\"\"}},\"colorscale\":{\"diverging\":[[0,\"#8e0152\"],[0.1,\"#c51b7d\"],[0.2,\"#de77ae\"],[0.3,\"#f1b6da\"],[0.4,\"#fde0ef\"],[0.5,\"#f7f7f7\"],[0.6,\"#e6f5d0\"],[0.7,\"#b8e186\"],[0.8,\"#7fbc41\"],[0.9,\"#4d9221\"],[1,\"#276419\"]],\"sequential\":[[0.0,\"#0d0887\"],[0.1111111111111111,\"#46039f\"],[0.2222222222222222,\"#7201a8\"],[0.3333333333333333,\"#9c179e\"],[0.4444444444444444,\"#bd3786\"],[0.5555555555555556,\"#d8576b\"],[0.6666666666666666,\"#ed7953\"],[0.7777777777777778,\"#fb9f3a\"],[0.8888888888888888,\"#fdca26\"],[1.0,\"#f0f921\"]],\"sequentialminus\":[[0.0,\"#0d0887\"],[0.1111111111111111,\"#46039f\"],[0.2222222222222222,\"#7201a8\"],[0.3333333333333333,\"#9c179e\"],[0.4444444444444444,\"#bd3786\"],[0.5555555555555556,\"#d8576b\"],[0.6666666666666666,\"#ed7953\"],[0.7777777777777778,\"#fb9f3a\"],[0.8888888888888888,\"#fdca26\"],[1.0,\"#f0f921\"]]},\"colorway\":[\"#636efa\",\"#EF553B\",\"#00cc96\",\"#ab63fa\",\"#FFA15A\",\"#19d3f3\",\"#FF6692\",\"#B6E880\",\"#FF97FF\",\"#FECB52\"],\"font\":{\"color\":\"#2a3f5f\"},\"geo\":{\"bgcolor\":\"white\",\"lakecolor\":\"white\",\"landcolor\":\"#E5ECF6\",\"showlakes\":true,\"showland\":true,\"subunitcolor\":\"white\"},\"hoverlabel\":{\"align\":\"left\"},\"hovermode\":\"closest\",\"mapbox\":{\"style\":\"light\"},\"paper_bgcolor\":\"white\",\"plot_bgcolor\":\"#E5ECF6\",\"polar\":{\"angularaxis\":{\"gridcolor\":\"white\",\"linecolor\":\"white\",\"ticks\":\"\"},\"bgcolor\":\"#E5ECF6\",\"radialaxis\":{\"gridcolor\":\"white\",\"linecolor\":\"white\",\"ticks\":\"\"}},\"scene\":{\"xaxis\":{\"backgroundcolor\":\"#E5ECF6\",\"gridcolor\":\"white\",\"gridwidth\":2,\"linecolor\":\"white\",\"showbackground\":true,\"ticks\":\"\",\"zerolinecolor\":\"white\"},\"yaxis\":{\"backgroundcolor\":\"#E5ECF6\",\"gridcolor\":\"white\",\"gridwidth\":2,\"linecolor\":\"white\",\"showbackground\":true,\"ticks\":\"\",\"zerolinecolor\":\"white\"},\"zaxis\":{\"backgroundcolor\":\"#E5ECF6\",\"gridcolor\":\"white\",\"gridwidth\":2,\"linecolor\":\"white\",\"showbackground\":true,\"ticks\":\"\",\"zerolinecolor\":\"white\"}},\"shapedefaults\":{\"line\":{\"color\":\"#2a3f5f\"}},\"ternary\":{\"aaxis\":{\"gridcolor\":\"white\",\"linecolor\":\"white\",\"ticks\":\"\"},\"baxis\":{\"gridcolor\":\"white\",\"linecolor\":\"white\",\"ticks\":\"\"},\"bgcolor\":\"#E5ECF6\",\"caxis\":{\"gridcolor\":\"white\",\"linecolor\":\"white\",\"ticks\":\"\"}},\"title\":{\"x\":0.05},\"xaxis\":{\"automargin\":true,\"gridcolor\":\"white\",\"linecolor\":\"white\",\"ticks\":\"\",\"title\":{\"standoff\":15},\"zerolinecolor\":\"white\",\"zerolinewidth\":2},\"yaxis\":{\"automargin\":true,\"gridcolor\":\"white\",\"linecolor\":\"white\",\"ticks\":\"\",\"title\":{\"standoff\":15},\"zerolinecolor\":\"white\",\"zerolinewidth\":2}}},\"xaxis\":{\"anchor\":\"y\",\"domain\":[0.0,1.0],\"title\":{\"text\":\"Time Pay [HRS]\"}},\"yaxis\":{\"anchor\":\"x\",\"domain\":[0.0,1.0],\"title\":{\"text\":\"Quantity Pay [USD]\"}},\"legend\":{\"title\":{\"text\":\"Worker\"},\"tracegroupgap\":0,\"itemsizing\":\"constant\"},\"margin\":{\"t\":60},\"title\":{\"text\":\"Relaci\\u00f3n de Horas Trabajadas y salario percibido por trabajador\",\"x\":0.42}},                        {\"responsive\": true}                    ).then(function(){\n",
              "                            \n",
              "var gd = document.getElementById('60f94be4-8e92-4c66-8814-9811a700014f');\n",
              "var x = new MutationObserver(function (mutations, observer) {{\n",
              "        var display = window.getComputedStyle(gd).display;\n",
              "        if (!display || display === 'none') {{\n",
              "            console.log([gd, 'removed!']);\n",
              "            Plotly.purge(gd);\n",
              "            observer.disconnect();\n",
              "        }}\n",
              "}});\n",
              "\n",
              "// Listen for the removal of the full notebook cells\n",
              "var notebookContainer = gd.closest('#notebook-container');\n",
              "if (notebookContainer) {{\n",
              "    x.observe(notebookContainer, {childList: true});\n",
              "}}\n",
              "\n",
              "// Listen for the clearing of the current output cell\n",
              "var outputEl = gd.closest('.output');\n",
              "if (outputEl) {{\n",
              "    x.observe(outputEl, {childList: true});\n",
              "}}\n",
              "\n",
              "                        })                };                            </script>        </div>\n",
              "</body>\n",
              "</html>"
            ]
          },
          "metadata": {}
        }
      ]
    },
    {
      "cell_type": "markdown",
      "source": [
        "# 3. Balance de gastos 2021-2022"
      ],
      "metadata": {
        "id": "v-ZPZ_P7slUN"
      }
    },
    {
      "cell_type": "markdown",
      "source": [
        "Objetivo: Comparar los datos recabados en 2021 y 2022 para saber cuales son las areas en las que hubo un aumento de gastos. "
      ],
      "metadata": {
        "id": "Vl0WKOkdIvyR"
      }
    },
    {
      "cell_type": "code",
      "source": [
        "#Cargamos los datos del balance de gastos para los años 2021 - 2022\n",
        "df_2021 = pd.read_csv(\"/content/drive/MyDrive/Mis Documentos/Curso de Python/PROYECTOS/Proyecto Data Visualization/profit_and_loss_accrual_2021.csv\")\n",
        "df_2022 = pd.read_csv(\"/content/drive/MyDrive/Mis Documentos/Curso de Python/PROYECTOS/Proyecto Data Visualization/profit_and_loss_accrual_2022.csv\")"
      ],
      "metadata": {
        "id": "p4VExN8vKx-4"
      },
      "execution_count": null,
      "outputs": []
    },
    {
      "cell_type": "code",
      "source": [
        "#Eliminamos columnas que no seran utilizadas\n",
        "df_2021 = df_2021.drop(['Unnamed: 0','Category','Code'],axis = 1)\n"
      ],
      "metadata": {
        "id": "taGhQRK9OUIB"
      },
      "execution_count": null,
      "outputs": []
    },
    {
      "cell_type": "code",
      "source": [
        "#Eliminamos filas que no seran utilizadas\n",
        "df_2021 = df_2021.drop([0,1,2,3,6,8,9,10,11,12,13,15,16],axis = 0)\n"
      ],
      "metadata": {
        "id": "VskV5p0GOUuB"
      },
      "execution_count": null,
      "outputs": []
    },
    {
      "cell_type": "code",
      "source": [
        "df_2021 = df_2021.reset_index()"
      ],
      "metadata": {
        "id": "sp3Cp4yZPenC"
      },
      "execution_count": null,
      "outputs": []
    },
    {
      "cell_type": "code",
      "source": [
        "df_2021 = df_2021.drop(['index'],axis = 1)\n"
      ],
      "metadata": {
        "colab": {
          "base_uri": "https://localhost:8080/",
          "height": 173
        },
        "id": "Z3xzk1PhLiPZ",
        "outputId": "3d1ced2b-5b88-4618-e84c-ada0fd26e8e8"
      },
      "execution_count": null,
      "outputs": [
        {
          "output_type": "execute_result",
          "data": {
            "text/plain": [
              "                    Name  Jan  Feb        Mar        Apr        May  \\\n",
              "0                PAYROLL  NaN  NaN   1,600.00  72,862.15  59,534.07   \n",
              "1            Contractors  NaN  NaN  12,027.00  40,236.00  56,110.00   \n",
              "2                C.L.R.E  NaN  NaN        NaN  34,760.00  35,700.00   \n",
              "3  Uncategorized Expense  NaN  NaN     250.00   2,302.00   2,617.00   \n",
              "\n",
              "         Jun        Jul        Aug        Sep         Oct        Nov  \\\n",
              "0  56,055.48  64,653.22  47,742.43  71,808.11   62,014.51  78,036.39   \n",
              "1  77,297.00  90,734.00  90,492.00  85,864.00  124,462.00  90,373.34   \n",
              "2  18,850.00  15,200.00  15,400.00        NaN   28,000.00  14,611.00   \n",
              "3   4,333.00     420.00        NaN   2,382.00    3,320.00   6,080.00   \n",
              "\n",
              "          Dec      Totals  \n",
              "0   93,345.57  607,651.93  \n",
              "1  120,807.00  788,402.34  \n",
              "2   45,273.00  207,794.00  \n",
              "3    4,607.00   26,311.00  "
            ],
            "text/html": [
              "\n",
              "  <div id=\"df-0bf65b44-c4a7-4e37-904f-dd4ecae600d8\">\n",
              "    <div class=\"colab-df-container\">\n",
              "      <div>\n",
              "<style scoped>\n",
              "    .dataframe tbody tr th:only-of-type {\n",
              "        vertical-align: middle;\n",
              "    }\n",
              "\n",
              "    .dataframe tbody tr th {\n",
              "        vertical-align: top;\n",
              "    }\n",
              "\n",
              "    .dataframe thead th {\n",
              "        text-align: right;\n",
              "    }\n",
              "</style>\n",
              "<table border=\"1\" class=\"dataframe\">\n",
              "  <thead>\n",
              "    <tr style=\"text-align: right;\">\n",
              "      <th></th>\n",
              "      <th>Name</th>\n",
              "      <th>Jan</th>\n",
              "      <th>Feb</th>\n",
              "      <th>Mar</th>\n",
              "      <th>Apr</th>\n",
              "      <th>May</th>\n",
              "      <th>Jun</th>\n",
              "      <th>Jul</th>\n",
              "      <th>Aug</th>\n",
              "      <th>Sep</th>\n",
              "      <th>Oct</th>\n",
              "      <th>Nov</th>\n",
              "      <th>Dec</th>\n",
              "      <th>Totals</th>\n",
              "    </tr>\n",
              "  </thead>\n",
              "  <tbody>\n",
              "    <tr>\n",
              "      <th>0</th>\n",
              "      <td>PAYROLL</td>\n",
              "      <td>NaN</td>\n",
              "      <td>NaN</td>\n",
              "      <td>1,600.00</td>\n",
              "      <td>72,862.15</td>\n",
              "      <td>59,534.07</td>\n",
              "      <td>56,055.48</td>\n",
              "      <td>64,653.22</td>\n",
              "      <td>47,742.43</td>\n",
              "      <td>71,808.11</td>\n",
              "      <td>62,014.51</td>\n",
              "      <td>78,036.39</td>\n",
              "      <td>93,345.57</td>\n",
              "      <td>607,651.93</td>\n",
              "    </tr>\n",
              "    <tr>\n",
              "      <th>1</th>\n",
              "      <td>Contractors</td>\n",
              "      <td>NaN</td>\n",
              "      <td>NaN</td>\n",
              "      <td>12,027.00</td>\n",
              "      <td>40,236.00</td>\n",
              "      <td>56,110.00</td>\n",
              "      <td>77,297.00</td>\n",
              "      <td>90,734.00</td>\n",
              "      <td>90,492.00</td>\n",
              "      <td>85,864.00</td>\n",
              "      <td>124,462.00</td>\n",
              "      <td>90,373.34</td>\n",
              "      <td>120,807.00</td>\n",
              "      <td>788,402.34</td>\n",
              "    </tr>\n",
              "    <tr>\n",
              "      <th>2</th>\n",
              "      <td>C.L.R.E</td>\n",
              "      <td>NaN</td>\n",
              "      <td>NaN</td>\n",
              "      <td>NaN</td>\n",
              "      <td>34,760.00</td>\n",
              "      <td>35,700.00</td>\n",
              "      <td>18,850.00</td>\n",
              "      <td>15,200.00</td>\n",
              "      <td>15,400.00</td>\n",
              "      <td>NaN</td>\n",
              "      <td>28,000.00</td>\n",
              "      <td>14,611.00</td>\n",
              "      <td>45,273.00</td>\n",
              "      <td>207,794.00</td>\n",
              "    </tr>\n",
              "    <tr>\n",
              "      <th>3</th>\n",
              "      <td>Uncategorized Expense</td>\n",
              "      <td>NaN</td>\n",
              "      <td>NaN</td>\n",
              "      <td>250.00</td>\n",
              "      <td>2,302.00</td>\n",
              "      <td>2,617.00</td>\n",
              "      <td>4,333.00</td>\n",
              "      <td>420.00</td>\n",
              "      <td>NaN</td>\n",
              "      <td>2,382.00</td>\n",
              "      <td>3,320.00</td>\n",
              "      <td>6,080.00</td>\n",
              "      <td>4,607.00</td>\n",
              "      <td>26,311.00</td>\n",
              "    </tr>\n",
              "  </tbody>\n",
              "</table>\n",
              "</div>\n",
              "      <button class=\"colab-df-convert\" onclick=\"convertToInteractive('df-0bf65b44-c4a7-4e37-904f-dd4ecae600d8')\"\n",
              "              title=\"Convert this dataframe to an interactive table.\"\n",
              "              style=\"display:none;\">\n",
              "        \n",
              "  <svg xmlns=\"http://www.w3.org/2000/svg\" height=\"24px\"viewBox=\"0 0 24 24\"\n",
              "       width=\"24px\">\n",
              "    <path d=\"M0 0h24v24H0V0z\" fill=\"none\"/>\n",
              "    <path d=\"M18.56 5.44l.94 2.06.94-2.06 2.06-.94-2.06-.94-.94-2.06-.94 2.06-2.06.94zm-11 1L8.5 8.5l.94-2.06 2.06-.94-2.06-.94L8.5 2.5l-.94 2.06-2.06.94zm10 10l.94 2.06.94-2.06 2.06-.94-2.06-.94-.94-2.06-.94 2.06-2.06.94z\"/><path d=\"M17.41 7.96l-1.37-1.37c-.4-.4-.92-.59-1.43-.59-.52 0-1.04.2-1.43.59L10.3 9.45l-7.72 7.72c-.78.78-.78 2.05 0 2.83L4 21.41c.39.39.9.59 1.41.59.51 0 1.02-.2 1.41-.59l7.78-7.78 2.81-2.81c.8-.78.8-2.07 0-2.86zM5.41 20L4 18.59l7.72-7.72 1.47 1.35L5.41 20z\"/>\n",
              "  </svg>\n",
              "      </button>\n",
              "      \n",
              "  <style>\n",
              "    .colab-df-container {\n",
              "      display:flex;\n",
              "      flex-wrap:wrap;\n",
              "      gap: 12px;\n",
              "    }\n",
              "\n",
              "    .colab-df-convert {\n",
              "      background-color: #E8F0FE;\n",
              "      border: none;\n",
              "      border-radius: 50%;\n",
              "      cursor: pointer;\n",
              "      display: none;\n",
              "      fill: #1967D2;\n",
              "      height: 32px;\n",
              "      padding: 0 0 0 0;\n",
              "      width: 32px;\n",
              "    }\n",
              "\n",
              "    .colab-df-convert:hover {\n",
              "      background-color: #E2EBFA;\n",
              "      box-shadow: 0px 1px 2px rgba(60, 64, 67, 0.3), 0px 1px 3px 1px rgba(60, 64, 67, 0.15);\n",
              "      fill: #174EA6;\n",
              "    }\n",
              "\n",
              "    [theme=dark] .colab-df-convert {\n",
              "      background-color: #3B4455;\n",
              "      fill: #D2E3FC;\n",
              "    }\n",
              "\n",
              "    [theme=dark] .colab-df-convert:hover {\n",
              "      background-color: #434B5C;\n",
              "      box-shadow: 0px 1px 3px 1px rgba(0, 0, 0, 0.15);\n",
              "      filter: drop-shadow(0px 1px 2px rgba(0, 0, 0, 0.3));\n",
              "      fill: #FFFFFF;\n",
              "    }\n",
              "  </style>\n",
              "\n",
              "      <script>\n",
              "        const buttonEl =\n",
              "          document.querySelector('#df-0bf65b44-c4a7-4e37-904f-dd4ecae600d8 button.colab-df-convert');\n",
              "        buttonEl.style.display =\n",
              "          google.colab.kernel.accessAllowed ? 'block' : 'none';\n",
              "\n",
              "        async function convertToInteractive(key) {\n",
              "          const element = document.querySelector('#df-0bf65b44-c4a7-4e37-904f-dd4ecae600d8');\n",
              "          const dataTable =\n",
              "            await google.colab.kernel.invokeFunction('convertToInteractive',\n",
              "                                                     [key], {});\n",
              "          if (!dataTable) return;\n",
              "\n",
              "          const docLinkHtml = 'Like what you see? Visit the ' +\n",
              "            '<a target=\"_blank\" href=https://colab.research.google.com/notebooks/data_table.ipynb>data table notebook</a>'\n",
              "            + ' to learn more about interactive tables.';\n",
              "          element.innerHTML = '';\n",
              "          dataTable['output_type'] = 'display_data';\n",
              "          await google.colab.output.renderOutput(dataTable, element);\n",
              "          const docLink = document.createElement('div');\n",
              "          docLink.innerHTML = docLinkHtml;\n",
              "          element.appendChild(docLink);\n",
              "        }\n",
              "      </script>\n",
              "    </div>\n",
              "  </div>\n",
              "  "
            ]
          },
          "metadata": {},
          "execution_count": 30
        }
      ]
    },
    {
      "cell_type": "code",
      "source": [
        "df_2021 = df_2021.fillna(0)\n",
        "df_2021"
      ],
      "metadata": {
        "colab": {
          "base_uri": "https://localhost:8080/",
          "height": 173
        },
        "id": "PQaeegOkPx0e",
        "outputId": "48544a20-fdad-4da7-ab82-12d3f4b1c783"
      },
      "execution_count": null,
      "outputs": [
        {
          "output_type": "execute_result",
          "data": {
            "text/plain": [
              "                    Name  Jan  Feb        Mar        Apr        May  \\\n",
              "0                PAYROLL  0.0  0.0   1,600.00  72,862.15  59,534.07   \n",
              "1            Contractors  0.0  0.0  12,027.00  40,236.00  56,110.00   \n",
              "2                C.L.R.E  0.0  0.0          0  34,760.00  35,700.00   \n",
              "3  Uncategorized Expense  0.0  0.0     250.00   2,302.00   2,617.00   \n",
              "\n",
              "         Jun        Jul        Aug        Sep         Oct        Nov  \\\n",
              "0  56,055.48  64,653.22  47,742.43  71,808.11   62,014.51  78,036.39   \n",
              "1  77,297.00  90,734.00  90,492.00  85,864.00  124,462.00  90,373.34   \n",
              "2  18,850.00  15,200.00  15,400.00          0   28,000.00  14,611.00   \n",
              "3   4,333.00     420.00          0   2,382.00    3,320.00   6,080.00   \n",
              "\n",
              "          Dec      Totals  \n",
              "0   93,345.57  607,651.93  \n",
              "1  120,807.00  788,402.34  \n",
              "2   45,273.00  207,794.00  \n",
              "3    4,607.00   26,311.00  "
            ],
            "text/html": [
              "\n",
              "  <div id=\"df-0ec2fafc-94e5-4ba6-95ff-81597fe5d5db\">\n",
              "    <div class=\"colab-df-container\">\n",
              "      <div>\n",
              "<style scoped>\n",
              "    .dataframe tbody tr th:only-of-type {\n",
              "        vertical-align: middle;\n",
              "    }\n",
              "\n",
              "    .dataframe tbody tr th {\n",
              "        vertical-align: top;\n",
              "    }\n",
              "\n",
              "    .dataframe thead th {\n",
              "        text-align: right;\n",
              "    }\n",
              "</style>\n",
              "<table border=\"1\" class=\"dataframe\">\n",
              "  <thead>\n",
              "    <tr style=\"text-align: right;\">\n",
              "      <th></th>\n",
              "      <th>Name</th>\n",
              "      <th>Jan</th>\n",
              "      <th>Feb</th>\n",
              "      <th>Mar</th>\n",
              "      <th>Apr</th>\n",
              "      <th>May</th>\n",
              "      <th>Jun</th>\n",
              "      <th>Jul</th>\n",
              "      <th>Aug</th>\n",
              "      <th>Sep</th>\n",
              "      <th>Oct</th>\n",
              "      <th>Nov</th>\n",
              "      <th>Dec</th>\n",
              "      <th>Totals</th>\n",
              "    </tr>\n",
              "  </thead>\n",
              "  <tbody>\n",
              "    <tr>\n",
              "      <th>0</th>\n",
              "      <td>PAYROLL</td>\n",
              "      <td>0.0</td>\n",
              "      <td>0.0</td>\n",
              "      <td>1,600.00</td>\n",
              "      <td>72,862.15</td>\n",
              "      <td>59,534.07</td>\n",
              "      <td>56,055.48</td>\n",
              "      <td>64,653.22</td>\n",
              "      <td>47,742.43</td>\n",
              "      <td>71,808.11</td>\n",
              "      <td>62,014.51</td>\n",
              "      <td>78,036.39</td>\n",
              "      <td>93,345.57</td>\n",
              "      <td>607,651.93</td>\n",
              "    </tr>\n",
              "    <tr>\n",
              "      <th>1</th>\n",
              "      <td>Contractors</td>\n",
              "      <td>0.0</td>\n",
              "      <td>0.0</td>\n",
              "      <td>12,027.00</td>\n",
              "      <td>40,236.00</td>\n",
              "      <td>56,110.00</td>\n",
              "      <td>77,297.00</td>\n",
              "      <td>90,734.00</td>\n",
              "      <td>90,492.00</td>\n",
              "      <td>85,864.00</td>\n",
              "      <td>124,462.00</td>\n",
              "      <td>90,373.34</td>\n",
              "      <td>120,807.00</td>\n",
              "      <td>788,402.34</td>\n",
              "    </tr>\n",
              "    <tr>\n",
              "      <th>2</th>\n",
              "      <td>C.L.R.E</td>\n",
              "      <td>0.0</td>\n",
              "      <td>0.0</td>\n",
              "      <td>0</td>\n",
              "      <td>34,760.00</td>\n",
              "      <td>35,700.00</td>\n",
              "      <td>18,850.00</td>\n",
              "      <td>15,200.00</td>\n",
              "      <td>15,400.00</td>\n",
              "      <td>0</td>\n",
              "      <td>28,000.00</td>\n",
              "      <td>14,611.00</td>\n",
              "      <td>45,273.00</td>\n",
              "      <td>207,794.00</td>\n",
              "    </tr>\n",
              "    <tr>\n",
              "      <th>3</th>\n",
              "      <td>Uncategorized Expense</td>\n",
              "      <td>0.0</td>\n",
              "      <td>0.0</td>\n",
              "      <td>250.00</td>\n",
              "      <td>2,302.00</td>\n",
              "      <td>2,617.00</td>\n",
              "      <td>4,333.00</td>\n",
              "      <td>420.00</td>\n",
              "      <td>0</td>\n",
              "      <td>2,382.00</td>\n",
              "      <td>3,320.00</td>\n",
              "      <td>6,080.00</td>\n",
              "      <td>4,607.00</td>\n",
              "      <td>26,311.00</td>\n",
              "    </tr>\n",
              "  </tbody>\n",
              "</table>\n",
              "</div>\n",
              "      <button class=\"colab-df-convert\" onclick=\"convertToInteractive('df-0ec2fafc-94e5-4ba6-95ff-81597fe5d5db')\"\n",
              "              title=\"Convert this dataframe to an interactive table.\"\n",
              "              style=\"display:none;\">\n",
              "        \n",
              "  <svg xmlns=\"http://www.w3.org/2000/svg\" height=\"24px\"viewBox=\"0 0 24 24\"\n",
              "       width=\"24px\">\n",
              "    <path d=\"M0 0h24v24H0V0z\" fill=\"none\"/>\n",
              "    <path d=\"M18.56 5.44l.94 2.06.94-2.06 2.06-.94-2.06-.94-.94-2.06-.94 2.06-2.06.94zm-11 1L8.5 8.5l.94-2.06 2.06-.94-2.06-.94L8.5 2.5l-.94 2.06-2.06.94zm10 10l.94 2.06.94-2.06 2.06-.94-2.06-.94-.94-2.06-.94 2.06-2.06.94z\"/><path d=\"M17.41 7.96l-1.37-1.37c-.4-.4-.92-.59-1.43-.59-.52 0-1.04.2-1.43.59L10.3 9.45l-7.72 7.72c-.78.78-.78 2.05 0 2.83L4 21.41c.39.39.9.59 1.41.59.51 0 1.02-.2 1.41-.59l7.78-7.78 2.81-2.81c.8-.78.8-2.07 0-2.86zM5.41 20L4 18.59l7.72-7.72 1.47 1.35L5.41 20z\"/>\n",
              "  </svg>\n",
              "      </button>\n",
              "      \n",
              "  <style>\n",
              "    .colab-df-container {\n",
              "      display:flex;\n",
              "      flex-wrap:wrap;\n",
              "      gap: 12px;\n",
              "    }\n",
              "\n",
              "    .colab-df-convert {\n",
              "      background-color: #E8F0FE;\n",
              "      border: none;\n",
              "      border-radius: 50%;\n",
              "      cursor: pointer;\n",
              "      display: none;\n",
              "      fill: #1967D2;\n",
              "      height: 32px;\n",
              "      padding: 0 0 0 0;\n",
              "      width: 32px;\n",
              "    }\n",
              "\n",
              "    .colab-df-convert:hover {\n",
              "      background-color: #E2EBFA;\n",
              "      box-shadow: 0px 1px 2px rgba(60, 64, 67, 0.3), 0px 1px 3px 1px rgba(60, 64, 67, 0.15);\n",
              "      fill: #174EA6;\n",
              "    }\n",
              "\n",
              "    [theme=dark] .colab-df-convert {\n",
              "      background-color: #3B4455;\n",
              "      fill: #D2E3FC;\n",
              "    }\n",
              "\n",
              "    [theme=dark] .colab-df-convert:hover {\n",
              "      background-color: #434B5C;\n",
              "      box-shadow: 0px 1px 3px 1px rgba(0, 0, 0, 0.15);\n",
              "      filter: drop-shadow(0px 1px 2px rgba(0, 0, 0, 0.3));\n",
              "      fill: #FFFFFF;\n",
              "    }\n",
              "  </style>\n",
              "\n",
              "      <script>\n",
              "        const buttonEl =\n",
              "          document.querySelector('#df-0ec2fafc-94e5-4ba6-95ff-81597fe5d5db button.colab-df-convert');\n",
              "        buttonEl.style.display =\n",
              "          google.colab.kernel.accessAllowed ? 'block' : 'none';\n",
              "\n",
              "        async function convertToInteractive(key) {\n",
              "          const element = document.querySelector('#df-0ec2fafc-94e5-4ba6-95ff-81597fe5d5db');\n",
              "          const dataTable =\n",
              "            await google.colab.kernel.invokeFunction('convertToInteractive',\n",
              "                                                     [key], {});\n",
              "          if (!dataTable) return;\n",
              "\n",
              "          const docLinkHtml = 'Like what you see? Visit the ' +\n",
              "            '<a target=\"_blank\" href=https://colab.research.google.com/notebooks/data_table.ipynb>data table notebook</a>'\n",
              "            + ' to learn more about interactive tables.';\n",
              "          element.innerHTML = '';\n",
              "          dataTable['output_type'] = 'display_data';\n",
              "          await google.colab.output.renderOutput(dataTable, element);\n",
              "          const docLink = document.createElement('div');\n",
              "          docLink.innerHTML = docLinkHtml;\n",
              "          element.appendChild(docLink);\n",
              "        }\n",
              "      </script>\n",
              "    </div>\n",
              "  </div>\n",
              "  "
            ]
          },
          "metadata": {},
          "execution_count": 32
        }
      ]
    },
    {
      "cell_type": "code",
      "source": [
        "#Eliminamos columnas que no seran utilizadas\n",
        "df_2022 = df_2022.drop(['Unnamed: 0','Category','Code'],axis = 1)\n"
      ],
      "metadata": {
        "id": "HZWOWNl0Qp-l"
      },
      "execution_count": null,
      "outputs": []
    },
    {
      "cell_type": "code",
      "source": [
        "#Eliminamos filas que no seran utilizadas\n",
        "df_2022 = df_2022.drop([0,1,2,3,4,5,6,7,8,10,12,13,15,16,17,18,19,20,21,22,23,24,25,26,28,29,30,31,32],axis = 0)"
      ],
      "metadata": {
        "id": "-Ac8YmtSRjg1"
      },
      "execution_count": null,
      "outputs": []
    },
    {
      "cell_type": "code",
      "source": [
        "df_2022 = df_2022.reset_index()\n",
        "df_2022 = df_2022.drop(['index'],axis = 1)"
      ],
      "metadata": {
        "id": "Rq7c3K4iR7fq"
      },
      "execution_count": null,
      "outputs": []
    },
    {
      "cell_type": "code",
      "source": [
        "df_2022 = df_2022.fillna(0)"
      ],
      "metadata": {
        "id": "cY4dOmOhSCwa"
      },
      "execution_count": null,
      "outputs": []
    },
    {
      "cell_type": "code",
      "source": [
        "#Para comparar lapsos de tiempo similares se eliminaran las columnas en las que no se tienen datos en ambos Dataset\n",
        "#df_2021 = df_2021.drop(['Jan','Feb','Oct','Nov','Dec'],axis = 1)\n",
        "#df_2022 = df_2022.drop(['Jan','Feb','Oct','Nov','Dec'],axis = 1)\n",
        "\n",
        "df_2021 = df_2021.drop(['Totals'],axis = 1)\n",
        "df_2022 = df_2022.drop(['Totals'],axis = 1)"
      ],
      "metadata": {
        "id": "C79qcBh_SXEP"
      },
      "execution_count": null,
      "outputs": []
    },
    {
      "cell_type": "code",
      "source": [
        "for i in df_2021.columns[1:]:\n",
        "  df_2021[i] = df_2021[i].replace({',':''},regex=True)"
      ],
      "metadata": {
        "id": "Yl0aJAb2T6ic"
      },
      "execution_count": null,
      "outputs": []
    },
    {
      "cell_type": "code",
      "source": [
        "for i in df_2022.columns[1:]:\n",
        "  df_2022[i] = df_2022[i].replace({',':''},regex=True)"
      ],
      "metadata": {
        "id": "DyV0NwpLT6sb"
      },
      "execution_count": null,
      "outputs": []
    },
    {
      "cell_type": "code",
      "source": [
        "for i in df_2022.columns[1:]:\n",
        "  df_2021[i] = df_2021[i].astype('float')\n",
        "  df_2022[i] = df_2022[i].astype('float')"
      ],
      "metadata": {
        "id": "RTj6GoF8Ue8b"
      },
      "execution_count": null,
      "outputs": []
    },
    {
      "cell_type": "code",
      "source": [
        "df_2021['Total'] = df_2021.sum(axis=1)\n",
        "df_2022['Total'] = df_2022.sum(axis=1)"
      ],
      "metadata": {
        "colab": {
          "base_uri": "https://localhost:8080/"
        },
        "id": "ILity8A5UfUb",
        "outputId": "83b6efd8-1403-42b0-ffb0-609b30baafc7"
      },
      "execution_count": null,
      "outputs": [
        {
          "output_type": "stream",
          "name": "stderr",
          "text": [
            "/usr/local/lib/python3.7/dist-packages/ipykernel_launcher.py:1: FutureWarning:\n",
            "\n",
            "Dropping of nuisance columns in DataFrame reductions (with 'numeric_only=None') is deprecated; in a future version this will raise TypeError.  Select only valid columns before calling the reduction.\n",
            "\n",
            "/usr/local/lib/python3.7/dist-packages/ipykernel_launcher.py:2: FutureWarning:\n",
            "\n",
            "Dropping of nuisance columns in DataFrame reductions (with 'numeric_only=None') is deprecated; in a future version this will raise TypeError.  Select only valid columns before calling the reduction.\n",
            "\n"
          ]
        }
      ]
    },
    {
      "cell_type": "code",
      "source": [
        "df_comparison = pd.merge(df_2021,df_2022, how = 'inner', on = 'Name')"
      ],
      "metadata": {
        "id": "VQyhOmHnW1kE"
      },
      "execution_count": null,
      "outputs": []
    },
    {
      "cell_type": "code",
      "source": [
        "df_comparison.to_csv('/content/drive/MyDrive/Mis Documentos/Curso de Python/PROYECTOS/Proyecto Data Visualization/Balance_2021-2022.csv', index=False)"
      ],
      "metadata": {
        "id": "-MFrcl1wQ2Qq"
      },
      "execution_count": null,
      "outputs": []
    },
    {
      "cell_type": "code",
      "source": [
        "df_comparison"
      ],
      "metadata": {
        "colab": {
          "base_uri": "https://localhost:8080/",
          "height": 234
        },
        "id": "BByxevuVYLk5",
        "outputId": "a8104056-7647-40c4-a9de-f01d8d6107a0"
      },
      "execution_count": null,
      "outputs": [
        {
          "output_type": "execute_result",
          "data": {
            "text/plain": [
              "                    Name    Mar_x     Apr_x     May_x     Jun_x     Jul_x  \\\n",
              "0                PAYROLL   1600.0  72862.15  59534.07  56055.48  64653.22   \n",
              "1            Contractors  12027.0  40236.00  56110.00  77297.00  90734.00   \n",
              "2                C.L.R.E      0.0  34760.00  35700.00  18850.00  15200.00   \n",
              "3  Uncategorized Expense    250.0   2302.00   2617.00   4333.00    420.00   \n",
              "\n",
              "      Aug_x     Sep_x    Total_x    Mar_y    Apr_y      May_y      Jun_y  \\\n",
              "0  47742.43  71808.11  374255.46  93283.5  81346.0   97661.22  116312.00   \n",
              "1  90492.00  85864.00  452760.00  42458.0  55469.0  108476.00  119297.48   \n",
              "2  15400.00      0.00  119910.00      0.0      0.0  155070.00       0.00   \n",
              "3      0.00   2382.00   12304.00   1850.0   1750.0    5850.00    2650.00   \n",
              "\n",
              "       Jul_y      Aug_y     Sep_y    Total_y  \n",
              "0  101104.00   97114.50  103167.5  689988.72  \n",
              "1  116523.86  160401.00   72157.0  674782.34  \n",
              "2   87086.00   25656.61       0.0  267812.61  \n",
              "3    5168.00    2000.00    1500.0   20768.00  "
            ],
            "text/html": [
              "\n",
              "  <div id=\"df-136f0aa7-6b4e-438a-8fc4-db172a0046c1\">\n",
              "    <div class=\"colab-df-container\">\n",
              "      <div>\n",
              "<style scoped>\n",
              "    .dataframe tbody tr th:only-of-type {\n",
              "        vertical-align: middle;\n",
              "    }\n",
              "\n",
              "    .dataframe tbody tr th {\n",
              "        vertical-align: top;\n",
              "    }\n",
              "\n",
              "    .dataframe thead th {\n",
              "        text-align: right;\n",
              "    }\n",
              "</style>\n",
              "<table border=\"1\" class=\"dataframe\">\n",
              "  <thead>\n",
              "    <tr style=\"text-align: right;\">\n",
              "      <th></th>\n",
              "      <th>Name</th>\n",
              "      <th>Mar_x</th>\n",
              "      <th>Apr_x</th>\n",
              "      <th>May_x</th>\n",
              "      <th>Jun_x</th>\n",
              "      <th>Jul_x</th>\n",
              "      <th>Aug_x</th>\n",
              "      <th>Sep_x</th>\n",
              "      <th>Total_x</th>\n",
              "      <th>Mar_y</th>\n",
              "      <th>Apr_y</th>\n",
              "      <th>May_y</th>\n",
              "      <th>Jun_y</th>\n",
              "      <th>Jul_y</th>\n",
              "      <th>Aug_y</th>\n",
              "      <th>Sep_y</th>\n",
              "      <th>Total_y</th>\n",
              "    </tr>\n",
              "  </thead>\n",
              "  <tbody>\n",
              "    <tr>\n",
              "      <th>0</th>\n",
              "      <td>PAYROLL</td>\n",
              "      <td>1600.0</td>\n",
              "      <td>72862.15</td>\n",
              "      <td>59534.07</td>\n",
              "      <td>56055.48</td>\n",
              "      <td>64653.22</td>\n",
              "      <td>47742.43</td>\n",
              "      <td>71808.11</td>\n",
              "      <td>374255.46</td>\n",
              "      <td>93283.5</td>\n",
              "      <td>81346.0</td>\n",
              "      <td>97661.22</td>\n",
              "      <td>116312.00</td>\n",
              "      <td>101104.00</td>\n",
              "      <td>97114.50</td>\n",
              "      <td>103167.5</td>\n",
              "      <td>689988.72</td>\n",
              "    </tr>\n",
              "    <tr>\n",
              "      <th>1</th>\n",
              "      <td>Contractors</td>\n",
              "      <td>12027.0</td>\n",
              "      <td>40236.00</td>\n",
              "      <td>56110.00</td>\n",
              "      <td>77297.00</td>\n",
              "      <td>90734.00</td>\n",
              "      <td>90492.00</td>\n",
              "      <td>85864.00</td>\n",
              "      <td>452760.00</td>\n",
              "      <td>42458.0</td>\n",
              "      <td>55469.0</td>\n",
              "      <td>108476.00</td>\n",
              "      <td>119297.48</td>\n",
              "      <td>116523.86</td>\n",
              "      <td>160401.00</td>\n",
              "      <td>72157.0</td>\n",
              "      <td>674782.34</td>\n",
              "    </tr>\n",
              "    <tr>\n",
              "      <th>2</th>\n",
              "      <td>C.L.R.E</td>\n",
              "      <td>0.0</td>\n",
              "      <td>34760.00</td>\n",
              "      <td>35700.00</td>\n",
              "      <td>18850.00</td>\n",
              "      <td>15200.00</td>\n",
              "      <td>15400.00</td>\n",
              "      <td>0.00</td>\n",
              "      <td>119910.00</td>\n",
              "      <td>0.0</td>\n",
              "      <td>0.0</td>\n",
              "      <td>155070.00</td>\n",
              "      <td>0.00</td>\n",
              "      <td>87086.00</td>\n",
              "      <td>25656.61</td>\n",
              "      <td>0.0</td>\n",
              "      <td>267812.61</td>\n",
              "    </tr>\n",
              "    <tr>\n",
              "      <th>3</th>\n",
              "      <td>Uncategorized Expense</td>\n",
              "      <td>250.0</td>\n",
              "      <td>2302.00</td>\n",
              "      <td>2617.00</td>\n",
              "      <td>4333.00</td>\n",
              "      <td>420.00</td>\n",
              "      <td>0.00</td>\n",
              "      <td>2382.00</td>\n",
              "      <td>12304.00</td>\n",
              "      <td>1850.0</td>\n",
              "      <td>1750.0</td>\n",
              "      <td>5850.00</td>\n",
              "      <td>2650.00</td>\n",
              "      <td>5168.00</td>\n",
              "      <td>2000.00</td>\n",
              "      <td>1500.0</td>\n",
              "      <td>20768.00</td>\n",
              "    </tr>\n",
              "  </tbody>\n",
              "</table>\n",
              "</div>\n",
              "      <button class=\"colab-df-convert\" onclick=\"convertToInteractive('df-136f0aa7-6b4e-438a-8fc4-db172a0046c1')\"\n",
              "              title=\"Convert this dataframe to an interactive table.\"\n",
              "              style=\"display:none;\">\n",
              "        \n",
              "  <svg xmlns=\"http://www.w3.org/2000/svg\" height=\"24px\"viewBox=\"0 0 24 24\"\n",
              "       width=\"24px\">\n",
              "    <path d=\"M0 0h24v24H0V0z\" fill=\"none\"/>\n",
              "    <path d=\"M18.56 5.44l.94 2.06.94-2.06 2.06-.94-2.06-.94-.94-2.06-.94 2.06-2.06.94zm-11 1L8.5 8.5l.94-2.06 2.06-.94-2.06-.94L8.5 2.5l-.94 2.06-2.06.94zm10 10l.94 2.06.94-2.06 2.06-.94-2.06-.94-.94-2.06-.94 2.06-2.06.94z\"/><path d=\"M17.41 7.96l-1.37-1.37c-.4-.4-.92-.59-1.43-.59-.52 0-1.04.2-1.43.59L10.3 9.45l-7.72 7.72c-.78.78-.78 2.05 0 2.83L4 21.41c.39.39.9.59 1.41.59.51 0 1.02-.2 1.41-.59l7.78-7.78 2.81-2.81c.8-.78.8-2.07 0-2.86zM5.41 20L4 18.59l7.72-7.72 1.47 1.35L5.41 20z\"/>\n",
              "  </svg>\n",
              "      </button>\n",
              "      \n",
              "  <style>\n",
              "    .colab-df-container {\n",
              "      display:flex;\n",
              "      flex-wrap:wrap;\n",
              "      gap: 12px;\n",
              "    }\n",
              "\n",
              "    .colab-df-convert {\n",
              "      background-color: #E8F0FE;\n",
              "      border: none;\n",
              "      border-radius: 50%;\n",
              "      cursor: pointer;\n",
              "      display: none;\n",
              "      fill: #1967D2;\n",
              "      height: 32px;\n",
              "      padding: 0 0 0 0;\n",
              "      width: 32px;\n",
              "    }\n",
              "\n",
              "    .colab-df-convert:hover {\n",
              "      background-color: #E2EBFA;\n",
              "      box-shadow: 0px 1px 2px rgba(60, 64, 67, 0.3), 0px 1px 3px 1px rgba(60, 64, 67, 0.15);\n",
              "      fill: #174EA6;\n",
              "    }\n",
              "\n",
              "    [theme=dark] .colab-df-convert {\n",
              "      background-color: #3B4455;\n",
              "      fill: #D2E3FC;\n",
              "    }\n",
              "\n",
              "    [theme=dark] .colab-df-convert:hover {\n",
              "      background-color: #434B5C;\n",
              "      box-shadow: 0px 1px 3px 1px rgba(0, 0, 0, 0.15);\n",
              "      filter: drop-shadow(0px 1px 2px rgba(0, 0, 0, 0.3));\n",
              "      fill: #FFFFFF;\n",
              "    }\n",
              "  </style>\n",
              "\n",
              "      <script>\n",
              "        const buttonEl =\n",
              "          document.querySelector('#df-136f0aa7-6b4e-438a-8fc4-db172a0046c1 button.colab-df-convert');\n",
              "        buttonEl.style.display =\n",
              "          google.colab.kernel.accessAllowed ? 'block' : 'none';\n",
              "\n",
              "        async function convertToInteractive(key) {\n",
              "          const element = document.querySelector('#df-136f0aa7-6b4e-438a-8fc4-db172a0046c1');\n",
              "          const dataTable =\n",
              "            await google.colab.kernel.invokeFunction('convertToInteractive',\n",
              "                                                     [key], {});\n",
              "          if (!dataTable) return;\n",
              "\n",
              "          const docLinkHtml = 'Like what you see? Visit the ' +\n",
              "            '<a target=\"_blank\" href=https://colab.research.google.com/notebooks/data_table.ipynb>data table notebook</a>'\n",
              "            + ' to learn more about interactive tables.';\n",
              "          element.innerHTML = '';\n",
              "          dataTable['output_type'] = 'display_data';\n",
              "          await google.colab.output.renderOutput(dataTable, element);\n",
              "          const docLink = document.createElement('div');\n",
              "          docLink.innerHTML = docLinkHtml;\n",
              "          element.appendChild(docLink);\n",
              "        }\n",
              "      </script>\n",
              "    </div>\n",
              "  </div>\n",
              "  "
            ]
          },
          "metadata": {},
          "execution_count": 69
        }
      ]
    },
    {
      "cell_type": "code",
      "source": [
        "#CORRER ESTA LINEA DE CODIGO\n",
        "import plotly.graph_objects as go\n",
        "import plotly.figure_factory as ff"
      ],
      "metadata": {
        "id": "E9DrUA0Jcfbu"
      },
      "execution_count": null,
      "outputs": []
    },
    {
      "cell_type": "code",
      "source": [
        "#CORRER ESTA LINEA DE CODIGO\n",
        "#df_comparison = pd.read_csv(\"/content/drive/MyDrive/Mis Documentos/Curso de Python/PROYECTOS/Proyecto Data Visualization/Balance_2021-2022.csv\")\n",
        "#Arellano\n",
        "df_comparison = pd.read_csv(\"/content/drive/MyDrive/Mis Documentos/Curso de Python/PROYECTOS/Proyecto Data Visualization/Balance_2021-2022.csv\")"
      ],
      "metadata": {
        "id": "Y1LlACNZcC_T"
      },
      "execution_count": null,
      "outputs": []
    },
    {
      "cell_type": "code",
      "source": [
        "df_comparison"
      ],
      "metadata": {
        "id": "7XibgYqScRh0"
      },
      "execution_count": null,
      "outputs": []
    },
    {
      "cell_type": "code",
      "source": [
        "#CORRER ESTA LINEA DE CODIGO\n",
        "fig2 = go.Figure()\n",
        "\n",
        "trace1 = go.Bar(x=df_comparison['Name'], y=df_comparison['Total_x'], xaxis='x2', yaxis='y2',\n",
        "                marker=dict(color='#20912b'),\n",
        "                name='Gastos 2021',text=df_comparison['Total_x'])\n",
        "trace2 = go.Bar(x=df_comparison['Name'], y=df_comparison['Total_y'], xaxis='x2', yaxis='y2',\n",
        "                marker=dict(color='#404040'),\n",
        "                name='Gastos 2022',text=df_comparison['Total_y'])\n",
        "\n",
        "fig2.add_traces([trace1, trace2])\n",
        "\n",
        "# initialize xaxis2 and yaxis2\n",
        "fig2['layout']['xaxis2'] = {}\n",
        "fig2['layout']['yaxis2'] = {}\n",
        "\n",
        "\n",
        "# The graph's yaxis2 MUST BE anchored to the graph's xaxis2 and vice versa\n",
        "fig2.layout.yaxis2.update({'anchor': 'x2'})\n",
        "fig2.layout.xaxis2.update({'anchor': 'y2'})\n",
        "fig2.layout.yaxis2.update({'title': 'Gastos [USD]'})\n",
        "\n",
        "# Update the margins to add a title and see graph x-labels.\n",
        "fig2.layout.margin.update({'t':75, 'l':50})\n",
        "fig2.layout.update({'title': 'Comparación de gastos 2021-2022'},title_x = 0.42)\n",
        "\n",
        "# Update the height because adding a graph vertically will interact with\n",
        "# the plot height calculated for the table\n",
        "fig2.layout.update({'height':400})\n",
        "\n",
        "# Plot!\n",
        "fig2.show()"
      ],
      "metadata": {
        "colab": {
          "base_uri": "https://localhost:8080/",
          "height": 417
        },
        "id": "BFXAFymvcHIg",
        "outputId": "cdfc6bda-b93b-40af-b103-835b4dc10bb1"
      },
      "execution_count": null,
      "outputs": [
        {
          "output_type": "display_data",
          "data": {
            "text/html": [
              "<html>\n",
              "<head><meta charset=\"utf-8\" /></head>\n",
              "<body>\n",
              "    <div>            <script src=\"https://cdnjs.cloudflare.com/ajax/libs/mathjax/2.7.5/MathJax.js?config=TeX-AMS-MML_SVG\"></script><script type=\"text/javascript\">if (window.MathJax) {MathJax.Hub.Config({SVG: {font: \"STIX-Web\"}});}</script>                <script type=\"text/javascript\">window.PlotlyConfig = {MathJaxConfig: 'local'};</script>\n",
              "        <script src=\"https://cdn.plot.ly/plotly-2.8.3.min.js\"></script>                <div id=\"b33ed567-3bce-4db0-bcd1-0d7da1e44bd6\" class=\"plotly-graph-div\" style=\"height:400px; width:100%;\"></div>            <script type=\"text/javascript\">                                    window.PLOTLYENV=window.PLOTLYENV || {};                                    if (document.getElementById(\"b33ed567-3bce-4db0-bcd1-0d7da1e44bd6\")) {                    Plotly.newPlot(                        \"b33ed567-3bce-4db0-bcd1-0d7da1e44bd6\",                        [{\"marker\":{\"color\":\"#20912b\"},\"name\":\"Gastos 2021\",\"text\":[374255.46,452760.0,119910.0,12304.0],\"x\":[\"PAYROLL\",\"Contractors\",\"C.L.R.E\",\"Uncategorized Expense\"],\"xaxis\":\"x2\",\"y\":[374255.46,452760.0,119910.0,12304.0],\"yaxis\":\"y2\",\"type\":\"bar\"},{\"marker\":{\"color\":\"#404040\"},\"name\":\"Gastos 2022\",\"text\":[689988.72,674782.34,267812.61,20768.0],\"x\":[\"PAYROLL\",\"Contractors\",\"C.L.R.E\",\"Uncategorized Expense\"],\"xaxis\":\"x2\",\"y\":[689988.72,674782.34,267812.61,20768.0],\"yaxis\":\"y2\",\"type\":\"bar\"}],                        {\"template\":{\"data\":{\"bar\":[{\"error_x\":{\"color\":\"#2a3f5f\"},\"error_y\":{\"color\":\"#2a3f5f\"},\"marker\":{\"line\":{\"color\":\"#E5ECF6\",\"width\":0.5},\"pattern\":{\"fillmode\":\"overlay\",\"size\":10,\"solidity\":0.2}},\"type\":\"bar\"}],\"barpolar\":[{\"marker\":{\"line\":{\"color\":\"#E5ECF6\",\"width\":0.5},\"pattern\":{\"fillmode\":\"overlay\",\"size\":10,\"solidity\":0.2}},\"type\":\"barpolar\"}],\"carpet\":[{\"aaxis\":{\"endlinecolor\":\"#2a3f5f\",\"gridcolor\":\"white\",\"linecolor\":\"white\",\"minorgridcolor\":\"white\",\"startlinecolor\":\"#2a3f5f\"},\"baxis\":{\"endlinecolor\":\"#2a3f5f\",\"gridcolor\":\"white\",\"linecolor\":\"white\",\"minorgridcolor\":\"white\",\"startlinecolor\":\"#2a3f5f\"},\"type\":\"carpet\"}],\"choropleth\":[{\"colorbar\":{\"outlinewidth\":0,\"ticks\":\"\"},\"type\":\"choropleth\"}],\"contour\":[{\"colorbar\":{\"outlinewidth\":0,\"ticks\":\"\"},\"colorscale\":[[0.0,\"#0d0887\"],[0.1111111111111111,\"#46039f\"],[0.2222222222222222,\"#7201a8\"],[0.3333333333333333,\"#9c179e\"],[0.4444444444444444,\"#bd3786\"],[0.5555555555555556,\"#d8576b\"],[0.6666666666666666,\"#ed7953\"],[0.7777777777777778,\"#fb9f3a\"],[0.8888888888888888,\"#fdca26\"],[1.0,\"#f0f921\"]],\"type\":\"contour\"}],\"contourcarpet\":[{\"colorbar\":{\"outlinewidth\":0,\"ticks\":\"\"},\"type\":\"contourcarpet\"}],\"heatmap\":[{\"colorbar\":{\"outlinewidth\":0,\"ticks\":\"\"},\"colorscale\":[[0.0,\"#0d0887\"],[0.1111111111111111,\"#46039f\"],[0.2222222222222222,\"#7201a8\"],[0.3333333333333333,\"#9c179e\"],[0.4444444444444444,\"#bd3786\"],[0.5555555555555556,\"#d8576b\"],[0.6666666666666666,\"#ed7953\"],[0.7777777777777778,\"#fb9f3a\"],[0.8888888888888888,\"#fdca26\"],[1.0,\"#f0f921\"]],\"type\":\"heatmap\"}],\"heatmapgl\":[{\"colorbar\":{\"outlinewidth\":0,\"ticks\":\"\"},\"colorscale\":[[0.0,\"#0d0887\"],[0.1111111111111111,\"#46039f\"],[0.2222222222222222,\"#7201a8\"],[0.3333333333333333,\"#9c179e\"],[0.4444444444444444,\"#bd3786\"],[0.5555555555555556,\"#d8576b\"],[0.6666666666666666,\"#ed7953\"],[0.7777777777777778,\"#fb9f3a\"],[0.8888888888888888,\"#fdca26\"],[1.0,\"#f0f921\"]],\"type\":\"heatmapgl\"}],\"histogram\":[{\"marker\":{\"pattern\":{\"fillmode\":\"overlay\",\"size\":10,\"solidity\":0.2}},\"type\":\"histogram\"}],\"histogram2d\":[{\"colorbar\":{\"outlinewidth\":0,\"ticks\":\"\"},\"colorscale\":[[0.0,\"#0d0887\"],[0.1111111111111111,\"#46039f\"],[0.2222222222222222,\"#7201a8\"],[0.3333333333333333,\"#9c179e\"],[0.4444444444444444,\"#bd3786\"],[0.5555555555555556,\"#d8576b\"],[0.6666666666666666,\"#ed7953\"],[0.7777777777777778,\"#fb9f3a\"],[0.8888888888888888,\"#fdca26\"],[1.0,\"#f0f921\"]],\"type\":\"histogram2d\"}],\"histogram2dcontour\":[{\"colorbar\":{\"outlinewidth\":0,\"ticks\":\"\"},\"colorscale\":[[0.0,\"#0d0887\"],[0.1111111111111111,\"#46039f\"],[0.2222222222222222,\"#7201a8\"],[0.3333333333333333,\"#9c179e\"],[0.4444444444444444,\"#bd3786\"],[0.5555555555555556,\"#d8576b\"],[0.6666666666666666,\"#ed7953\"],[0.7777777777777778,\"#fb9f3a\"],[0.8888888888888888,\"#fdca26\"],[1.0,\"#f0f921\"]],\"type\":\"histogram2dcontour\"}],\"mesh3d\":[{\"colorbar\":{\"outlinewidth\":0,\"ticks\":\"\"},\"type\":\"mesh3d\"}],\"parcoords\":[{\"line\":{\"colorbar\":{\"outlinewidth\":0,\"ticks\":\"\"}},\"type\":\"parcoords\"}],\"pie\":[{\"automargin\":true,\"type\":\"pie\"}],\"scatter\":[{\"marker\":{\"colorbar\":{\"outlinewidth\":0,\"ticks\":\"\"}},\"type\":\"scatter\"}],\"scatter3d\":[{\"line\":{\"colorbar\":{\"outlinewidth\":0,\"ticks\":\"\"}},\"marker\":{\"colorbar\":{\"outlinewidth\":0,\"ticks\":\"\"}},\"type\":\"scatter3d\"}],\"scattercarpet\":[{\"marker\":{\"colorbar\":{\"outlinewidth\":0,\"ticks\":\"\"}},\"type\":\"scattercarpet\"}],\"scattergeo\":[{\"marker\":{\"colorbar\":{\"outlinewidth\":0,\"ticks\":\"\"}},\"type\":\"scattergeo\"}],\"scattergl\":[{\"marker\":{\"colorbar\":{\"outlinewidth\":0,\"ticks\":\"\"}},\"type\":\"scattergl\"}],\"scattermapbox\":[{\"marker\":{\"colorbar\":{\"outlinewidth\":0,\"ticks\":\"\"}},\"type\":\"scattermapbox\"}],\"scatterpolar\":[{\"marker\":{\"colorbar\":{\"outlinewidth\":0,\"ticks\":\"\"}},\"type\":\"scatterpolar\"}],\"scatterpolargl\":[{\"marker\":{\"colorbar\":{\"outlinewidth\":0,\"ticks\":\"\"}},\"type\":\"scatterpolargl\"}],\"scatterternary\":[{\"marker\":{\"colorbar\":{\"outlinewidth\":0,\"ticks\":\"\"}},\"type\":\"scatterternary\"}],\"surface\":[{\"colorbar\":{\"outlinewidth\":0,\"ticks\":\"\"},\"colorscale\":[[0.0,\"#0d0887\"],[0.1111111111111111,\"#46039f\"],[0.2222222222222222,\"#7201a8\"],[0.3333333333333333,\"#9c179e\"],[0.4444444444444444,\"#bd3786\"],[0.5555555555555556,\"#d8576b\"],[0.6666666666666666,\"#ed7953\"],[0.7777777777777778,\"#fb9f3a\"],[0.8888888888888888,\"#fdca26\"],[1.0,\"#f0f921\"]],\"type\":\"surface\"}],\"table\":[{\"cells\":{\"fill\":{\"color\":\"#EBF0F8\"},\"line\":{\"color\":\"white\"}},\"header\":{\"fill\":{\"color\":\"#C8D4E3\"},\"line\":{\"color\":\"white\"}},\"type\":\"table\"}]},\"layout\":{\"annotationdefaults\":{\"arrowcolor\":\"#2a3f5f\",\"arrowhead\":0,\"arrowwidth\":1},\"autotypenumbers\":\"strict\",\"coloraxis\":{\"colorbar\":{\"outlinewidth\":0,\"ticks\":\"\"}},\"colorscale\":{\"diverging\":[[0,\"#8e0152\"],[0.1,\"#c51b7d\"],[0.2,\"#de77ae\"],[0.3,\"#f1b6da\"],[0.4,\"#fde0ef\"],[0.5,\"#f7f7f7\"],[0.6,\"#e6f5d0\"],[0.7,\"#b8e186\"],[0.8,\"#7fbc41\"],[0.9,\"#4d9221\"],[1,\"#276419\"]],\"sequential\":[[0.0,\"#0d0887\"],[0.1111111111111111,\"#46039f\"],[0.2222222222222222,\"#7201a8\"],[0.3333333333333333,\"#9c179e\"],[0.4444444444444444,\"#bd3786\"],[0.5555555555555556,\"#d8576b\"],[0.6666666666666666,\"#ed7953\"],[0.7777777777777778,\"#fb9f3a\"],[0.8888888888888888,\"#fdca26\"],[1.0,\"#f0f921\"]],\"sequentialminus\":[[0.0,\"#0d0887\"],[0.1111111111111111,\"#46039f\"],[0.2222222222222222,\"#7201a8\"],[0.3333333333333333,\"#9c179e\"],[0.4444444444444444,\"#bd3786\"],[0.5555555555555556,\"#d8576b\"],[0.6666666666666666,\"#ed7953\"],[0.7777777777777778,\"#fb9f3a\"],[0.8888888888888888,\"#fdca26\"],[1.0,\"#f0f921\"]]},\"colorway\":[\"#636efa\",\"#EF553B\",\"#00cc96\",\"#ab63fa\",\"#FFA15A\",\"#19d3f3\",\"#FF6692\",\"#B6E880\",\"#FF97FF\",\"#FECB52\"],\"font\":{\"color\":\"#2a3f5f\"},\"geo\":{\"bgcolor\":\"white\",\"lakecolor\":\"white\",\"landcolor\":\"#E5ECF6\",\"showlakes\":true,\"showland\":true,\"subunitcolor\":\"white\"},\"hoverlabel\":{\"align\":\"left\"},\"hovermode\":\"closest\",\"mapbox\":{\"style\":\"light\"},\"paper_bgcolor\":\"white\",\"plot_bgcolor\":\"#E5ECF6\",\"polar\":{\"angularaxis\":{\"gridcolor\":\"white\",\"linecolor\":\"white\",\"ticks\":\"\"},\"bgcolor\":\"#E5ECF6\",\"radialaxis\":{\"gridcolor\":\"white\",\"linecolor\":\"white\",\"ticks\":\"\"}},\"scene\":{\"xaxis\":{\"backgroundcolor\":\"#E5ECF6\",\"gridcolor\":\"white\",\"gridwidth\":2,\"linecolor\":\"white\",\"showbackground\":true,\"ticks\":\"\",\"zerolinecolor\":\"white\"},\"yaxis\":{\"backgroundcolor\":\"#E5ECF6\",\"gridcolor\":\"white\",\"gridwidth\":2,\"linecolor\":\"white\",\"showbackground\":true,\"ticks\":\"\",\"zerolinecolor\":\"white\"},\"zaxis\":{\"backgroundcolor\":\"#E5ECF6\",\"gridcolor\":\"white\",\"gridwidth\":2,\"linecolor\":\"white\",\"showbackground\":true,\"ticks\":\"\",\"zerolinecolor\":\"white\"}},\"shapedefaults\":{\"line\":{\"color\":\"#2a3f5f\"}},\"ternary\":{\"aaxis\":{\"gridcolor\":\"white\",\"linecolor\":\"white\",\"ticks\":\"\"},\"baxis\":{\"gridcolor\":\"white\",\"linecolor\":\"white\",\"ticks\":\"\"},\"bgcolor\":\"#E5ECF6\",\"caxis\":{\"gridcolor\":\"white\",\"linecolor\":\"white\",\"ticks\":\"\"}},\"title\":{\"x\":0.05},\"xaxis\":{\"automargin\":true,\"gridcolor\":\"white\",\"linecolor\":\"white\",\"ticks\":\"\",\"title\":{\"standoff\":15},\"zerolinecolor\":\"white\",\"zerolinewidth\":2},\"yaxis\":{\"automargin\":true,\"gridcolor\":\"white\",\"linecolor\":\"white\",\"ticks\":\"\",\"title\":{\"standoff\":15},\"zerolinecolor\":\"white\",\"zerolinewidth\":2}}},\"yaxis2\":{\"anchor\":\"x2\",\"title\":{\"text\":\"Gastos [USD]\"}},\"xaxis2\":{\"anchor\":\"y2\"},\"margin\":{\"t\":75,\"l\":50},\"title\":{\"text\":\"Comparaci\\u00f3n de gastos 2021-2022\",\"x\":0.42},\"height\":400},                        {\"responsive\": true}                    ).then(function(){\n",
              "                            \n",
              "var gd = document.getElementById('b33ed567-3bce-4db0-bcd1-0d7da1e44bd6');\n",
              "var x = new MutationObserver(function (mutations, observer) {{\n",
              "        var display = window.getComputedStyle(gd).display;\n",
              "        if (!display || display === 'none') {{\n",
              "            console.log([gd, 'removed!']);\n",
              "            Plotly.purge(gd);\n",
              "            observer.disconnect();\n",
              "        }}\n",
              "}});\n",
              "\n",
              "// Listen for the removal of the full notebook cells\n",
              "var notebookContainer = gd.closest('#notebook-container');\n",
              "if (notebookContainer) {{\n",
              "    x.observe(notebookContainer, {childList: true});\n",
              "}}\n",
              "\n",
              "// Listen for the clearing of the current output cell\n",
              "var outputEl = gd.closest('.output');\n",
              "if (outputEl) {{\n",
              "    x.observe(outputEl, {childList: true});\n",
              "}}\n",
              "\n",
              "                        })                };                            </script>        </div>\n",
              "</body>\n",
              "</html>"
            ]
          },
          "metadata": {}
        }
      ]
    },
    {
      "cell_type": "code",
      "source": [
        "from plotly.subplots import make_subplots\n",
        "import plotly.graph_objects as go\n"
      ],
      "metadata": {
        "id": "gCGrYyKKbSfw"
      },
      "execution_count": null,
      "outputs": []
    },
    {
      "cell_type": "code",
      "source": [
        "fig3 = make_subplots(rows=3, cols=3, shared_yaxes=True, subplot_titles=(\"March\", \"April\", \"May\", \"June\", \"July\", \"August\", \"September\"))\n",
        "\n",
        "fig3.add_trace(go.Bar(x=df_comparison['Name'], y=df_comparison['Mar_x'],marker=dict(color='#20912b'),name='2021'),1, 1)\n",
        "fig3.add_trace(go.Bar(x=df_comparison['Name'], y=df_comparison['Mar_y'],marker=dict(color='#404040'),name='2022'),1, 1)\n",
        "\n",
        "fig3.add_trace(go.Bar(x=df_comparison['Name'], y=df_comparison['Apr_x'],marker=dict(color='#20912b'),name='2021'),1, 2)\n",
        "fig3.add_trace(go.Bar(x=df_comparison['Name'], y=df_comparison['Apr_y'],marker=dict(color='#404040'),name='2022'),1, 2)\n",
        "\n",
        "fig3.add_trace(go.Bar(x=df_comparison['Name'], y=df_comparison['May_x'],marker=dict(color='#20912b'),name='2021'),1, 3)\n",
        "fig3.add_trace(go.Bar(x=df_comparison['Name'], y=df_comparison['May_y'],marker=dict(color='#404040'),name='2022'),1, 3)\n",
        "\n",
        "fig3.add_trace(go.Bar(x=df_comparison['Name'], y=df_comparison['Jun_x'],marker=dict(color='#20912b'),name='2021'),2, 1)\n",
        "fig3.add_trace(go.Bar(x=df_comparison['Name'], y=df_comparison['Jun_y'],marker=dict(color='#404040'),name='2022'),2, 1)\n",
        "\n",
        "fig3.add_trace(go.Bar(x=df_comparison['Name'], y=df_comparison['Jul_x'],marker=dict(color='#20912b'),name='2021'),2, 2)\n",
        "fig3.add_trace(go.Bar(x=df_comparison['Name'], y=df_comparison['Jul_y'],marker=dict(color='#404040'),name='2022'),2, 2)\n",
        "\n",
        "fig3.add_trace(go.Bar(x=df_comparison['Name'], y=df_comparison['Aug_x'],marker=dict(color='#20912b'),name='2021'),2, 3)\n",
        "fig3.add_trace(go.Bar(x=df_comparison['Name'], y=df_comparison['Aug_y'],marker=dict(color='#404040'),name='2022'),2, 3)\n",
        "\n",
        "fig3.add_trace(go.Bar(x=df_comparison['Name'], y=df_comparison['Sep_x'],marker=dict(color='#20912b'),name='2021'),3, 1)\n",
        "fig3.add_trace(go.Bar(x=df_comparison['Name'], y=df_comparison['Sep_y'],marker=dict(color='#404040'),name='2022'),3, 1)\n",
        "\n",
        "fig3.update_yaxes(title_text=\"Cashflow Out [USD]\", row=1, col=1)\n",
        "fig3.update_yaxes(title_text=\"Cashflow Out [USD]\", row=1, col=2)\n",
        "fig3.update_yaxes(title_text=\"Cashflow Out [USD]\", row=1, col=3)\n",
        "fig3.update_yaxes(title_text=\"Cashflow Out [USD]\", row=2, col=1)\n",
        "fig3.update_yaxes(title_text=\"Cashflow Out [USD]\", row=2, col=2)\n",
        "fig3.update_yaxes(title_text=\"Cashflow Out [USD]\", row=2, col=3)\n",
        "fig3.update_yaxes(title_text=\"Cashflow Out [USD]\", row=3, col=1)\n",
        "\n",
        "fig3.update_layout(height=1200, width=1400)\n",
        "fig3.show()"
      ],
      "metadata": {
        "colab": {
          "base_uri": "https://localhost:8080/",
          "height": 1000
        },
        "id": "tOKZE6Pqa0po",
        "outputId": "9d3eabe3-728a-404b-9bda-06c60074c746"
      },
      "execution_count": null,
      "outputs": [
        {
          "output_type": "display_data",
          "data": {
            "text/html": [
              "<html>\n",
              "<head><meta charset=\"utf-8\" /></head>\n",
              "<body>\n",
              "    <div>            <script src=\"https://cdnjs.cloudflare.com/ajax/libs/mathjax/2.7.5/MathJax.js?config=TeX-AMS-MML_SVG\"></script><script type=\"text/javascript\">if (window.MathJax) {MathJax.Hub.Config({SVG: {font: \"STIX-Web\"}});}</script>                <script type=\"text/javascript\">window.PlotlyConfig = {MathJaxConfig: 'local'};</script>\n",
              "        <script src=\"https://cdn.plot.ly/plotly-2.8.3.min.js\"></script>                <div id=\"19a7eaef-e10b-4a3a-8231-6b0ec04f1a23\" class=\"plotly-graph-div\" style=\"height:1200px; width:1400px;\"></div>            <script type=\"text/javascript\">                                    window.PLOTLYENV=window.PLOTLYENV || {};                                    if (document.getElementById(\"19a7eaef-e10b-4a3a-8231-6b0ec04f1a23\")) {                    Plotly.newPlot(                        \"19a7eaef-e10b-4a3a-8231-6b0ec04f1a23\",                        [{\"marker\":{\"color\":\"#20912b\"},\"name\":\"2021\",\"x\":[\"PAYROLL\",\"Contractors\",\"C.L.R.E\",\"Uncategorized Expense\"],\"y\":[1600.0,12027.0,0.0,250.0],\"type\":\"bar\",\"xaxis\":\"x\",\"yaxis\":\"y\"},{\"marker\":{\"color\":\"#404040\"},\"name\":\"2022\",\"x\":[\"PAYROLL\",\"Contractors\",\"C.L.R.E\",\"Uncategorized Expense\"],\"y\":[93283.5,42458.0,0.0,1850.0],\"type\":\"bar\",\"xaxis\":\"x\",\"yaxis\":\"y\"},{\"marker\":{\"color\":\"#20912b\"},\"name\":\"2021\",\"x\":[\"PAYROLL\",\"Contractors\",\"C.L.R.E\",\"Uncategorized Expense\"],\"y\":[72862.15,40236.0,34760.0,2302.0],\"type\":\"bar\",\"xaxis\":\"x2\",\"yaxis\":\"y2\"},{\"marker\":{\"color\":\"#404040\"},\"name\":\"2022\",\"x\":[\"PAYROLL\",\"Contractors\",\"C.L.R.E\",\"Uncategorized Expense\"],\"y\":[81346.0,55469.0,0.0,1750.0],\"type\":\"bar\",\"xaxis\":\"x2\",\"yaxis\":\"y2\"},{\"marker\":{\"color\":\"#20912b\"},\"name\":\"2021\",\"x\":[\"PAYROLL\",\"Contractors\",\"C.L.R.E\",\"Uncategorized Expense\"],\"y\":[59534.07,56110.0,35700.0,2617.0],\"type\":\"bar\",\"xaxis\":\"x3\",\"yaxis\":\"y3\"},{\"marker\":{\"color\":\"#404040\"},\"name\":\"2022\",\"x\":[\"PAYROLL\",\"Contractors\",\"C.L.R.E\",\"Uncategorized Expense\"],\"y\":[97661.22,108476.0,155070.0,5850.0],\"type\":\"bar\",\"xaxis\":\"x3\",\"yaxis\":\"y3\"},{\"marker\":{\"color\":\"#20912b\"},\"name\":\"2021\",\"x\":[\"PAYROLL\",\"Contractors\",\"C.L.R.E\",\"Uncategorized Expense\"],\"y\":[56055.48,77297.0,18850.0,4333.0],\"type\":\"bar\",\"xaxis\":\"x4\",\"yaxis\":\"y4\"},{\"marker\":{\"color\":\"#404040\"},\"name\":\"2022\",\"x\":[\"PAYROLL\",\"Contractors\",\"C.L.R.E\",\"Uncategorized Expense\"],\"y\":[116312.0,119297.48,0.0,2650.0],\"type\":\"bar\",\"xaxis\":\"x4\",\"yaxis\":\"y4\"},{\"marker\":{\"color\":\"#20912b\"},\"name\":\"2021\",\"x\":[\"PAYROLL\",\"Contractors\",\"C.L.R.E\",\"Uncategorized Expense\"],\"y\":[64653.22,90734.0,15200.0,420.0],\"type\":\"bar\",\"xaxis\":\"x5\",\"yaxis\":\"y5\"},{\"marker\":{\"color\":\"#404040\"},\"name\":\"2022\",\"x\":[\"PAYROLL\",\"Contractors\",\"C.L.R.E\",\"Uncategorized Expense\"],\"y\":[101104.0,116523.86,87086.0,5168.0],\"type\":\"bar\",\"xaxis\":\"x5\",\"yaxis\":\"y5\"},{\"marker\":{\"color\":\"#20912b\"},\"name\":\"2021\",\"x\":[\"PAYROLL\",\"Contractors\",\"C.L.R.E\",\"Uncategorized Expense\"],\"y\":[47742.43,90492.0,15400.0,0.0],\"type\":\"bar\",\"xaxis\":\"x6\",\"yaxis\":\"y6\"},{\"marker\":{\"color\":\"#404040\"},\"name\":\"2022\",\"x\":[\"PAYROLL\",\"Contractors\",\"C.L.R.E\",\"Uncategorized Expense\"],\"y\":[97114.5,160401.0,25656.61,2000.0],\"type\":\"bar\",\"xaxis\":\"x6\",\"yaxis\":\"y6\"},{\"marker\":{\"color\":\"#20912b\"},\"name\":\"2021\",\"x\":[\"PAYROLL\",\"Contractors\",\"C.L.R.E\",\"Uncategorized Expense\"],\"y\":[71808.11,85864.0,0.0,2382.0],\"type\":\"bar\",\"xaxis\":\"x7\",\"yaxis\":\"y7\"},{\"marker\":{\"color\":\"#404040\"},\"name\":\"2022\",\"x\":[\"PAYROLL\",\"Contractors\",\"C.L.R.E\",\"Uncategorized Expense\"],\"y\":[103167.5,72157.0,0.0,1500.0],\"type\":\"bar\",\"xaxis\":\"x7\",\"yaxis\":\"y7\"}],                        {\"template\":{\"data\":{\"bar\":[{\"error_x\":{\"color\":\"#2a3f5f\"},\"error_y\":{\"color\":\"#2a3f5f\"},\"marker\":{\"line\":{\"color\":\"#E5ECF6\",\"width\":0.5},\"pattern\":{\"fillmode\":\"overlay\",\"size\":10,\"solidity\":0.2}},\"type\":\"bar\"}],\"barpolar\":[{\"marker\":{\"line\":{\"color\":\"#E5ECF6\",\"width\":0.5},\"pattern\":{\"fillmode\":\"overlay\",\"size\":10,\"solidity\":0.2}},\"type\":\"barpolar\"}],\"carpet\":[{\"aaxis\":{\"endlinecolor\":\"#2a3f5f\",\"gridcolor\":\"white\",\"linecolor\":\"white\",\"minorgridcolor\":\"white\",\"startlinecolor\":\"#2a3f5f\"},\"baxis\":{\"endlinecolor\":\"#2a3f5f\",\"gridcolor\":\"white\",\"linecolor\":\"white\",\"minorgridcolor\":\"white\",\"startlinecolor\":\"#2a3f5f\"},\"type\":\"carpet\"}],\"choropleth\":[{\"colorbar\":{\"outlinewidth\":0,\"ticks\":\"\"},\"type\":\"choropleth\"}],\"contour\":[{\"colorbar\":{\"outlinewidth\":0,\"ticks\":\"\"},\"colorscale\":[[0.0,\"#0d0887\"],[0.1111111111111111,\"#46039f\"],[0.2222222222222222,\"#7201a8\"],[0.3333333333333333,\"#9c179e\"],[0.4444444444444444,\"#bd3786\"],[0.5555555555555556,\"#d8576b\"],[0.6666666666666666,\"#ed7953\"],[0.7777777777777778,\"#fb9f3a\"],[0.8888888888888888,\"#fdca26\"],[1.0,\"#f0f921\"]],\"type\":\"contour\"}],\"contourcarpet\":[{\"colorbar\":{\"outlinewidth\":0,\"ticks\":\"\"},\"type\":\"contourcarpet\"}],\"heatmap\":[{\"colorbar\":{\"outlinewidth\":0,\"ticks\":\"\"},\"colorscale\":[[0.0,\"#0d0887\"],[0.1111111111111111,\"#46039f\"],[0.2222222222222222,\"#7201a8\"],[0.3333333333333333,\"#9c179e\"],[0.4444444444444444,\"#bd3786\"],[0.5555555555555556,\"#d8576b\"],[0.6666666666666666,\"#ed7953\"],[0.7777777777777778,\"#fb9f3a\"],[0.8888888888888888,\"#fdca26\"],[1.0,\"#f0f921\"]],\"type\":\"heatmap\"}],\"heatmapgl\":[{\"colorbar\":{\"outlinewidth\":0,\"ticks\":\"\"},\"colorscale\":[[0.0,\"#0d0887\"],[0.1111111111111111,\"#46039f\"],[0.2222222222222222,\"#7201a8\"],[0.3333333333333333,\"#9c179e\"],[0.4444444444444444,\"#bd3786\"],[0.5555555555555556,\"#d8576b\"],[0.6666666666666666,\"#ed7953\"],[0.7777777777777778,\"#fb9f3a\"],[0.8888888888888888,\"#fdca26\"],[1.0,\"#f0f921\"]],\"type\":\"heatmapgl\"}],\"histogram\":[{\"marker\":{\"pattern\":{\"fillmode\":\"overlay\",\"size\":10,\"solidity\":0.2}},\"type\":\"histogram\"}],\"histogram2d\":[{\"colorbar\":{\"outlinewidth\":0,\"ticks\":\"\"},\"colorscale\":[[0.0,\"#0d0887\"],[0.1111111111111111,\"#46039f\"],[0.2222222222222222,\"#7201a8\"],[0.3333333333333333,\"#9c179e\"],[0.4444444444444444,\"#bd3786\"],[0.5555555555555556,\"#d8576b\"],[0.6666666666666666,\"#ed7953\"],[0.7777777777777778,\"#fb9f3a\"],[0.8888888888888888,\"#fdca26\"],[1.0,\"#f0f921\"]],\"type\":\"histogram2d\"}],\"histogram2dcontour\":[{\"colorbar\":{\"outlinewidth\":0,\"ticks\":\"\"},\"colorscale\":[[0.0,\"#0d0887\"],[0.1111111111111111,\"#46039f\"],[0.2222222222222222,\"#7201a8\"],[0.3333333333333333,\"#9c179e\"],[0.4444444444444444,\"#bd3786\"],[0.5555555555555556,\"#d8576b\"],[0.6666666666666666,\"#ed7953\"],[0.7777777777777778,\"#fb9f3a\"],[0.8888888888888888,\"#fdca26\"],[1.0,\"#f0f921\"]],\"type\":\"histogram2dcontour\"}],\"mesh3d\":[{\"colorbar\":{\"outlinewidth\":0,\"ticks\":\"\"},\"type\":\"mesh3d\"}],\"parcoords\":[{\"line\":{\"colorbar\":{\"outlinewidth\":0,\"ticks\":\"\"}},\"type\":\"parcoords\"}],\"pie\":[{\"automargin\":true,\"type\":\"pie\"}],\"scatter\":[{\"marker\":{\"colorbar\":{\"outlinewidth\":0,\"ticks\":\"\"}},\"type\":\"scatter\"}],\"scatter3d\":[{\"line\":{\"colorbar\":{\"outlinewidth\":0,\"ticks\":\"\"}},\"marker\":{\"colorbar\":{\"outlinewidth\":0,\"ticks\":\"\"}},\"type\":\"scatter3d\"}],\"scattercarpet\":[{\"marker\":{\"colorbar\":{\"outlinewidth\":0,\"ticks\":\"\"}},\"type\":\"scattercarpet\"}],\"scattergeo\":[{\"marker\":{\"colorbar\":{\"outlinewidth\":0,\"ticks\":\"\"}},\"type\":\"scattergeo\"}],\"scattergl\":[{\"marker\":{\"colorbar\":{\"outlinewidth\":0,\"ticks\":\"\"}},\"type\":\"scattergl\"}],\"scattermapbox\":[{\"marker\":{\"colorbar\":{\"outlinewidth\":0,\"ticks\":\"\"}},\"type\":\"scattermapbox\"}],\"scatterpolar\":[{\"marker\":{\"colorbar\":{\"outlinewidth\":0,\"ticks\":\"\"}},\"type\":\"scatterpolar\"}],\"scatterpolargl\":[{\"marker\":{\"colorbar\":{\"outlinewidth\":0,\"ticks\":\"\"}},\"type\":\"scatterpolargl\"}],\"scatterternary\":[{\"marker\":{\"colorbar\":{\"outlinewidth\":0,\"ticks\":\"\"}},\"type\":\"scatterternary\"}],\"surface\":[{\"colorbar\":{\"outlinewidth\":0,\"ticks\":\"\"},\"colorscale\":[[0.0,\"#0d0887\"],[0.1111111111111111,\"#46039f\"],[0.2222222222222222,\"#7201a8\"],[0.3333333333333333,\"#9c179e\"],[0.4444444444444444,\"#bd3786\"],[0.5555555555555556,\"#d8576b\"],[0.6666666666666666,\"#ed7953\"],[0.7777777777777778,\"#fb9f3a\"],[0.8888888888888888,\"#fdca26\"],[1.0,\"#f0f921\"]],\"type\":\"surface\"}],\"table\":[{\"cells\":{\"fill\":{\"color\":\"#EBF0F8\"},\"line\":{\"color\":\"white\"}},\"header\":{\"fill\":{\"color\":\"#C8D4E3\"},\"line\":{\"color\":\"white\"}},\"type\":\"table\"}]},\"layout\":{\"annotationdefaults\":{\"arrowcolor\":\"#2a3f5f\",\"arrowhead\":0,\"arrowwidth\":1},\"autotypenumbers\":\"strict\",\"coloraxis\":{\"colorbar\":{\"outlinewidth\":0,\"ticks\":\"\"}},\"colorscale\":{\"diverging\":[[0,\"#8e0152\"],[0.1,\"#c51b7d\"],[0.2,\"#de77ae\"],[0.3,\"#f1b6da\"],[0.4,\"#fde0ef\"],[0.5,\"#f7f7f7\"],[0.6,\"#e6f5d0\"],[0.7,\"#b8e186\"],[0.8,\"#7fbc41\"],[0.9,\"#4d9221\"],[1,\"#276419\"]],\"sequential\":[[0.0,\"#0d0887\"],[0.1111111111111111,\"#46039f\"],[0.2222222222222222,\"#7201a8\"],[0.3333333333333333,\"#9c179e\"],[0.4444444444444444,\"#bd3786\"],[0.5555555555555556,\"#d8576b\"],[0.6666666666666666,\"#ed7953\"],[0.7777777777777778,\"#fb9f3a\"],[0.8888888888888888,\"#fdca26\"],[1.0,\"#f0f921\"]],\"sequentialminus\":[[0.0,\"#0d0887\"],[0.1111111111111111,\"#46039f\"],[0.2222222222222222,\"#7201a8\"],[0.3333333333333333,\"#9c179e\"],[0.4444444444444444,\"#bd3786\"],[0.5555555555555556,\"#d8576b\"],[0.6666666666666666,\"#ed7953\"],[0.7777777777777778,\"#fb9f3a\"],[0.8888888888888888,\"#fdca26\"],[1.0,\"#f0f921\"]]},\"colorway\":[\"#636efa\",\"#EF553B\",\"#00cc96\",\"#ab63fa\",\"#FFA15A\",\"#19d3f3\",\"#FF6692\",\"#B6E880\",\"#FF97FF\",\"#FECB52\"],\"font\":{\"color\":\"#2a3f5f\"},\"geo\":{\"bgcolor\":\"white\",\"lakecolor\":\"white\",\"landcolor\":\"#E5ECF6\",\"showlakes\":true,\"showland\":true,\"subunitcolor\":\"white\"},\"hoverlabel\":{\"align\":\"left\"},\"hovermode\":\"closest\",\"mapbox\":{\"style\":\"light\"},\"paper_bgcolor\":\"white\",\"plot_bgcolor\":\"#E5ECF6\",\"polar\":{\"angularaxis\":{\"gridcolor\":\"white\",\"linecolor\":\"white\",\"ticks\":\"\"},\"bgcolor\":\"#E5ECF6\",\"radialaxis\":{\"gridcolor\":\"white\",\"linecolor\":\"white\",\"ticks\":\"\"}},\"scene\":{\"xaxis\":{\"backgroundcolor\":\"#E5ECF6\",\"gridcolor\":\"white\",\"gridwidth\":2,\"linecolor\":\"white\",\"showbackground\":true,\"ticks\":\"\",\"zerolinecolor\":\"white\"},\"yaxis\":{\"backgroundcolor\":\"#E5ECF6\",\"gridcolor\":\"white\",\"gridwidth\":2,\"linecolor\":\"white\",\"showbackground\":true,\"ticks\":\"\",\"zerolinecolor\":\"white\"},\"zaxis\":{\"backgroundcolor\":\"#E5ECF6\",\"gridcolor\":\"white\",\"gridwidth\":2,\"linecolor\":\"white\",\"showbackground\":true,\"ticks\":\"\",\"zerolinecolor\":\"white\"}},\"shapedefaults\":{\"line\":{\"color\":\"#2a3f5f\"}},\"ternary\":{\"aaxis\":{\"gridcolor\":\"white\",\"linecolor\":\"white\",\"ticks\":\"\"},\"baxis\":{\"gridcolor\":\"white\",\"linecolor\":\"white\",\"ticks\":\"\"},\"bgcolor\":\"#E5ECF6\",\"caxis\":{\"gridcolor\":\"white\",\"linecolor\":\"white\",\"ticks\":\"\"}},\"title\":{\"x\":0.05},\"xaxis\":{\"automargin\":true,\"gridcolor\":\"white\",\"linecolor\":\"white\",\"ticks\":\"\",\"title\":{\"standoff\":15},\"zerolinecolor\":\"white\",\"zerolinewidth\":2},\"yaxis\":{\"automargin\":true,\"gridcolor\":\"white\",\"linecolor\":\"white\",\"ticks\":\"\",\"title\":{\"standoff\":15},\"zerolinecolor\":\"white\",\"zerolinewidth\":2}}},\"xaxis\":{\"anchor\":\"y\",\"domain\":[0.0,0.2888888888888889]},\"yaxis\":{\"anchor\":\"x\",\"domain\":[0.7777777777777778,1.0],\"title\":{\"text\":\"Cashflow Out [USD]\"}},\"xaxis2\":{\"anchor\":\"y2\",\"domain\":[0.35555555555555557,0.6444444444444445]},\"yaxis2\":{\"anchor\":\"x2\",\"domain\":[0.7777777777777778,1.0],\"matches\":\"y\",\"showticklabels\":false,\"title\":{\"text\":\"Cashflow Out [USD]\"}},\"xaxis3\":{\"anchor\":\"y3\",\"domain\":[0.7111111111111111,1.0]},\"yaxis3\":{\"anchor\":\"x3\",\"domain\":[0.7777777777777778,1.0],\"matches\":\"y\",\"showticklabels\":false,\"title\":{\"text\":\"Cashflow Out [USD]\"}},\"xaxis4\":{\"anchor\":\"y4\",\"domain\":[0.0,0.2888888888888889]},\"yaxis4\":{\"anchor\":\"x4\",\"domain\":[0.3888888888888889,0.6111111111111112],\"title\":{\"text\":\"Cashflow Out [USD]\"}},\"xaxis5\":{\"anchor\":\"y5\",\"domain\":[0.35555555555555557,0.6444444444444445]},\"yaxis5\":{\"anchor\":\"x5\",\"domain\":[0.3888888888888889,0.6111111111111112],\"matches\":\"y4\",\"showticklabels\":false,\"title\":{\"text\":\"Cashflow Out [USD]\"}},\"xaxis6\":{\"anchor\":\"y6\",\"domain\":[0.7111111111111111,1.0]},\"yaxis6\":{\"anchor\":\"x6\",\"domain\":[0.3888888888888889,0.6111111111111112],\"matches\":\"y4\",\"showticklabels\":false,\"title\":{\"text\":\"Cashflow Out [USD]\"}},\"xaxis7\":{\"anchor\":\"y7\",\"domain\":[0.0,0.2888888888888889]},\"yaxis7\":{\"anchor\":\"x7\",\"domain\":[0.0,0.22222222222222224],\"title\":{\"text\":\"Cashflow Out [USD]\"}},\"xaxis8\":{\"anchor\":\"y8\",\"domain\":[0.35555555555555557,0.6444444444444445]},\"yaxis8\":{\"anchor\":\"x8\",\"domain\":[0.0,0.22222222222222224],\"matches\":\"y7\",\"showticklabels\":false},\"xaxis9\":{\"anchor\":\"y9\",\"domain\":[0.7111111111111111,1.0]},\"yaxis9\":{\"anchor\":\"x9\",\"domain\":[0.0,0.22222222222222224],\"matches\":\"y7\",\"showticklabels\":false},\"annotations\":[{\"font\":{\"size\":16},\"showarrow\":false,\"text\":\"March\",\"x\":0.14444444444444446,\"xanchor\":\"center\",\"xref\":\"paper\",\"y\":1.0,\"yanchor\":\"bottom\",\"yref\":\"paper\"},{\"font\":{\"size\":16},\"showarrow\":false,\"text\":\"April\",\"x\":0.5,\"xanchor\":\"center\",\"xref\":\"paper\",\"y\":1.0,\"yanchor\":\"bottom\",\"yref\":\"paper\"},{\"font\":{\"size\":16},\"showarrow\":false,\"text\":\"May\",\"x\":0.8555555555555556,\"xanchor\":\"center\",\"xref\":\"paper\",\"y\":1.0,\"yanchor\":\"bottom\",\"yref\":\"paper\"},{\"font\":{\"size\":16},\"showarrow\":false,\"text\":\"June\",\"x\":0.14444444444444446,\"xanchor\":\"center\",\"xref\":\"paper\",\"y\":0.6111111111111112,\"yanchor\":\"bottom\",\"yref\":\"paper\"},{\"font\":{\"size\":16},\"showarrow\":false,\"text\":\"July\",\"x\":0.5,\"xanchor\":\"center\",\"xref\":\"paper\",\"y\":0.6111111111111112,\"yanchor\":\"bottom\",\"yref\":\"paper\"},{\"font\":{\"size\":16},\"showarrow\":false,\"text\":\"August\",\"x\":0.8555555555555556,\"xanchor\":\"center\",\"xref\":\"paper\",\"y\":0.6111111111111112,\"yanchor\":\"bottom\",\"yref\":\"paper\"},{\"font\":{\"size\":16},\"showarrow\":false,\"text\":\"September\",\"x\":0.14444444444444446,\"xanchor\":\"center\",\"xref\":\"paper\",\"y\":0.22222222222222224,\"yanchor\":\"bottom\",\"yref\":\"paper\"}],\"height\":1200,\"width\":1400},                        {\"responsive\": true}                    ).then(function(){\n",
              "                            \n",
              "var gd = document.getElementById('19a7eaef-e10b-4a3a-8231-6b0ec04f1a23');\n",
              "var x = new MutationObserver(function (mutations, observer) {{\n",
              "        var display = window.getComputedStyle(gd).display;\n",
              "        if (!display || display === 'none') {{\n",
              "            console.log([gd, 'removed!']);\n",
              "            Plotly.purge(gd);\n",
              "            observer.disconnect();\n",
              "        }}\n",
              "}});\n",
              "\n",
              "// Listen for the removal of the full notebook cells\n",
              "var notebookContainer = gd.closest('#notebook-container');\n",
              "if (notebookContainer) {{\n",
              "    x.observe(notebookContainer, {childList: true});\n",
              "}}\n",
              "\n",
              "// Listen for the clearing of the current output cell\n",
              "var outputEl = gd.closest('.output');\n",
              "if (outputEl) {{\n",
              "    x.observe(outputEl, {childList: true});\n",
              "}}\n",
              "\n",
              "                        })                };                            </script>        </div>\n",
              "</body>\n",
              "</html>"
            ]
          },
          "metadata": {}
        }
      ]
    },
    {
      "cell_type": "markdown",
      "source": [
        "# 3.1 Proporcion de gastos en 2022"
      ],
      "metadata": {
        "id": "rV14SOQ6TR_X"
      }
    },
    {
      "cell_type": "code",
      "source": [
        "\n",
        "df_2022 = pd.read_csv(\"/content/drive/MyDrive/Mis Documentos/Curso de Python/PROYECTOS/Proyecto Data Visualization/profit_and_loss_accrual_2022.csv\")"
      ],
      "metadata": {
        "id": "B_PUqQ68TO4K"
      },
      "execution_count": null,
      "outputs": []
    },
    {
      "cell_type": "code",
      "source": [
        "\n",
        "df_E2022 = df_2022.drop(['Unnamed: 0','Category','Code','Oct','Nov','Dec'],axis = 1)"
      ],
      "metadata": {
        "id": "qlSRiUQYTYwR"
      },
      "execution_count": null,
      "outputs": []
    },
    {
      "cell_type": "code",
      "source": [
        "\n",
        "df_E2022 = df_E2022.drop([0,13,19,],axis=0)"
      ],
      "metadata": {
        "id": "nf7T6EAqUkuN"
      },
      "execution_count": null,
      "outputs": []
    },
    {
      "cell_type": "code",
      "source": [
        "\n",
        "df_E2022 = df_E2022.reset_index()\n",
        "df_E2022 = df_E2022.drop(['index'],axis = 1)\n",
        "\n",
        "df_E2022 = df_E2022.fillna(0)"
      ],
      "metadata": {
        "id": "HHKHVPROVNci"
      },
      "execution_count": null,
      "outputs": []
    },
    {
      "cell_type": "code",
      "source": [
        "\n",
        "for i in df_E2022.columns[1:]:\n",
        "  df_E2022[i] = df_E2022[i].replace({',':''},regex=True)\n",
        "\n",
        "for i in df_E2022.columns[1:]:\n",
        "  df_E2022[i] = df_E2022[i].astype('float')"
      ],
      "metadata": {
        "id": "ALB9mTs_VkEe"
      },
      "execution_count": null,
      "outputs": []
    },
    {
      "cell_type": "code",
      "source": [
        "df_E2022.to_csv('/content/drive/MyDrive/Mis Documentos/Curso de Python/PROYECTOS/Proyecto Data Visualization/Expenses_2022.csv', index=False)"
      ],
      "metadata": {
        "id": "BosvAwGZV9nj"
      },
      "execution_count": null,
      "outputs": []
    },
    {
      "cell_type": "code",
      "source": [
        "#CORRER ESTA LINEA DE CODIGO\n",
        "#df_E2022 = pd.read_csv(\"/content/drive/MyDrive/Mis Documentos/Curso de Python/PROYECTOS/Proyecto Data Visualization/Expenses_2022.csv\")\n",
        "#Arellano\n",
        "df_E2022 = pd.read_csv(\"/content/drive/MyDrive/Mis Documentos/Curso de Python/PROYECTOS/Proyecto Data Visualization/Expenses_2022.csv\")\n"
      ],
      "metadata": {
        "id": "TLaNbRV3NRVg"
      },
      "execution_count": null,
      "outputs": []
    },
    {
      "cell_type": "code",
      "source": [
        "df_E2022"
      ],
      "metadata": {
        "id": "QbzJr46HTY6_"
      },
      "execution_count": null,
      "outputs": []
    },
    {
      "cell_type": "code",
      "source": [
        "#CORRER ESTA LINEA DE CODIGO\n",
        "import plotly.express as px\n",
        "fig4 = px.pie(df_E2022, values='Totals', names='Name',\n",
        "             labels={'Name':'Categoria','Totals':'Gasto[USD]'})\n",
        "fig4.update_traces(textposition='inside',textinfo='percent+label')\n",
        "fig4.show()\n",
        "\n",
        "#title='Proporción de Gastos año 2022',"
      ],
      "metadata": {
        "colab": {
          "base_uri": "https://localhost:8080/",
          "height": 542
        },
        "id": "edjAhmbaj7sv",
        "outputId": "dfee759e-2a0e-4d14-d5a8-aca004124e61"
      },
      "execution_count": null,
      "outputs": [
        {
          "output_type": "display_data",
          "data": {
            "text/html": [
              "<html>\n",
              "<head><meta charset=\"utf-8\" /></head>\n",
              "<body>\n",
              "    <div>            <script src=\"https://cdnjs.cloudflare.com/ajax/libs/mathjax/2.7.5/MathJax.js?config=TeX-AMS-MML_SVG\"></script><script type=\"text/javascript\">if (window.MathJax) {MathJax.Hub.Config({SVG: {font: \"STIX-Web\"}});}</script>                <script type=\"text/javascript\">window.PlotlyConfig = {MathJaxConfig: 'local'};</script>\n",
              "        <script src=\"https://cdn.plot.ly/plotly-2.8.3.min.js\"></script>                <div id=\"645d1daa-76f8-44c0-8af4-efb7adedcd6c\" class=\"plotly-graph-div\" style=\"height:525px; width:100%;\"></div>            <script type=\"text/javascript\">                                    window.PLOTLYENV=window.PLOTLYENV || {};                                    if (document.getElementById(\"645d1daa-76f8-44c0-8af4-efb7adedcd6c\")) {                    Plotly.newPlot(                        \"645d1daa-76f8-44c0-8af4-efb7adedcd6c\",                        [{\"domain\":{\"x\":[0.0,1.0],\"y\":[0.0,1.0]},\"hovertemplate\":\"Categoria=%{label}<br>Gasto[USD]=%{value}<extra></extra>\",\"labels\":[\"GAS\",\"FOOD\",\"MATERIALS\",\"PAYROLL\",\"LOAN\",\"Contractors\",\"ACCOUNTING SERVICES\",\"OTHER SERVICES\",\"C.L.R.E\",\"TOOLS \",\"Property and Equipment\",\"Rent or Lease Expense\",\"Maintenance & Repairs Expense\",\"Utilities Expense\",\"Office Supplies Expense\",\"Telephone Expense\",\"Other Office Expense\",\"Insurance Expense\",\"Uncategorized Expense\",\"Personal Expenses\",\"Travel and Entertainment\",\"Transportation and Fuel\"],\"legendgroup\":\"\",\"name\":\"\",\"showlegend\":true,\"values\":[5596.1,3325.0,79243.88,863202.15,8500.0,882591.34,10738.96,8718.12,434640.61,2240.43,31165.18,14800.0,14530.13,864.79,1349.71,525.05,340.46,586.54,29113.0,1343.97,3414.29,1121.42],\"type\":\"pie\",\"textinfo\":\"percent+label\",\"textposition\":\"inside\"}],                        {\"template\":{\"data\":{\"bar\":[{\"error_x\":{\"color\":\"#2a3f5f\"},\"error_y\":{\"color\":\"#2a3f5f\"},\"marker\":{\"line\":{\"color\":\"#E5ECF6\",\"width\":0.5},\"pattern\":{\"fillmode\":\"overlay\",\"size\":10,\"solidity\":0.2}},\"type\":\"bar\"}],\"barpolar\":[{\"marker\":{\"line\":{\"color\":\"#E5ECF6\",\"width\":0.5},\"pattern\":{\"fillmode\":\"overlay\",\"size\":10,\"solidity\":0.2}},\"type\":\"barpolar\"}],\"carpet\":[{\"aaxis\":{\"endlinecolor\":\"#2a3f5f\",\"gridcolor\":\"white\",\"linecolor\":\"white\",\"minorgridcolor\":\"white\",\"startlinecolor\":\"#2a3f5f\"},\"baxis\":{\"endlinecolor\":\"#2a3f5f\",\"gridcolor\":\"white\",\"linecolor\":\"white\",\"minorgridcolor\":\"white\",\"startlinecolor\":\"#2a3f5f\"},\"type\":\"carpet\"}],\"choropleth\":[{\"colorbar\":{\"outlinewidth\":0,\"ticks\":\"\"},\"type\":\"choropleth\"}],\"contour\":[{\"colorbar\":{\"outlinewidth\":0,\"ticks\":\"\"},\"colorscale\":[[0.0,\"#0d0887\"],[0.1111111111111111,\"#46039f\"],[0.2222222222222222,\"#7201a8\"],[0.3333333333333333,\"#9c179e\"],[0.4444444444444444,\"#bd3786\"],[0.5555555555555556,\"#d8576b\"],[0.6666666666666666,\"#ed7953\"],[0.7777777777777778,\"#fb9f3a\"],[0.8888888888888888,\"#fdca26\"],[1.0,\"#f0f921\"]],\"type\":\"contour\"}],\"contourcarpet\":[{\"colorbar\":{\"outlinewidth\":0,\"ticks\":\"\"},\"type\":\"contourcarpet\"}],\"heatmap\":[{\"colorbar\":{\"outlinewidth\":0,\"ticks\":\"\"},\"colorscale\":[[0.0,\"#0d0887\"],[0.1111111111111111,\"#46039f\"],[0.2222222222222222,\"#7201a8\"],[0.3333333333333333,\"#9c179e\"],[0.4444444444444444,\"#bd3786\"],[0.5555555555555556,\"#d8576b\"],[0.6666666666666666,\"#ed7953\"],[0.7777777777777778,\"#fb9f3a\"],[0.8888888888888888,\"#fdca26\"],[1.0,\"#f0f921\"]],\"type\":\"heatmap\"}],\"heatmapgl\":[{\"colorbar\":{\"outlinewidth\":0,\"ticks\":\"\"},\"colorscale\":[[0.0,\"#0d0887\"],[0.1111111111111111,\"#46039f\"],[0.2222222222222222,\"#7201a8\"],[0.3333333333333333,\"#9c179e\"],[0.4444444444444444,\"#bd3786\"],[0.5555555555555556,\"#d8576b\"],[0.6666666666666666,\"#ed7953\"],[0.7777777777777778,\"#fb9f3a\"],[0.8888888888888888,\"#fdca26\"],[1.0,\"#f0f921\"]],\"type\":\"heatmapgl\"}],\"histogram\":[{\"marker\":{\"pattern\":{\"fillmode\":\"overlay\",\"size\":10,\"solidity\":0.2}},\"type\":\"histogram\"}],\"histogram2d\":[{\"colorbar\":{\"outlinewidth\":0,\"ticks\":\"\"},\"colorscale\":[[0.0,\"#0d0887\"],[0.1111111111111111,\"#46039f\"],[0.2222222222222222,\"#7201a8\"],[0.3333333333333333,\"#9c179e\"],[0.4444444444444444,\"#bd3786\"],[0.5555555555555556,\"#d8576b\"],[0.6666666666666666,\"#ed7953\"],[0.7777777777777778,\"#fb9f3a\"],[0.8888888888888888,\"#fdca26\"],[1.0,\"#f0f921\"]],\"type\":\"histogram2d\"}],\"histogram2dcontour\":[{\"colorbar\":{\"outlinewidth\":0,\"ticks\":\"\"},\"colorscale\":[[0.0,\"#0d0887\"],[0.1111111111111111,\"#46039f\"],[0.2222222222222222,\"#7201a8\"],[0.3333333333333333,\"#9c179e\"],[0.4444444444444444,\"#bd3786\"],[0.5555555555555556,\"#d8576b\"],[0.6666666666666666,\"#ed7953\"],[0.7777777777777778,\"#fb9f3a\"],[0.8888888888888888,\"#fdca26\"],[1.0,\"#f0f921\"]],\"type\":\"histogram2dcontour\"}],\"mesh3d\":[{\"colorbar\":{\"outlinewidth\":0,\"ticks\":\"\"},\"type\":\"mesh3d\"}],\"parcoords\":[{\"line\":{\"colorbar\":{\"outlinewidth\":0,\"ticks\":\"\"}},\"type\":\"parcoords\"}],\"pie\":[{\"automargin\":true,\"type\":\"pie\"}],\"scatter\":[{\"marker\":{\"colorbar\":{\"outlinewidth\":0,\"ticks\":\"\"}},\"type\":\"scatter\"}],\"scatter3d\":[{\"line\":{\"colorbar\":{\"outlinewidth\":0,\"ticks\":\"\"}},\"marker\":{\"colorbar\":{\"outlinewidth\":0,\"ticks\":\"\"}},\"type\":\"scatter3d\"}],\"scattercarpet\":[{\"marker\":{\"colorbar\":{\"outlinewidth\":0,\"ticks\":\"\"}},\"type\":\"scattercarpet\"}],\"scattergeo\":[{\"marker\":{\"colorbar\":{\"outlinewidth\":0,\"ticks\":\"\"}},\"type\":\"scattergeo\"}],\"scattergl\":[{\"marker\":{\"colorbar\":{\"outlinewidth\":0,\"ticks\":\"\"}},\"type\":\"scattergl\"}],\"scattermapbox\":[{\"marker\":{\"colorbar\":{\"outlinewidth\":0,\"ticks\":\"\"}},\"type\":\"scattermapbox\"}],\"scatterpolar\":[{\"marker\":{\"colorbar\":{\"outlinewidth\":0,\"ticks\":\"\"}},\"type\":\"scatterpolar\"}],\"scatterpolargl\":[{\"marker\":{\"colorbar\":{\"outlinewidth\":0,\"ticks\":\"\"}},\"type\":\"scatterpolargl\"}],\"scatterternary\":[{\"marker\":{\"colorbar\":{\"outlinewidth\":0,\"ticks\":\"\"}},\"type\":\"scatterternary\"}],\"surface\":[{\"colorbar\":{\"outlinewidth\":0,\"ticks\":\"\"},\"colorscale\":[[0.0,\"#0d0887\"],[0.1111111111111111,\"#46039f\"],[0.2222222222222222,\"#7201a8\"],[0.3333333333333333,\"#9c179e\"],[0.4444444444444444,\"#bd3786\"],[0.5555555555555556,\"#d8576b\"],[0.6666666666666666,\"#ed7953\"],[0.7777777777777778,\"#fb9f3a\"],[0.8888888888888888,\"#fdca26\"],[1.0,\"#f0f921\"]],\"type\":\"surface\"}],\"table\":[{\"cells\":{\"fill\":{\"color\":\"#EBF0F8\"},\"line\":{\"color\":\"white\"}},\"header\":{\"fill\":{\"color\":\"#C8D4E3\"},\"line\":{\"color\":\"white\"}},\"type\":\"table\"}]},\"layout\":{\"annotationdefaults\":{\"arrowcolor\":\"#2a3f5f\",\"arrowhead\":0,\"arrowwidth\":1},\"autotypenumbers\":\"strict\",\"coloraxis\":{\"colorbar\":{\"outlinewidth\":0,\"ticks\":\"\"}},\"colorscale\":{\"diverging\":[[0,\"#8e0152\"],[0.1,\"#c51b7d\"],[0.2,\"#de77ae\"],[0.3,\"#f1b6da\"],[0.4,\"#fde0ef\"],[0.5,\"#f7f7f7\"],[0.6,\"#e6f5d0\"],[0.7,\"#b8e186\"],[0.8,\"#7fbc41\"],[0.9,\"#4d9221\"],[1,\"#276419\"]],\"sequential\":[[0.0,\"#0d0887\"],[0.1111111111111111,\"#46039f\"],[0.2222222222222222,\"#7201a8\"],[0.3333333333333333,\"#9c179e\"],[0.4444444444444444,\"#bd3786\"],[0.5555555555555556,\"#d8576b\"],[0.6666666666666666,\"#ed7953\"],[0.7777777777777778,\"#fb9f3a\"],[0.8888888888888888,\"#fdca26\"],[1.0,\"#f0f921\"]],\"sequentialminus\":[[0.0,\"#0d0887\"],[0.1111111111111111,\"#46039f\"],[0.2222222222222222,\"#7201a8\"],[0.3333333333333333,\"#9c179e\"],[0.4444444444444444,\"#bd3786\"],[0.5555555555555556,\"#d8576b\"],[0.6666666666666666,\"#ed7953\"],[0.7777777777777778,\"#fb9f3a\"],[0.8888888888888888,\"#fdca26\"],[1.0,\"#f0f921\"]]},\"colorway\":[\"#636efa\",\"#EF553B\",\"#00cc96\",\"#ab63fa\",\"#FFA15A\",\"#19d3f3\",\"#FF6692\",\"#B6E880\",\"#FF97FF\",\"#FECB52\"],\"font\":{\"color\":\"#2a3f5f\"},\"geo\":{\"bgcolor\":\"white\",\"lakecolor\":\"white\",\"landcolor\":\"#E5ECF6\",\"showlakes\":true,\"showland\":true,\"subunitcolor\":\"white\"},\"hoverlabel\":{\"align\":\"left\"},\"hovermode\":\"closest\",\"mapbox\":{\"style\":\"light\"},\"paper_bgcolor\":\"white\",\"plot_bgcolor\":\"#E5ECF6\",\"polar\":{\"angularaxis\":{\"gridcolor\":\"white\",\"linecolor\":\"white\",\"ticks\":\"\"},\"bgcolor\":\"#E5ECF6\",\"radialaxis\":{\"gridcolor\":\"white\",\"linecolor\":\"white\",\"ticks\":\"\"}},\"scene\":{\"xaxis\":{\"backgroundcolor\":\"#E5ECF6\",\"gridcolor\":\"white\",\"gridwidth\":2,\"linecolor\":\"white\",\"showbackground\":true,\"ticks\":\"\",\"zerolinecolor\":\"white\"},\"yaxis\":{\"backgroundcolor\":\"#E5ECF6\",\"gridcolor\":\"white\",\"gridwidth\":2,\"linecolor\":\"white\",\"showbackground\":true,\"ticks\":\"\",\"zerolinecolor\":\"white\"},\"zaxis\":{\"backgroundcolor\":\"#E5ECF6\",\"gridcolor\":\"white\",\"gridwidth\":2,\"linecolor\":\"white\",\"showbackground\":true,\"ticks\":\"\",\"zerolinecolor\":\"white\"}},\"shapedefaults\":{\"line\":{\"color\":\"#2a3f5f\"}},\"ternary\":{\"aaxis\":{\"gridcolor\":\"white\",\"linecolor\":\"white\",\"ticks\":\"\"},\"baxis\":{\"gridcolor\":\"white\",\"linecolor\":\"white\",\"ticks\":\"\"},\"bgcolor\":\"#E5ECF6\",\"caxis\":{\"gridcolor\":\"white\",\"linecolor\":\"white\",\"ticks\":\"\"}},\"title\":{\"x\":0.05},\"xaxis\":{\"automargin\":true,\"gridcolor\":\"white\",\"linecolor\":\"white\",\"ticks\":\"\",\"title\":{\"standoff\":15},\"zerolinecolor\":\"white\",\"zerolinewidth\":2},\"yaxis\":{\"automargin\":true,\"gridcolor\":\"white\",\"linecolor\":\"white\",\"ticks\":\"\",\"title\":{\"standoff\":15},\"zerolinecolor\":\"white\",\"zerolinewidth\":2}}},\"legend\":{\"tracegroupgap\":0},\"margin\":{\"t\":60}},                        {\"responsive\": true}                    ).then(function(){\n",
              "                            \n",
              "var gd = document.getElementById('645d1daa-76f8-44c0-8af4-efb7adedcd6c');\n",
              "var x = new MutationObserver(function (mutations, observer) {{\n",
              "        var display = window.getComputedStyle(gd).display;\n",
              "        if (!display || display === 'none') {{\n",
              "            console.log([gd, 'removed!']);\n",
              "            Plotly.purge(gd);\n",
              "            observer.disconnect();\n",
              "        }}\n",
              "}});\n",
              "\n",
              "// Listen for the removal of the full notebook cells\n",
              "var notebookContainer = gd.closest('#notebook-container');\n",
              "if (notebookContainer) {{\n",
              "    x.observe(notebookContainer, {childList: true});\n",
              "}}\n",
              "\n",
              "// Listen for the clearing of the current output cell\n",
              "var outputEl = gd.closest('.output');\n",
              "if (outputEl) {{\n",
              "    x.observe(outputEl, {childList: true});\n",
              "}}\n",
              "\n",
              "                        })                };                            </script>        </div>\n",
              "</body>\n",
              "</html>"
            ]
          },
          "metadata": {}
        }
      ]
    },
    {
      "cell_type": "code",
      "source": [
        "labels = [df_E2022['Name']]\n",
        "\n",
        "fig5 = make_subplots(rows=3, cols=3, shared_yaxes=True, subplot_titles=(\"January\", \"February\",\"March\",\"April\",\"May\",\"June\",\"July\",\"August\",\"September\")\n",
        ",specs=[[{\"type\": \"pie\"},{\"type\": \"pie\"},{\"type\": \"pie\"}],\n",
        "        [{\"type\": \"pie\"},{\"type\": \"pie\"},{\"type\": \"pie\"}],\n",
        "        [{\"type\": \"pie\"},{\"type\": \"pie\"},{\"type\": \"pie\"}]])\n",
        "\n",
        "fig5.add_trace(go.Pie(values=df_E2022['Jan'],labels=df_E2022['Name'],name=\"Categoria\"),1, 1)\n",
        "fig5.add_trace(go.Pie(values=df_E2022['Feb'],labels=df_E2022['Name'],name=\"Categoria\"),1, 2)\n",
        "fig5.add_trace(go.Pie(values=df_E2022['Mar'],labels=df_E2022['Name'],name=\"Categoria\"),1, 3)\n",
        "fig5.add_trace(go.Pie(values=df_E2022['Apr'],labels=df_E2022['Name'],name=\"Categoria\"),2, 1)\n",
        "fig5.add_trace(go.Pie(values=df_E2022['May'],labels=df_E2022['Name'],name=\"Categoria\"),2, 2)\n",
        "fig5.add_trace(go.Pie(values=df_E2022['Jun'],labels=df_E2022['Name'],name=\"Categoria\"),2, 3)\n",
        "fig5.add_trace(go.Pie(values=df_E2022['Jul'],labels=df_E2022['Name'],name=\"Categoria\"),3, 1)\n",
        "fig5.add_trace(go.Pie(values=df_E2022['Aug'],labels=df_E2022['Name'],name=\"Categoria\"),3, 2)\n",
        "fig5.add_trace(go.Pie(values=df_E2022['Sep'],labels=df_E2022['Name'],name=\"Categoria\"),3, 3)\n",
        "\n",
        "fig5.update_traces(textposition='inside',textinfo='percent+label')\n",
        "\n",
        "\n",
        "fig5.update_layout(height=1200, width=1200)\n",
        "fig5.show()"
      ],
      "metadata": {
        "colab": {
          "base_uri": "https://localhost:8080/",
          "height": 1000
        },
        "id": "zheoBaeQaO1Y",
        "outputId": "5bb87300-28b3-469d-d41e-0bcd9bb75588"
      },
      "execution_count": null,
      "outputs": [
        {
          "output_type": "display_data",
          "data": {
            "text/html": [
              "<html>\n",
              "<head><meta charset=\"utf-8\" /></head>\n",
              "<body>\n",
              "    <div>            <script src=\"https://cdnjs.cloudflare.com/ajax/libs/mathjax/2.7.5/MathJax.js?config=TeX-AMS-MML_SVG\"></script><script type=\"text/javascript\">if (window.MathJax) {MathJax.Hub.Config({SVG: {font: \"STIX-Web\"}});}</script>                <script type=\"text/javascript\">window.PlotlyConfig = {MathJaxConfig: 'local'};</script>\n",
              "        <script src=\"https://cdn.plot.ly/plotly-2.8.3.min.js\"></script>                <div id=\"3708dd2f-ea30-40a0-953b-3394a892094a\" class=\"plotly-graph-div\" style=\"height:1200px; width:1200px;\"></div>            <script type=\"text/javascript\">                                    window.PLOTLYENV=window.PLOTLYENV || {};                                    if (document.getElementById(\"3708dd2f-ea30-40a0-953b-3394a892094a\")) {                    Plotly.newPlot(                        \"3708dd2f-ea30-40a0-953b-3394a892094a\",                        [{\"labels\":[\"GAS\",\"FOOD\",\"MATERIALS\",\"PAYROLL\",\"LOAN\",\"Contractors\",\"ACCOUNTING SERVICES\",\"OTHER SERVICES\",\"C.L.R.E\",\"TOOLS \",\"Property and Equipment\",\"Rent or Lease Expense\",\"Maintenance & Repairs Expense\",\"Utilities Expense\",\"Office Supplies Expense\",\"Telephone Expense\",\"Other Office Expense\",\"Insurance Expense\",\"Uncategorized Expense\",\"Personal Expenses\",\"Travel and Entertainment\",\"Transportation and Fuel\"],\"name\":\"Categoria\",\"values\":[0.0,0.0,0.0,82914.47,0.0,126036.0,2208.0,0.0,137357.0,0.0,2225.0,0.0,0.0,0.0,0.0,0.0,0.0,0.0,5420.0,0.0,0.0,0.0],\"type\":\"pie\",\"domain\":{\"x\":[0.0,0.2888888888888889],\"y\":[0.7777777777777778,1.0]},\"textinfo\":\"percent+label\",\"textposition\":\"inside\"},{\"labels\":[\"GAS\",\"FOOD\",\"MATERIALS\",\"PAYROLL\",\"LOAN\",\"Contractors\",\"ACCOUNTING SERVICES\",\"OTHER SERVICES\",\"C.L.R.E\",\"TOOLS \",\"Property and Equipment\",\"Rent or Lease Expense\",\"Maintenance & Repairs Expense\",\"Utilities Expense\",\"Office Supplies Expense\",\"Telephone Expense\",\"Other Office Expense\",\"Insurance Expense\",\"Uncategorized Expense\",\"Personal Expenses\",\"Travel and Entertainment\",\"Transportation and Fuel\"],\"name\":\"Categoria\",\"values\":[0.0,0.0,0.0,90298.96,0.0,81773.0,3608.0,1806.36,29471.0,0.0,16600.0,0.0,0.0,0.0,0.0,0.0,0.0,0.0,2925.0,0.0,0.0,0.0],\"type\":\"pie\",\"domain\":{\"x\":[0.35555555555555557,0.6444444444444445],\"y\":[0.7777777777777778,1.0]},\"textinfo\":\"percent+label\",\"textposition\":\"inside\"},{\"labels\":[\"GAS\",\"FOOD\",\"MATERIALS\",\"PAYROLL\",\"LOAN\",\"Contractors\",\"ACCOUNTING SERVICES\",\"OTHER SERVICES\",\"C.L.R.E\",\"TOOLS \",\"Property and Equipment\",\"Rent or Lease Expense\",\"Maintenance & Repairs Expense\",\"Utilities Expense\",\"Office Supplies Expense\",\"Telephone Expense\",\"Other Office Expense\",\"Insurance Expense\",\"Uncategorized Expense\",\"Personal Expenses\",\"Travel and Entertainment\",\"Transportation and Fuel\"],\"name\":\"Categoria\",\"values\":[0.0,0.0,0.0,93283.5,0.0,42458.0,3447.0,0.0,0.0,0.0,1220.0,1000.0,1456.56,0.0,0.0,0.0,0.0,0.0,1850.0,0.0,0.0,0.0],\"type\":\"pie\",\"domain\":{\"x\":[0.7111111111111111,1.0],\"y\":[0.7777777777777778,1.0]},\"textinfo\":\"percent+label\",\"textposition\":\"inside\"},{\"labels\":[\"GAS\",\"FOOD\",\"MATERIALS\",\"PAYROLL\",\"LOAN\",\"Contractors\",\"ACCOUNTING SERVICES\",\"OTHER SERVICES\",\"C.L.R.E\",\"TOOLS \",\"Property and Equipment\",\"Rent or Lease Expense\",\"Maintenance & Repairs Expense\",\"Utilities Expense\",\"Office Supplies Expense\",\"Telephone Expense\",\"Other Office Expense\",\"Insurance Expense\",\"Uncategorized Expense\",\"Personal Expenses\",\"Travel and Entertainment\",\"Transportation and Fuel\"],\"name\":\"Categoria\",\"values\":[0.0,0.0,0.0,81346.0,0.0,55469.0,1412.0,0.0,0.0,0.0,550.0,4000.0,958.7,0.0,0.0,0.0,0.0,0.0,1750.0,0.0,0.0,0.0],\"type\":\"pie\",\"domain\":{\"x\":[0.0,0.2888888888888889],\"y\":[0.3888888888888889,0.6111111111111112]},\"textinfo\":\"percent+label\",\"textposition\":\"inside\"},{\"labels\":[\"GAS\",\"FOOD\",\"MATERIALS\",\"PAYROLL\",\"LOAN\",\"Contractors\",\"ACCOUNTING SERVICES\",\"OTHER SERVICES\",\"C.L.R.E\",\"TOOLS \",\"Property and Equipment\",\"Rent or Lease Expense\",\"Maintenance & Repairs Expense\",\"Utilities Expense\",\"Office Supplies Expense\",\"Telephone Expense\",\"Other Office Expense\",\"Insurance Expense\",\"Uncategorized Expense\",\"Personal Expenses\",\"Travel and Entertainment\",\"Transportation and Fuel\"],\"name\":\"Categoria\",\"values\":[0.0,0.0,0.0,97661.22,0.0,108476.0,0.0,0.0,155070.0,0.0,0.0,2000.0,917.1,0.0,0.0,0.0,0.0,0.0,5850.0,0.0,0.0,0.0],\"type\":\"pie\",\"domain\":{\"x\":[0.35555555555555557,0.6444444444444445],\"y\":[0.3888888888888889,0.6111111111111112]},\"textinfo\":\"percent+label\",\"textposition\":\"inside\"},{\"labels\":[\"GAS\",\"FOOD\",\"MATERIALS\",\"PAYROLL\",\"LOAN\",\"Contractors\",\"ACCOUNTING SERVICES\",\"OTHER SERVICES\",\"C.L.R.E\",\"TOOLS \",\"Property and Equipment\",\"Rent or Lease Expense\",\"Maintenance & Repairs Expense\",\"Utilities Expense\",\"Office Supplies Expense\",\"Telephone Expense\",\"Other Office Expense\",\"Insurance Expense\",\"Uncategorized Expense\",\"Personal Expenses\",\"Travel and Entertainment\",\"Transportation and Fuel\"],\"name\":\"Categoria\",\"values\":[0.0,0.0,0.0,116312.0,0.0,119297.48,0.0,1300.0,0.0,0.0,5537.8,3800.0,1057.0,0.0,0.0,0.0,0.0,0.0,2650.0,0.0,0.0,0.0],\"type\":\"pie\",\"domain\":{\"x\":[0.7111111111111111,1.0],\"y\":[0.3888888888888889,0.6111111111111112]},\"textinfo\":\"percent+label\",\"textposition\":\"inside\"},{\"labels\":[\"GAS\",\"FOOD\",\"MATERIALS\",\"PAYROLL\",\"LOAN\",\"Contractors\",\"ACCOUNTING SERVICES\",\"OTHER SERVICES\",\"C.L.R.E\",\"TOOLS \",\"Property and Equipment\",\"Rent or Lease Expense\",\"Maintenance & Repairs Expense\",\"Utilities Expense\",\"Office Supplies Expense\",\"Telephone Expense\",\"Other Office Expense\",\"Insurance Expense\",\"Uncategorized Expense\",\"Personal Expenses\",\"Travel and Entertainment\",\"Transportation and Fuel\"],\"name\":\"Categoria\",\"values\":[335.0,200.0,0.0,101104.0,2000.0,116523.86,0.0,4420.91,87086.0,0.0,200.0,0.0,413.25,0.0,0.0,0.0,0.0,0.0,5168.0,0.0,0.0,0.0],\"type\":\"pie\",\"domain\":{\"x\":[0.0,0.2888888888888889],\"y\":[0.0,0.22222222222222224]},\"textinfo\":\"percent+label\",\"textposition\":\"inside\"},{\"labels\":[\"GAS\",\"FOOD\",\"MATERIALS\",\"PAYROLL\",\"LOAN\",\"Contractors\",\"ACCOUNTING SERVICES\",\"OTHER SERVICES\",\"C.L.R.E\",\"TOOLS \",\"Property and Equipment\",\"Rent or Lease Expense\",\"Maintenance & Repairs Expense\",\"Utilities Expense\",\"Office Supplies Expense\",\"Telephone Expense\",\"Other Office Expense\",\"Insurance Expense\",\"Uncategorized Expense\",\"Personal Expenses\",\"Travel and Entertainment\",\"Transportation and Fuel\"],\"name\":\"Categoria\",\"values\":[3132.8,2075.88,77783.41,97114.5,2700.0,160401.0,31.98,689.82,25656.61,921.32,2937.74,2000.0,3290.17,733.0,614.79,194.27,246.46,491.54,2000.0,708.75,3414.29,801.42],\"type\":\"pie\",\"domain\":{\"x\":[0.35555555555555557,0.6444444444444445],\"y\":[0.0,0.22222222222222224]},\"textinfo\":\"percent+label\",\"textposition\":\"inside\"},{\"labels\":[\"GAS\",\"FOOD\",\"MATERIALS\",\"PAYROLL\",\"LOAN\",\"Contractors\",\"ACCOUNTING SERVICES\",\"OTHER SERVICES\",\"C.L.R.E\",\"TOOLS \",\"Property and Equipment\",\"Rent or Lease Expense\",\"Maintenance & Repairs Expense\",\"Utilities Expense\",\"Office Supplies Expense\",\"Telephone Expense\",\"Other Office Expense\",\"Insurance Expense\",\"Uncategorized Expense\",\"Personal Expenses\",\"Travel and Entertainment\",\"Transportation and Fuel\"],\"name\":\"Categoria\",\"values\":[2128.3,1049.12,1460.47,103167.5,3800.0,72157.0,31.98,501.03,0.0,1319.11,1894.64,2000.0,6437.35,131.79,734.92,330.78,94.0,95.0,1500.0,635.22,0.0,320.0],\"type\":\"pie\",\"domain\":{\"x\":[0.7111111111111111,1.0],\"y\":[0.0,0.22222222222222224]},\"textinfo\":\"percent+label\",\"textposition\":\"inside\"}],                        {\"template\":{\"data\":{\"bar\":[{\"error_x\":{\"color\":\"#2a3f5f\"},\"error_y\":{\"color\":\"#2a3f5f\"},\"marker\":{\"line\":{\"color\":\"#E5ECF6\",\"width\":0.5},\"pattern\":{\"fillmode\":\"overlay\",\"size\":10,\"solidity\":0.2}},\"type\":\"bar\"}],\"barpolar\":[{\"marker\":{\"line\":{\"color\":\"#E5ECF6\",\"width\":0.5},\"pattern\":{\"fillmode\":\"overlay\",\"size\":10,\"solidity\":0.2}},\"type\":\"barpolar\"}],\"carpet\":[{\"aaxis\":{\"endlinecolor\":\"#2a3f5f\",\"gridcolor\":\"white\",\"linecolor\":\"white\",\"minorgridcolor\":\"white\",\"startlinecolor\":\"#2a3f5f\"},\"baxis\":{\"endlinecolor\":\"#2a3f5f\",\"gridcolor\":\"white\",\"linecolor\":\"white\",\"minorgridcolor\":\"white\",\"startlinecolor\":\"#2a3f5f\"},\"type\":\"carpet\"}],\"choropleth\":[{\"colorbar\":{\"outlinewidth\":0,\"ticks\":\"\"},\"type\":\"choropleth\"}],\"contour\":[{\"colorbar\":{\"outlinewidth\":0,\"ticks\":\"\"},\"colorscale\":[[0.0,\"#0d0887\"],[0.1111111111111111,\"#46039f\"],[0.2222222222222222,\"#7201a8\"],[0.3333333333333333,\"#9c179e\"],[0.4444444444444444,\"#bd3786\"],[0.5555555555555556,\"#d8576b\"],[0.6666666666666666,\"#ed7953\"],[0.7777777777777778,\"#fb9f3a\"],[0.8888888888888888,\"#fdca26\"],[1.0,\"#f0f921\"]],\"type\":\"contour\"}],\"contourcarpet\":[{\"colorbar\":{\"outlinewidth\":0,\"ticks\":\"\"},\"type\":\"contourcarpet\"}],\"heatmap\":[{\"colorbar\":{\"outlinewidth\":0,\"ticks\":\"\"},\"colorscale\":[[0.0,\"#0d0887\"],[0.1111111111111111,\"#46039f\"],[0.2222222222222222,\"#7201a8\"],[0.3333333333333333,\"#9c179e\"],[0.4444444444444444,\"#bd3786\"],[0.5555555555555556,\"#d8576b\"],[0.6666666666666666,\"#ed7953\"],[0.7777777777777778,\"#fb9f3a\"],[0.8888888888888888,\"#fdca26\"],[1.0,\"#f0f921\"]],\"type\":\"heatmap\"}],\"heatmapgl\":[{\"colorbar\":{\"outlinewidth\":0,\"ticks\":\"\"},\"colorscale\":[[0.0,\"#0d0887\"],[0.1111111111111111,\"#46039f\"],[0.2222222222222222,\"#7201a8\"],[0.3333333333333333,\"#9c179e\"],[0.4444444444444444,\"#bd3786\"],[0.5555555555555556,\"#d8576b\"],[0.6666666666666666,\"#ed7953\"],[0.7777777777777778,\"#fb9f3a\"],[0.8888888888888888,\"#fdca26\"],[1.0,\"#f0f921\"]],\"type\":\"heatmapgl\"}],\"histogram\":[{\"marker\":{\"pattern\":{\"fillmode\":\"overlay\",\"size\":10,\"solidity\":0.2}},\"type\":\"histogram\"}],\"histogram2d\":[{\"colorbar\":{\"outlinewidth\":0,\"ticks\":\"\"},\"colorscale\":[[0.0,\"#0d0887\"],[0.1111111111111111,\"#46039f\"],[0.2222222222222222,\"#7201a8\"],[0.3333333333333333,\"#9c179e\"],[0.4444444444444444,\"#bd3786\"],[0.5555555555555556,\"#d8576b\"],[0.6666666666666666,\"#ed7953\"],[0.7777777777777778,\"#fb9f3a\"],[0.8888888888888888,\"#fdca26\"],[1.0,\"#f0f921\"]],\"type\":\"histogram2d\"}],\"histogram2dcontour\":[{\"colorbar\":{\"outlinewidth\":0,\"ticks\":\"\"},\"colorscale\":[[0.0,\"#0d0887\"],[0.1111111111111111,\"#46039f\"],[0.2222222222222222,\"#7201a8\"],[0.3333333333333333,\"#9c179e\"],[0.4444444444444444,\"#bd3786\"],[0.5555555555555556,\"#d8576b\"],[0.6666666666666666,\"#ed7953\"],[0.7777777777777778,\"#fb9f3a\"],[0.8888888888888888,\"#fdca26\"],[1.0,\"#f0f921\"]],\"type\":\"histogram2dcontour\"}],\"mesh3d\":[{\"colorbar\":{\"outlinewidth\":0,\"ticks\":\"\"},\"type\":\"mesh3d\"}],\"parcoords\":[{\"line\":{\"colorbar\":{\"outlinewidth\":0,\"ticks\":\"\"}},\"type\":\"parcoords\"}],\"pie\":[{\"automargin\":true,\"type\":\"pie\"}],\"scatter\":[{\"marker\":{\"colorbar\":{\"outlinewidth\":0,\"ticks\":\"\"}},\"type\":\"scatter\"}],\"scatter3d\":[{\"line\":{\"colorbar\":{\"outlinewidth\":0,\"ticks\":\"\"}},\"marker\":{\"colorbar\":{\"outlinewidth\":0,\"ticks\":\"\"}},\"type\":\"scatter3d\"}],\"scattercarpet\":[{\"marker\":{\"colorbar\":{\"outlinewidth\":0,\"ticks\":\"\"}},\"type\":\"scattercarpet\"}],\"scattergeo\":[{\"marker\":{\"colorbar\":{\"outlinewidth\":0,\"ticks\":\"\"}},\"type\":\"scattergeo\"}],\"scattergl\":[{\"marker\":{\"colorbar\":{\"outlinewidth\":0,\"ticks\":\"\"}},\"type\":\"scattergl\"}],\"scattermapbox\":[{\"marker\":{\"colorbar\":{\"outlinewidth\":0,\"ticks\":\"\"}},\"type\":\"scattermapbox\"}],\"scatterpolar\":[{\"marker\":{\"colorbar\":{\"outlinewidth\":0,\"ticks\":\"\"}},\"type\":\"scatterpolar\"}],\"scatterpolargl\":[{\"marker\":{\"colorbar\":{\"outlinewidth\":0,\"ticks\":\"\"}},\"type\":\"scatterpolargl\"}],\"scatterternary\":[{\"marker\":{\"colorbar\":{\"outlinewidth\":0,\"ticks\":\"\"}},\"type\":\"scatterternary\"}],\"surface\":[{\"colorbar\":{\"outlinewidth\":0,\"ticks\":\"\"},\"colorscale\":[[0.0,\"#0d0887\"],[0.1111111111111111,\"#46039f\"],[0.2222222222222222,\"#7201a8\"],[0.3333333333333333,\"#9c179e\"],[0.4444444444444444,\"#bd3786\"],[0.5555555555555556,\"#d8576b\"],[0.6666666666666666,\"#ed7953\"],[0.7777777777777778,\"#fb9f3a\"],[0.8888888888888888,\"#fdca26\"],[1.0,\"#f0f921\"]],\"type\":\"surface\"}],\"table\":[{\"cells\":{\"fill\":{\"color\":\"#EBF0F8\"},\"line\":{\"color\":\"white\"}},\"header\":{\"fill\":{\"color\":\"#C8D4E3\"},\"line\":{\"color\":\"white\"}},\"type\":\"table\"}]},\"layout\":{\"annotationdefaults\":{\"arrowcolor\":\"#2a3f5f\",\"arrowhead\":0,\"arrowwidth\":1},\"autotypenumbers\":\"strict\",\"coloraxis\":{\"colorbar\":{\"outlinewidth\":0,\"ticks\":\"\"}},\"colorscale\":{\"diverging\":[[0,\"#8e0152\"],[0.1,\"#c51b7d\"],[0.2,\"#de77ae\"],[0.3,\"#f1b6da\"],[0.4,\"#fde0ef\"],[0.5,\"#f7f7f7\"],[0.6,\"#e6f5d0\"],[0.7,\"#b8e186\"],[0.8,\"#7fbc41\"],[0.9,\"#4d9221\"],[1,\"#276419\"]],\"sequential\":[[0.0,\"#0d0887\"],[0.1111111111111111,\"#46039f\"],[0.2222222222222222,\"#7201a8\"],[0.3333333333333333,\"#9c179e\"],[0.4444444444444444,\"#bd3786\"],[0.5555555555555556,\"#d8576b\"],[0.6666666666666666,\"#ed7953\"],[0.7777777777777778,\"#fb9f3a\"],[0.8888888888888888,\"#fdca26\"],[1.0,\"#f0f921\"]],\"sequentialminus\":[[0.0,\"#0d0887\"],[0.1111111111111111,\"#46039f\"],[0.2222222222222222,\"#7201a8\"],[0.3333333333333333,\"#9c179e\"],[0.4444444444444444,\"#bd3786\"],[0.5555555555555556,\"#d8576b\"],[0.6666666666666666,\"#ed7953\"],[0.7777777777777778,\"#fb9f3a\"],[0.8888888888888888,\"#fdca26\"],[1.0,\"#f0f921\"]]},\"colorway\":[\"#636efa\",\"#EF553B\",\"#00cc96\",\"#ab63fa\",\"#FFA15A\",\"#19d3f3\",\"#FF6692\",\"#B6E880\",\"#FF97FF\",\"#FECB52\"],\"font\":{\"color\":\"#2a3f5f\"},\"geo\":{\"bgcolor\":\"white\",\"lakecolor\":\"white\",\"landcolor\":\"#E5ECF6\",\"showlakes\":true,\"showland\":true,\"subunitcolor\":\"white\"},\"hoverlabel\":{\"align\":\"left\"},\"hovermode\":\"closest\",\"mapbox\":{\"style\":\"light\"},\"paper_bgcolor\":\"white\",\"plot_bgcolor\":\"#E5ECF6\",\"polar\":{\"angularaxis\":{\"gridcolor\":\"white\",\"linecolor\":\"white\",\"ticks\":\"\"},\"bgcolor\":\"#E5ECF6\",\"radialaxis\":{\"gridcolor\":\"white\",\"linecolor\":\"white\",\"ticks\":\"\"}},\"scene\":{\"xaxis\":{\"backgroundcolor\":\"#E5ECF6\",\"gridcolor\":\"white\",\"gridwidth\":2,\"linecolor\":\"white\",\"showbackground\":true,\"ticks\":\"\",\"zerolinecolor\":\"white\"},\"yaxis\":{\"backgroundcolor\":\"#E5ECF6\",\"gridcolor\":\"white\",\"gridwidth\":2,\"linecolor\":\"white\",\"showbackground\":true,\"ticks\":\"\",\"zerolinecolor\":\"white\"},\"zaxis\":{\"backgroundcolor\":\"#E5ECF6\",\"gridcolor\":\"white\",\"gridwidth\":2,\"linecolor\":\"white\",\"showbackground\":true,\"ticks\":\"\",\"zerolinecolor\":\"white\"}},\"shapedefaults\":{\"line\":{\"color\":\"#2a3f5f\"}},\"ternary\":{\"aaxis\":{\"gridcolor\":\"white\",\"linecolor\":\"white\",\"ticks\":\"\"},\"baxis\":{\"gridcolor\":\"white\",\"linecolor\":\"white\",\"ticks\":\"\"},\"bgcolor\":\"#E5ECF6\",\"caxis\":{\"gridcolor\":\"white\",\"linecolor\":\"white\",\"ticks\":\"\"}},\"title\":{\"x\":0.05},\"xaxis\":{\"automargin\":true,\"gridcolor\":\"white\",\"linecolor\":\"white\",\"ticks\":\"\",\"title\":{\"standoff\":15},\"zerolinecolor\":\"white\",\"zerolinewidth\":2},\"yaxis\":{\"automargin\":true,\"gridcolor\":\"white\",\"linecolor\":\"white\",\"ticks\":\"\",\"title\":{\"standoff\":15},\"zerolinecolor\":\"white\",\"zerolinewidth\":2}}},\"annotations\":[{\"font\":{\"size\":16},\"showarrow\":false,\"text\":\"January\",\"x\":0.14444444444444446,\"xanchor\":\"center\",\"xref\":\"paper\",\"y\":1.0,\"yanchor\":\"bottom\",\"yref\":\"paper\"},{\"font\":{\"size\":16},\"showarrow\":false,\"text\":\"February\",\"x\":0.5,\"xanchor\":\"center\",\"xref\":\"paper\",\"y\":1.0,\"yanchor\":\"bottom\",\"yref\":\"paper\"},{\"font\":{\"size\":16},\"showarrow\":false,\"text\":\"March\",\"x\":0.8555555555555556,\"xanchor\":\"center\",\"xref\":\"paper\",\"y\":1.0,\"yanchor\":\"bottom\",\"yref\":\"paper\"},{\"font\":{\"size\":16},\"showarrow\":false,\"text\":\"April\",\"x\":0.14444444444444446,\"xanchor\":\"center\",\"xref\":\"paper\",\"y\":0.6111111111111112,\"yanchor\":\"bottom\",\"yref\":\"paper\"},{\"font\":{\"size\":16},\"showarrow\":false,\"text\":\"May\",\"x\":0.5,\"xanchor\":\"center\",\"xref\":\"paper\",\"y\":0.6111111111111112,\"yanchor\":\"bottom\",\"yref\":\"paper\"},{\"font\":{\"size\":16},\"showarrow\":false,\"text\":\"June\",\"x\":0.8555555555555556,\"xanchor\":\"center\",\"xref\":\"paper\",\"y\":0.6111111111111112,\"yanchor\":\"bottom\",\"yref\":\"paper\"},{\"font\":{\"size\":16},\"showarrow\":false,\"text\":\"July\",\"x\":0.14444444444444446,\"xanchor\":\"center\",\"xref\":\"paper\",\"y\":0.22222222222222224,\"yanchor\":\"bottom\",\"yref\":\"paper\"},{\"font\":{\"size\":16},\"showarrow\":false,\"text\":\"August\",\"x\":0.5,\"xanchor\":\"center\",\"xref\":\"paper\",\"y\":0.22222222222222224,\"yanchor\":\"bottom\",\"yref\":\"paper\"},{\"font\":{\"size\":16},\"showarrow\":false,\"text\":\"September\",\"x\":0.8555555555555556,\"xanchor\":\"center\",\"xref\":\"paper\",\"y\":0.22222222222222224,\"yanchor\":\"bottom\",\"yref\":\"paper\"}],\"height\":1200,\"width\":1200},                        {\"responsive\": true}                    ).then(function(){\n",
              "                            \n",
              "var gd = document.getElementById('3708dd2f-ea30-40a0-953b-3394a892094a');\n",
              "var x = new MutationObserver(function (mutations, observer) {{\n",
              "        var display = window.getComputedStyle(gd).display;\n",
              "        if (!display || display === 'none') {{\n",
              "            console.log([gd, 'removed!']);\n",
              "            Plotly.purge(gd);\n",
              "            observer.disconnect();\n",
              "        }}\n",
              "}});\n",
              "\n",
              "// Listen for the removal of the full notebook cells\n",
              "var notebookContainer = gd.closest('#notebook-container');\n",
              "if (notebookContainer) {{\n",
              "    x.observe(notebookContainer, {childList: true});\n",
              "}}\n",
              "\n",
              "// Listen for the clearing of the current output cell\n",
              "var outputEl = gd.closest('.output');\n",
              "if (outputEl) {{\n",
              "    x.observe(outputEl, {childList: true});\n",
              "}}\n",
              "\n",
              "                        })                };                            </script>        </div>\n",
              "</body>\n",
              "</html>"
            ]
          },
          "metadata": {}
        }
      ]
    },
    {
      "cell_type": "markdown",
      "source": [
        "# 4. Contratistas"
      ],
      "metadata": {
        "id": "_yjqEt-RIfC3"
      }
    },
    {
      "cell_type": "code",
      "source": [
        "#CORRER ESTA LINEA DE CODIGO\n",
        "#Se leen los datos que se van a analizar\n",
        "#df_Contractors = pd.read_csv(\"/content/drive/MyDrive/Mis Documentos/Curso de Python/PROYECTOS/Proyecto Data Visualization/Contratistas.csv\")\n",
        "#Arellano\n",
        "df_Contractors = pd.read_csv(\"/content/drive/MyDrive/Mis Documentos/Curso de Python/PROYECTOS/Proyecto Data Visualization/Contratistas.csv\")\n"
      ],
      "metadata": {
        "id": "YusZHCStIjEH"
      },
      "execution_count": null,
      "outputs": []
    },
    {
      "cell_type": "code",
      "source": [
        "#CORRER ESTA LINEA DE CODIGO\n",
        "df_Contractors = df_Contractors.drop(['Invoice Number','Type','Reference','Credit','Running Total'],axis = 1)\n",
        "df_Contractors = df_Contractors.drop([0,26,27],axis=0)"
      ],
      "metadata": {
        "id": "ypOSIMaJJuMM"
      },
      "execution_count": null,
      "outputs": []
    },
    {
      "cell_type": "code",
      "source": [
        "#CORRER ESTA LINEA DE CODIGO\n",
        "df_Contractors = df_Contractors.reset_index()\n",
        "df_Contractors = df_Contractors.drop(['index'],axis = 1)"
      ],
      "metadata": {
        "id": "Hnvbye2lKWqa"
      },
      "execution_count": null,
      "outputs": []
    },
    {
      "cell_type": "code",
      "source": [
        "#CORRER ESTA LINEA DE CODIGO\n",
        "df_Contractors['Debit'] = df_Contractors['Debit'].replace({',':''},regex=True)\n",
        "\n",
        "df_Contractors['Debit'] = df_Contractors['Debit'].astype('float')"
      ],
      "metadata": {
        "id": "VxjKcIxJKrFu"
      },
      "execution_count": null,
      "outputs": []
    },
    {
      "cell_type": "code",
      "source": [
        "df_Contractors.to_csv('/content/drive/MyDrive/Mis Documentos/Curso de Python/PROYECTOS/Proyecto Data Visualization/Contractors_2022.csv', index=False)"
      ],
      "metadata": {
        "id": "EPmqIm_kkw-c"
      },
      "execution_count": null,
      "outputs": []
    },
    {
      "cell_type": "code",
      "source": [
        "df_Contractors"
      ],
      "metadata": {
        "id": "JILDH_H8JTdD"
      },
      "execution_count": null,
      "outputs": []
    },
    {
      "cell_type": "code",
      "source": [
        "#CORRER ESTA LINEA DE CODIGO\n",
        "import plotly.express as px\n",
        "fig6 = px.bar(df_Contractors, x=\"Debit\", y=\"Name\", color='Description',labels=dict(Debit=\"Budget ($)\", Name=\"Contractor\", Description=\"Project\"),\n",
        "              orientation='h',\n",
        "             hover_data=[\"Description\", \"Debit\"],\n",
        "             height=500,\n",
        "              )\n",
        "\n",
        "fig6.update_layout(title_x=0.41,)\n",
        "\n",
        "fig6.show()"
      ],
      "metadata": {
        "colab": {
          "base_uri": "https://localhost:8080/",
          "height": 517
        },
        "id": "l1CgGOdbju7l",
        "outputId": "60d3f9f3-9bf4-45d6-ce17-79dc2c3b76e7"
      },
      "execution_count": null,
      "outputs": [
        {
          "output_type": "display_data",
          "data": {
            "text/html": [
              "<html>\n",
              "<head><meta charset=\"utf-8\" /></head>\n",
              "<body>\n",
              "    <div>            <script src=\"https://cdnjs.cloudflare.com/ajax/libs/mathjax/2.7.5/MathJax.js?config=TeX-AMS-MML_SVG\"></script><script type=\"text/javascript\">if (window.MathJax) {MathJax.Hub.Config({SVG: {font: \"STIX-Web\"}});}</script>                <script type=\"text/javascript\">window.PlotlyConfig = {MathJaxConfig: 'local'};</script>\n",
              "        <script src=\"https://cdn.plot.ly/plotly-2.8.3.min.js\"></script>                <div id=\"2b798256-c532-412f-b1b4-21fe38229449\" class=\"plotly-graph-div\" style=\"height:500px; width:100%;\"></div>            <script type=\"text/javascript\">                                    window.PLOTLYENV=window.PLOTLYENV || {};                                    if (document.getElementById(\"2b798256-c532-412f-b1b4-21fe38229449\")) {                    Plotly.newPlot(                        \"2b798256-c532-412f-b1b4-21fe38229449\",                        [{\"alignmentgroup\":\"True\",\"customdata\":[[\"DAY-BAYTOWN\"]],\"hovertemplate\":\"Project=%{customdata[0]}<br>Budget ($)=%{x}<br>Contractor=%{y}<extra></extra>\",\"legendgroup\":\"DAY-BAYTOWN\",\"marker\":{\"color\":\"#636efa\",\"pattern\":{\"shape\":\"\"}},\"name\":\"DAY-BAYTOWN\",\"offsetgroup\":\"DAY-BAYTOWN\",\"orientation\":\"h\",\"showlegend\":true,\"textposition\":\"auto\",\"x\":[5000.0],\"xaxis\":\"x\",\"y\":[\"ROBERTO PICHARDO\"],\"yaxis\":\"y\",\"type\":\"bar\"},{\"alignmentgroup\":\"True\",\"customdata\":[[\"SMALLWOOD PROJECT #2\"]],\"hovertemplate\":\"Project=%{customdata[0]}<br>Budget ($)=%{x}<br>Contractor=%{y}<extra></extra>\",\"legendgroup\":\"SMALLWOOD PROJECT #2\",\"marker\":{\"color\":\"#EF553B\",\"pattern\":{\"shape\":\"\"}},\"name\":\"SMALLWOOD PROJECT #2\",\"offsetgroup\":\"SMALLWOOD PROJECT #2\",\"orientation\":\"h\",\"showlegend\":true,\"textposition\":\"auto\",\"x\":[4000.0],\"xaxis\":\"x\",\"y\":[\"JAVIER RIVERA\"],\"yaxis\":\"y\",\"type\":\"bar\"},{\"alignmentgroup\":\"True\",\"customdata\":[[\"SMALLWOOD PROJECT #1\"]],\"hovertemplate\":\"Project=%{customdata[0]}<br>Budget ($)=%{x}<br>Contractor=%{y}<extra></extra>\",\"legendgroup\":\"SMALLWOOD PROJECT #1\",\"marker\":{\"color\":\"#00cc96\",\"pattern\":{\"shape\":\"\"}},\"name\":\"SMALLWOOD PROJECT #1\",\"offsetgroup\":\"SMALLWOOD PROJECT #1\",\"orientation\":\"h\",\"showlegend\":true,\"textposition\":\"auto\",\"x\":[4000.0],\"xaxis\":\"x\",\"y\":[\"JAVIER RIVERA\"],\"yaxis\":\"y\",\"type\":\"bar\"},{\"alignmentgroup\":\"True\",\"customdata\":[[\"225 PARK \"]],\"hovertemplate\":\"Project=%{customdata[0]}<br>Budget ($)=%{x}<br>Contractor=%{y}<extra></extra>\",\"legendgroup\":\"225 PARK \",\"marker\":{\"color\":\"#ab63fa\",\"pattern\":{\"shape\":\"\"}},\"name\":\"225 PARK \",\"offsetgroup\":\"225 PARK \",\"orientation\":\"h\",\"showlegend\":true,\"textposition\":\"auto\",\"x\":[5575.0],\"xaxis\":\"x\",\"y\":[\"F.A.A. VENTURA  PAINTING\"],\"yaxis\":\"y\",\"type\":\"bar\"},{\"alignmentgroup\":\"True\",\"customdata\":[[\"OLIVE GARDEN - ARKANSAS\"]],\"hovertemplate\":\"Project=%{customdata[0]}<br>Budget ($)=%{x}<br>Contractor=%{y}<extra></extra>\",\"legendgroup\":\"OLIVE GARDEN - ARKANSAS\",\"marker\":{\"color\":\"#FFA15A\",\"pattern\":{\"shape\":\"\"}},\"name\":\"OLIVE GARDEN - ARKANSAS\",\"offsetgroup\":\"OLIVE GARDEN - ARKANSAS\",\"orientation\":\"h\",\"showlegend\":true,\"textposition\":\"auto\",\"x\":[5500.0],\"xaxis\":\"x\",\"y\":[\"CARLOS OROZCO\"],\"yaxis\":\"y\",\"type\":\"bar\"},{\"alignmentgroup\":\"True\",\"customdata\":[[\"SPRAY MACHINE \"]],\"hovertemplate\":\"Project=%{customdata[0]}<br>Budget ($)=%{x}<br>Contractor=%{y}<extra></extra>\",\"legendgroup\":\"SPRAY MACHINE \",\"marker\":{\"color\":\"#19d3f3\",\"pattern\":{\"shape\":\"\"}},\"name\":\"SPRAY MACHINE \",\"offsetgroup\":\"SPRAY MACHINE \",\"orientation\":\"h\",\"showlegend\":true,\"textposition\":\"auto\",\"x\":[2250.0],\"xaxis\":\"x\",\"y\":[\"CARLOS OROZCO\"],\"yaxis\":\"y\",\"type\":\"bar\"},{\"alignmentgroup\":\"True\",\"customdata\":[[\"HOUSEWORK - JACOB LEE LEAD CO. \"]],\"hovertemplate\":\"Project=%{customdata[0]}<br>Budget ($)=%{x}<br>Contractor=%{y}<extra></extra>\",\"legendgroup\":\"HOUSEWORK - JACOB LEE LEAD CO. \",\"marker\":{\"color\":\"#FF6692\",\"pattern\":{\"shape\":\"\"}},\"name\":\"HOUSEWORK - JACOB LEE LEAD CO. \",\"offsetgroup\":\"HOUSEWORK - JACOB LEE LEAD CO. \",\"orientation\":\"h\",\"showlegend\":true,\"textposition\":\"auto\",\"x\":[2000.0],\"xaxis\":\"x\",\"y\":[\"JESUS HERNANDEZ\"],\"yaxis\":\"y\",\"type\":\"bar\"},{\"alignmentgroup\":\"True\",\"customdata\":[[\"FAIRWAY PROJECT\"]],\"hovertemplate\":\"Project=%{customdata[0]}<br>Budget ($)=%{x}<br>Contractor=%{y}<extra></extra>\",\"legendgroup\":\"FAIRWAY PROJECT\",\"marker\":{\"color\":\"#B6E880\",\"pattern\":{\"shape\":\"\"}},\"name\":\"FAIRWAY PROJECT\",\"offsetgroup\":\"FAIRWAY PROJECT\",\"orientation\":\"h\",\"showlegend\":true,\"textposition\":\"auto\",\"x\":[1000.0],\"xaxis\":\"x\",\"y\":[\"F.A.A. VENTURA  PAINTING\"],\"yaxis\":\"y\",\"type\":\"bar\"},{\"alignmentgroup\":\"True\",\"customdata\":[[\"PROVIDE PAINT LABOR - 32 HRS / 4 PERSONAL= 25 EACH\"]],\"hovertemplate\":\"Project=%{customdata[0]}<br>Budget ($)=%{x}<br>Contractor=%{y}<extra></extra>\",\"legendgroup\":\"PROVIDE PAINT LABOR - 32 HRS / 4 PERSONAL= 25 EACH\",\"marker\":{\"color\":\"#FF97FF\",\"pattern\":{\"shape\":\"\"}},\"name\":\"PROVIDE PAINT LABOR - 32 HRS / 4 PERSONAL= 25 EACH\",\"offsetgroup\":\"PROVIDE PAINT LABOR - 32 HRS / 4 PERSONAL= 25 EACH\",\"orientation\":\"h\",\"showlegend\":true,\"textposition\":\"auto\",\"x\":[3200.0],\"xaxis\":\"x\",\"y\":[\"F.A.A. VENTURA  PAINTING\"],\"yaxis\":\"y\",\"type\":\"bar\"},{\"alignmentgroup\":\"True\",\"customdata\":[[\"KNT - BAYTOWN\"]],\"hovertemplate\":\"Project=%{customdata[0]}<br>Budget ($)=%{x}<br>Contractor=%{y}<extra></extra>\",\"legendgroup\":\"KNT - BAYTOWN\",\"marker\":{\"color\":\"#FECB52\",\"pattern\":{\"shape\":\"\"}},\"name\":\"KNT - BAYTOWN\",\"offsetgroup\":\"KNT - BAYTOWN\",\"orientation\":\"h\",\"showlegend\":true,\"textposition\":\"auto\",\"x\":[1500.0],\"xaxis\":\"x\",\"y\":[\"JOSE HERRERA ANDRADE\"],\"yaxis\":\"y\",\"type\":\"bar\"},{\"alignmentgroup\":\"True\",\"customdata\":[[\"OLIVE GARDEN\"]],\"hovertemplate\":\"Project=%{customdata[0]}<br>Budget ($)=%{x}<br>Contractor=%{y}<extra></extra>\",\"legendgroup\":\"OLIVE GARDEN\",\"marker\":{\"color\":\"#636efa\",\"pattern\":{\"shape\":\"\"}},\"name\":\"OLIVE GARDEN\",\"offsetgroup\":\"OLIVE GARDEN\",\"orientation\":\"h\",\"showlegend\":true,\"textposition\":\"auto\",\"x\":[2000.0],\"xaxis\":\"x\",\"y\":[\"CARLOS OROZCO\"],\"yaxis\":\"y\",\"type\":\"bar\"},{\"alignmentgroup\":\"True\",\"customdata\":[[\"STARBUCKS - LONGVIEW PROJECT\"]],\"hovertemplate\":\"Project=%{customdata[0]}<br>Budget ($)=%{x}<br>Contractor=%{y}<extra></extra>\",\"legendgroup\":\"STARBUCKS - LONGVIEW PROJECT\",\"marker\":{\"color\":\"#EF553B\",\"pattern\":{\"shape\":\"\"}},\"name\":\"STARBUCKS - LONGVIEW PROJECT\",\"offsetgroup\":\"STARBUCKS - LONGVIEW PROJECT\",\"orientation\":\"h\",\"showlegend\":true,\"textposition\":\"auto\",\"x\":[1800.0],\"xaxis\":\"x\",\"y\":[\"ERNESTO GONZALEZ\"],\"yaxis\":\"y\",\"type\":\"bar\"},{\"alignmentgroup\":\"True\",\"customdata\":[[\"FINAL PAYMENT ON HOUSEWORK JACOB LEAD\"]],\"hovertemplate\":\"Project=%{customdata[0]}<br>Budget ($)=%{x}<br>Contractor=%{y}<extra></extra>\",\"legendgroup\":\"FINAL PAYMENT ON HOUSEWORK JACOB LEAD\",\"marker\":{\"color\":\"#00cc96\",\"pattern\":{\"shape\":\"\"}},\"name\":\"FINAL PAYMENT ON HOUSEWORK JACOB LEAD\",\"offsetgroup\":\"FINAL PAYMENT ON HOUSEWORK JACOB LEAD\",\"orientation\":\"h\",\"showlegend\":true,\"textposition\":\"auto\",\"x\":[1500.0],\"xaxis\":\"x\",\"y\":[\"JESUS HERNANDEZ\"],\"yaxis\":\"y\",\"type\":\"bar\"},{\"alignmentgroup\":\"True\",\"customdata\":[[\"CHEDDAR'S - OKLAHOMA \"]],\"hovertemplate\":\"Project=%{customdata[0]}<br>Budget ($)=%{x}<br>Contractor=%{y}<extra></extra>\",\"legendgroup\":\"CHEDDAR'S - OKLAHOMA \",\"marker\":{\"color\":\"#ab63fa\",\"pattern\":{\"shape\":\"\"}},\"name\":\"CHEDDAR'S - OKLAHOMA \",\"offsetgroup\":\"CHEDDAR'S - OKLAHOMA \",\"orientation\":\"h\",\"showlegend\":true,\"textposition\":\"auto\",\"x\":[1200.0],\"xaxis\":\"x\",\"y\":[\"RAFAEL LOPEZ GARCIA\"],\"yaxis\":\"y\",\"type\":\"bar\"},{\"alignmentgroup\":\"True\",\"customdata\":[[\"CHICK FILL A MATERIALS - IRVING\"]],\"hovertemplate\":\"Project=%{customdata[0]}<br>Budget ($)=%{x}<br>Contractor=%{y}<extra></extra>\",\"legendgroup\":\"CHICK FILL A MATERIALS - IRVING\",\"marker\":{\"color\":\"#FFA15A\",\"pattern\":{\"shape\":\"\"}},\"name\":\"CHICK FILL A MATERIALS - IRVING\",\"offsetgroup\":\"CHICK FILL A MATERIALS - IRVING\",\"orientation\":\"h\",\"showlegend\":true,\"textposition\":\"auto\",\"x\":[530.0],\"xaxis\":\"x\",\"y\":[\"RAFAEL LOPEZ GARCIA\"],\"yaxis\":\"y\",\"type\":\"bar\"},{\"alignmentgroup\":\"True\",\"customdata\":[[\"PLANET FORD - 48 X 25\"]],\"hovertemplate\":\"Project=%{customdata[0]}<br>Budget ($)=%{x}<br>Contractor=%{y}<extra></extra>\",\"legendgroup\":\"PLANET FORD - 48 X 25\",\"marker\":{\"color\":\"#19d3f3\",\"pattern\":{\"shape\":\"\"}},\"name\":\"PLANET FORD - 48 X 25\",\"offsetgroup\":\"PLANET FORD - 48 X 25\",\"orientation\":\"h\",\"showlegend\":true,\"textposition\":\"auto\",\"x\":[1200.0],\"xaxis\":\"x\",\"y\":[\"F.A.A. VENTURA  PAINTING\"],\"yaxis\":\"y\",\"type\":\"bar\"},{\"alignmentgroup\":\"True\",\"customdata\":[[\"225 PARK WAY 10 X 25\"]],\"hovertemplate\":\"Project=%{customdata[0]}<br>Budget ($)=%{x}<br>Contractor=%{y}<extra></extra>\",\"legendgroup\":\"225 PARK WAY 10 X 25\",\"marker\":{\"color\":\"#FF6692\",\"pattern\":{\"shape\":\"\"}},\"name\":\"225 PARK WAY 10 X 25\",\"offsetgroup\":\"225 PARK WAY 10 X 25\",\"orientation\":\"h\",\"showlegend\":true,\"textposition\":\"auto\",\"x\":[250.0],\"xaxis\":\"x\",\"y\":[\"F.A.A. VENTURA  PAINTING\"],\"yaxis\":\"y\",\"type\":\"bar\"},{\"alignmentgroup\":\"True\",\"customdata\":[[\"BAYTOWN PROJECT \"],[\"BAYTOWN PROJECT \"]],\"hovertemplate\":\"Project=%{customdata[0]}<br>Budget ($)=%{x}<br>Contractor=%{y}<extra></extra>\",\"legendgroup\":\"BAYTOWN PROJECT \",\"marker\":{\"color\":\"#B6E880\",\"pattern\":{\"shape\":\"\"}},\"name\":\"BAYTOWN PROJECT \",\"offsetgroup\":\"BAYTOWN PROJECT \",\"orientation\":\"h\",\"showlegend\":true,\"textposition\":\"auto\",\"x\":[3000.0,3000.0],\"xaxis\":\"x\",\"y\":[\"F.A.A. VENTURA  PAINTING\",\"F.A.A. VENTURA  PAINTING\"],\"yaxis\":\"y\",\"type\":\"bar\"},{\"alignmentgroup\":\"True\",\"customdata\":[[\"CHANGE ORDER FOR EDDIE Vs PLANO \"]],\"hovertemplate\":\"Project=%{customdata[0]}<br>Budget ($)=%{x}<br>Contractor=%{y}<extra></extra>\",\"legendgroup\":\"CHANGE ORDER FOR EDDIE Vs PLANO \",\"marker\":{\"color\":\"#FF97FF\",\"pattern\":{\"shape\":\"\"}},\"name\":\"CHANGE ORDER FOR EDDIE Vs PLANO \",\"offsetgroup\":\"CHANGE ORDER FOR EDDIE Vs PLANO \",\"orientation\":\"h\",\"showlegend\":true,\"textposition\":\"auto\",\"x\":[8000.0],\"xaxis\":\"x\",\"y\":[\"CARLOS OROZCO\"],\"yaxis\":\"y\",\"type\":\"bar\"},{\"alignmentgroup\":\"True\",\"customdata\":[[\"TEXAS ROAD HOUSE \"]],\"hovertemplate\":\"Project=%{customdata[0]}<br>Budget ($)=%{x}<br>Contractor=%{y}<extra></extra>\",\"legendgroup\":\"TEXAS ROAD HOUSE \",\"marker\":{\"color\":\"#FECB52\",\"pattern\":{\"shape\":\"\"}},\"name\":\"TEXAS ROAD HOUSE \",\"offsetgroup\":\"TEXAS ROAD HOUSE \",\"orientation\":\"h\",\"showlegend\":true,\"textposition\":\"auto\",\"x\":[4200.0],\"xaxis\":\"x\",\"y\":[\"CARLOS OROZCO\"],\"yaxis\":\"y\",\"type\":\"bar\"},{\"alignmentgroup\":\"True\",\"customdata\":[[\"TACOBELL - BAYTOWN\"],[\"TACOBELL - BAYTOWN\"]],\"hovertemplate\":\"Project=%{customdata[0]}<br>Budget ($)=%{x}<br>Contractor=%{y}<extra></extra>\",\"legendgroup\":\"TACOBELL - BAYTOWN\",\"marker\":{\"color\":\"#636efa\",\"pattern\":{\"shape\":\"\"}},\"name\":\"TACOBELL - BAYTOWN\",\"offsetgroup\":\"TACOBELL - BAYTOWN\",\"orientation\":\"h\",\"showlegend\":true,\"textposition\":\"auto\",\"x\":[4696.0,4956.0],\"xaxis\":\"x\",\"y\":[\"MARCOS FIGUEROA\",\"JOSE L MENDEZ\"],\"yaxis\":\"y\",\"type\":\"bar\"},{\"alignmentgroup\":\"True\",\"customdata\":[[\"225 PARKWAYS PROJECT \"]],\"hovertemplate\":\"Project=%{customdata[0]}<br>Budget ($)=%{x}<br>Contractor=%{y}<extra></extra>\",\"legendgroup\":\"225 PARKWAYS PROJECT \",\"marker\":{\"color\":\"#EF553B\",\"pattern\":{\"shape\":\"\"}},\"name\":\"225 PARKWAYS PROJECT \",\"offsetgroup\":\"225 PARKWAYS PROJECT \",\"orientation\":\"h\",\"showlegend\":true,\"textposition\":\"auto\",\"x\":[400.0],\"xaxis\":\"x\",\"y\":[\"F.A.A. VENTURA  PAINTING\"],\"yaxis\":\"y\",\"type\":\"bar\"},{\"alignmentgroup\":\"True\",\"customdata\":[[\"FERWAY PROJECT\"]],\"hovertemplate\":\"Project=%{customdata[0]}<br>Budget ($)=%{x}<br>Contractor=%{y}<extra></extra>\",\"legendgroup\":\"FERWAY PROJECT\",\"marker\":{\"color\":\"#00cc96\",\"pattern\":{\"shape\":\"\"}},\"name\":\"FERWAY PROJECT\",\"offsetgroup\":\"FERWAY PROJECT\",\"orientation\":\"h\",\"showlegend\":true,\"textposition\":\"auto\",\"x\":[1400.0],\"xaxis\":\"x\",\"y\":[\"F.A.A. VENTURA  PAINTING\"],\"yaxis\":\"y\",\"type\":\"bar\"}],                        {\"template\":{\"data\":{\"bar\":[{\"error_x\":{\"color\":\"#2a3f5f\"},\"error_y\":{\"color\":\"#2a3f5f\"},\"marker\":{\"line\":{\"color\":\"#E5ECF6\",\"width\":0.5},\"pattern\":{\"fillmode\":\"overlay\",\"size\":10,\"solidity\":0.2}},\"type\":\"bar\"}],\"barpolar\":[{\"marker\":{\"line\":{\"color\":\"#E5ECF6\",\"width\":0.5},\"pattern\":{\"fillmode\":\"overlay\",\"size\":10,\"solidity\":0.2}},\"type\":\"barpolar\"}],\"carpet\":[{\"aaxis\":{\"endlinecolor\":\"#2a3f5f\",\"gridcolor\":\"white\",\"linecolor\":\"white\",\"minorgridcolor\":\"white\",\"startlinecolor\":\"#2a3f5f\"},\"baxis\":{\"endlinecolor\":\"#2a3f5f\",\"gridcolor\":\"white\",\"linecolor\":\"white\",\"minorgridcolor\":\"white\",\"startlinecolor\":\"#2a3f5f\"},\"type\":\"carpet\"}],\"choropleth\":[{\"colorbar\":{\"outlinewidth\":0,\"ticks\":\"\"},\"type\":\"choropleth\"}],\"contour\":[{\"colorbar\":{\"outlinewidth\":0,\"ticks\":\"\"},\"colorscale\":[[0.0,\"#0d0887\"],[0.1111111111111111,\"#46039f\"],[0.2222222222222222,\"#7201a8\"],[0.3333333333333333,\"#9c179e\"],[0.4444444444444444,\"#bd3786\"],[0.5555555555555556,\"#d8576b\"],[0.6666666666666666,\"#ed7953\"],[0.7777777777777778,\"#fb9f3a\"],[0.8888888888888888,\"#fdca26\"],[1.0,\"#f0f921\"]],\"type\":\"contour\"}],\"contourcarpet\":[{\"colorbar\":{\"outlinewidth\":0,\"ticks\":\"\"},\"type\":\"contourcarpet\"}],\"heatmap\":[{\"colorbar\":{\"outlinewidth\":0,\"ticks\":\"\"},\"colorscale\":[[0.0,\"#0d0887\"],[0.1111111111111111,\"#46039f\"],[0.2222222222222222,\"#7201a8\"],[0.3333333333333333,\"#9c179e\"],[0.4444444444444444,\"#bd3786\"],[0.5555555555555556,\"#d8576b\"],[0.6666666666666666,\"#ed7953\"],[0.7777777777777778,\"#fb9f3a\"],[0.8888888888888888,\"#fdca26\"],[1.0,\"#f0f921\"]],\"type\":\"heatmap\"}],\"heatmapgl\":[{\"colorbar\":{\"outlinewidth\":0,\"ticks\":\"\"},\"colorscale\":[[0.0,\"#0d0887\"],[0.1111111111111111,\"#46039f\"],[0.2222222222222222,\"#7201a8\"],[0.3333333333333333,\"#9c179e\"],[0.4444444444444444,\"#bd3786\"],[0.5555555555555556,\"#d8576b\"],[0.6666666666666666,\"#ed7953\"],[0.7777777777777778,\"#fb9f3a\"],[0.8888888888888888,\"#fdca26\"],[1.0,\"#f0f921\"]],\"type\":\"heatmapgl\"}],\"histogram\":[{\"marker\":{\"pattern\":{\"fillmode\":\"overlay\",\"size\":10,\"solidity\":0.2}},\"type\":\"histogram\"}],\"histogram2d\":[{\"colorbar\":{\"outlinewidth\":0,\"ticks\":\"\"},\"colorscale\":[[0.0,\"#0d0887\"],[0.1111111111111111,\"#46039f\"],[0.2222222222222222,\"#7201a8\"],[0.3333333333333333,\"#9c179e\"],[0.4444444444444444,\"#bd3786\"],[0.5555555555555556,\"#d8576b\"],[0.6666666666666666,\"#ed7953\"],[0.7777777777777778,\"#fb9f3a\"],[0.8888888888888888,\"#fdca26\"],[1.0,\"#f0f921\"]],\"type\":\"histogram2d\"}],\"histogram2dcontour\":[{\"colorbar\":{\"outlinewidth\":0,\"ticks\":\"\"},\"colorscale\":[[0.0,\"#0d0887\"],[0.1111111111111111,\"#46039f\"],[0.2222222222222222,\"#7201a8\"],[0.3333333333333333,\"#9c179e\"],[0.4444444444444444,\"#bd3786\"],[0.5555555555555556,\"#d8576b\"],[0.6666666666666666,\"#ed7953\"],[0.7777777777777778,\"#fb9f3a\"],[0.8888888888888888,\"#fdca26\"],[1.0,\"#f0f921\"]],\"type\":\"histogram2dcontour\"}],\"mesh3d\":[{\"colorbar\":{\"outlinewidth\":0,\"ticks\":\"\"},\"type\":\"mesh3d\"}],\"parcoords\":[{\"line\":{\"colorbar\":{\"outlinewidth\":0,\"ticks\":\"\"}},\"type\":\"parcoords\"}],\"pie\":[{\"automargin\":true,\"type\":\"pie\"}],\"scatter\":[{\"marker\":{\"colorbar\":{\"outlinewidth\":0,\"ticks\":\"\"}},\"type\":\"scatter\"}],\"scatter3d\":[{\"line\":{\"colorbar\":{\"outlinewidth\":0,\"ticks\":\"\"}},\"marker\":{\"colorbar\":{\"outlinewidth\":0,\"ticks\":\"\"}},\"type\":\"scatter3d\"}],\"scattercarpet\":[{\"marker\":{\"colorbar\":{\"outlinewidth\":0,\"ticks\":\"\"}},\"type\":\"scattercarpet\"}],\"scattergeo\":[{\"marker\":{\"colorbar\":{\"outlinewidth\":0,\"ticks\":\"\"}},\"type\":\"scattergeo\"}],\"scattergl\":[{\"marker\":{\"colorbar\":{\"outlinewidth\":0,\"ticks\":\"\"}},\"type\":\"scattergl\"}],\"scattermapbox\":[{\"marker\":{\"colorbar\":{\"outlinewidth\":0,\"ticks\":\"\"}},\"type\":\"scattermapbox\"}],\"scatterpolar\":[{\"marker\":{\"colorbar\":{\"outlinewidth\":0,\"ticks\":\"\"}},\"type\":\"scatterpolar\"}],\"scatterpolargl\":[{\"marker\":{\"colorbar\":{\"outlinewidth\":0,\"ticks\":\"\"}},\"type\":\"scatterpolargl\"}],\"scatterternary\":[{\"marker\":{\"colorbar\":{\"outlinewidth\":0,\"ticks\":\"\"}},\"type\":\"scatterternary\"}],\"surface\":[{\"colorbar\":{\"outlinewidth\":0,\"ticks\":\"\"},\"colorscale\":[[0.0,\"#0d0887\"],[0.1111111111111111,\"#46039f\"],[0.2222222222222222,\"#7201a8\"],[0.3333333333333333,\"#9c179e\"],[0.4444444444444444,\"#bd3786\"],[0.5555555555555556,\"#d8576b\"],[0.6666666666666666,\"#ed7953\"],[0.7777777777777778,\"#fb9f3a\"],[0.8888888888888888,\"#fdca26\"],[1.0,\"#f0f921\"]],\"type\":\"surface\"}],\"table\":[{\"cells\":{\"fill\":{\"color\":\"#EBF0F8\"},\"line\":{\"color\":\"white\"}},\"header\":{\"fill\":{\"color\":\"#C8D4E3\"},\"line\":{\"color\":\"white\"}},\"type\":\"table\"}]},\"layout\":{\"annotationdefaults\":{\"arrowcolor\":\"#2a3f5f\",\"arrowhead\":0,\"arrowwidth\":1},\"autotypenumbers\":\"strict\",\"coloraxis\":{\"colorbar\":{\"outlinewidth\":0,\"ticks\":\"\"}},\"colorscale\":{\"diverging\":[[0,\"#8e0152\"],[0.1,\"#c51b7d\"],[0.2,\"#de77ae\"],[0.3,\"#f1b6da\"],[0.4,\"#fde0ef\"],[0.5,\"#f7f7f7\"],[0.6,\"#e6f5d0\"],[0.7,\"#b8e186\"],[0.8,\"#7fbc41\"],[0.9,\"#4d9221\"],[1,\"#276419\"]],\"sequential\":[[0.0,\"#0d0887\"],[0.1111111111111111,\"#46039f\"],[0.2222222222222222,\"#7201a8\"],[0.3333333333333333,\"#9c179e\"],[0.4444444444444444,\"#bd3786\"],[0.5555555555555556,\"#d8576b\"],[0.6666666666666666,\"#ed7953\"],[0.7777777777777778,\"#fb9f3a\"],[0.8888888888888888,\"#fdca26\"],[1.0,\"#f0f921\"]],\"sequentialminus\":[[0.0,\"#0d0887\"],[0.1111111111111111,\"#46039f\"],[0.2222222222222222,\"#7201a8\"],[0.3333333333333333,\"#9c179e\"],[0.4444444444444444,\"#bd3786\"],[0.5555555555555556,\"#d8576b\"],[0.6666666666666666,\"#ed7953\"],[0.7777777777777778,\"#fb9f3a\"],[0.8888888888888888,\"#fdca26\"],[1.0,\"#f0f921\"]]},\"colorway\":[\"#636efa\",\"#EF553B\",\"#00cc96\",\"#ab63fa\",\"#FFA15A\",\"#19d3f3\",\"#FF6692\",\"#B6E880\",\"#FF97FF\",\"#FECB52\"],\"font\":{\"color\":\"#2a3f5f\"},\"geo\":{\"bgcolor\":\"white\",\"lakecolor\":\"white\",\"landcolor\":\"#E5ECF6\",\"showlakes\":true,\"showland\":true,\"subunitcolor\":\"white\"},\"hoverlabel\":{\"align\":\"left\"},\"hovermode\":\"closest\",\"mapbox\":{\"style\":\"light\"},\"paper_bgcolor\":\"white\",\"plot_bgcolor\":\"#E5ECF6\",\"polar\":{\"angularaxis\":{\"gridcolor\":\"white\",\"linecolor\":\"white\",\"ticks\":\"\"},\"bgcolor\":\"#E5ECF6\",\"radialaxis\":{\"gridcolor\":\"white\",\"linecolor\":\"white\",\"ticks\":\"\"}},\"scene\":{\"xaxis\":{\"backgroundcolor\":\"#E5ECF6\",\"gridcolor\":\"white\",\"gridwidth\":2,\"linecolor\":\"white\",\"showbackground\":true,\"ticks\":\"\",\"zerolinecolor\":\"white\"},\"yaxis\":{\"backgroundcolor\":\"#E5ECF6\",\"gridcolor\":\"white\",\"gridwidth\":2,\"linecolor\":\"white\",\"showbackground\":true,\"ticks\":\"\",\"zerolinecolor\":\"white\"},\"zaxis\":{\"backgroundcolor\":\"#E5ECF6\",\"gridcolor\":\"white\",\"gridwidth\":2,\"linecolor\":\"white\",\"showbackground\":true,\"ticks\":\"\",\"zerolinecolor\":\"white\"}},\"shapedefaults\":{\"line\":{\"color\":\"#2a3f5f\"}},\"ternary\":{\"aaxis\":{\"gridcolor\":\"white\",\"linecolor\":\"white\",\"ticks\":\"\"},\"baxis\":{\"gridcolor\":\"white\",\"linecolor\":\"white\",\"ticks\":\"\"},\"bgcolor\":\"#E5ECF6\",\"caxis\":{\"gridcolor\":\"white\",\"linecolor\":\"white\",\"ticks\":\"\"}},\"title\":{\"x\":0.05},\"xaxis\":{\"automargin\":true,\"gridcolor\":\"white\",\"linecolor\":\"white\",\"ticks\":\"\",\"title\":{\"standoff\":15},\"zerolinecolor\":\"white\",\"zerolinewidth\":2},\"yaxis\":{\"automargin\":true,\"gridcolor\":\"white\",\"linecolor\":\"white\",\"ticks\":\"\",\"title\":{\"standoff\":15},\"zerolinecolor\":\"white\",\"zerolinewidth\":2}}},\"xaxis\":{\"anchor\":\"y\",\"domain\":[0.0,1.0],\"title\":{\"text\":\"Budget ($)\"}},\"yaxis\":{\"anchor\":\"x\",\"domain\":[0.0,1.0],\"title\":{\"text\":\"Contractor\"}},\"legend\":{\"title\":{\"text\":\"Project\"},\"tracegroupgap\":0},\"margin\":{\"t\":60},\"barmode\":\"relative\",\"height\":500,\"title\":{\"x\":0.41}},                        {\"responsive\": true}                    ).then(function(){\n",
              "                            \n",
              "var gd = document.getElementById('2b798256-c532-412f-b1b4-21fe38229449');\n",
              "var x = new MutationObserver(function (mutations, observer) {{\n",
              "        var display = window.getComputedStyle(gd).display;\n",
              "        if (!display || display === 'none') {{\n",
              "            console.log([gd, 'removed!']);\n",
              "            Plotly.purge(gd);\n",
              "            observer.disconnect();\n",
              "        }}\n",
              "}});\n",
              "\n",
              "// Listen for the removal of the full notebook cells\n",
              "var notebookContainer = gd.closest('#notebook-container');\n",
              "if (notebookContainer) {{\n",
              "    x.observe(notebookContainer, {childList: true});\n",
              "}}\n",
              "\n",
              "// Listen for the clearing of the current output cell\n",
              "var outputEl = gd.closest('.output');\n",
              "if (outputEl) {{\n",
              "    x.observe(outputEl, {childList: true});\n",
              "}}\n",
              "\n",
              "                        })                };                            </script>        </div>\n",
              "</body>\n",
              "</html>"
            ]
          },
          "metadata": {}
        }
      ]
    },
    {
      "cell_type": "markdown",
      "source": [
        "# DASH"
      ],
      "metadata": {
        "id": "oqsGG6d7kwIa"
      }
    },
    {
      "cell_type": "code",
      "source": [
        "#CORRER ESTA LINEA DE CODIGO\n",
        "!pip install jupyter-dash"
      ],
      "metadata": {
        "id": "spp2d047kuuA",
        "colab": {
          "base_uri": "https://localhost:8080/"
        },
        "outputId": "05914e1c-a662-4e08-bbeb-334dd2ae8dbf"
      },
      "execution_count": null,
      "outputs": [
        {
          "output_type": "stream",
          "name": "stdout",
          "text": [
            "Looking in indexes: https://pypi.org/simple, https://us-python.pkg.dev/colab-wheels/public/simple/\n",
            "Collecting jupyter-dash\n",
            "  Downloading jupyter_dash-0.4.2-py3-none-any.whl (23 kB)\n",
            "Collecting retrying\n",
            "  Downloading retrying-1.3.3.tar.gz (10 kB)\n",
            "Requirement already satisfied: flask in /usr/local/lib/python3.7/dist-packages (from jupyter-dash) (1.1.4)\n",
            "Collecting nest-asyncio\n",
            "  Downloading nest_asyncio-1.5.6-py3-none-any.whl (5.2 kB)\n",
            "Requirement already satisfied: ipython in /usr/local/lib/python3.7/dist-packages (from jupyter-dash) (7.9.0)\n",
            "Collecting dash\n",
            "  Downloading dash-2.6.2-py3-none-any.whl (9.8 MB)\n",
            "\u001b[K     |████████████████████████████████| 9.8 MB 6.8 MB/s \n",
            "\u001b[?25hRequirement already satisfied: requests in /usr/local/lib/python3.7/dist-packages (from jupyter-dash) (2.23.0)\n",
            "Requirement already satisfied: ipykernel in /usr/local/lib/python3.7/dist-packages (from jupyter-dash) (5.3.4)\n",
            "Collecting ansi2html\n",
            "  Downloading ansi2html-1.8.0-py3-none-any.whl (16 kB)\n",
            "Requirement already satisfied: importlib-metadata in /usr/local/lib/python3.7/dist-packages (from ansi2html->jupyter-dash) (5.0.0)\n",
            "Collecting dash-core-components==2.0.0\n",
            "  Downloading dash_core_components-2.0.0-py3-none-any.whl (3.8 kB)\n",
            "Requirement already satisfied: plotly>=5.0.0 in /usr/local/lib/python3.7/dist-packages (from dash->jupyter-dash) (5.5.0)\n",
            "Collecting flask-compress\n",
            "  Downloading Flask_Compress-1.13-py3-none-any.whl (7.9 kB)\n",
            "Collecting dash-table==5.0.0\n",
            "  Downloading dash_table-5.0.0-py3-none-any.whl (3.9 kB)\n",
            "Collecting dash-html-components==2.0.0\n",
            "  Downloading dash_html_components-2.0.0-py3-none-any.whl (4.1 kB)\n",
            "Requirement already satisfied: Jinja2<3.0,>=2.10.1 in /usr/local/lib/python3.7/dist-packages (from flask->jupyter-dash) (2.11.3)\n",
            "Requirement already satisfied: Werkzeug<2.0,>=0.15 in /usr/local/lib/python3.7/dist-packages (from flask->jupyter-dash) (1.0.1)\n",
            "Requirement already satisfied: click<8.0,>=5.1 in /usr/local/lib/python3.7/dist-packages (from flask->jupyter-dash) (7.1.2)\n",
            "Requirement already satisfied: itsdangerous<2.0,>=0.24 in /usr/local/lib/python3.7/dist-packages (from flask->jupyter-dash) (1.1.0)\n",
            "Requirement already satisfied: MarkupSafe>=0.23 in /usr/local/lib/python3.7/dist-packages (from Jinja2<3.0,>=2.10.1->flask->jupyter-dash) (2.0.1)\n",
            "Requirement already satisfied: six in /usr/local/lib/python3.7/dist-packages (from plotly>=5.0.0->dash->jupyter-dash) (1.15.0)\n",
            "Requirement already satisfied: tenacity>=6.2.0 in /usr/local/lib/python3.7/dist-packages (from plotly>=5.0.0->dash->jupyter-dash) (8.1.0)\n",
            "Collecting brotli\n",
            "  Downloading Brotli-1.0.9-cp37-cp37m-manylinux1_x86_64.whl (357 kB)\n",
            "\u001b[K     |████████████████████████████████| 357 kB 67.9 MB/s \n",
            "\u001b[?25hRequirement already satisfied: typing-extensions>=3.6.4 in /usr/local/lib/python3.7/dist-packages (from importlib-metadata->ansi2html->jupyter-dash) (4.1.1)\n",
            "Requirement already satisfied: zipp>=0.5 in /usr/local/lib/python3.7/dist-packages (from importlib-metadata->ansi2html->jupyter-dash) (3.9.0)\n",
            "Requirement already satisfied: jupyter-client in /usr/local/lib/python3.7/dist-packages (from ipykernel->jupyter-dash) (6.1.12)\n",
            "Requirement already satisfied: tornado>=4.2 in /usr/local/lib/python3.7/dist-packages (from ipykernel->jupyter-dash) (5.1.1)\n",
            "Requirement already satisfied: traitlets>=4.1.0 in /usr/local/lib/python3.7/dist-packages (from ipykernel->jupyter-dash) (5.1.1)\n",
            "Requirement already satisfied: setuptools>=18.5 in /usr/local/lib/python3.7/dist-packages (from ipython->jupyter-dash) (57.4.0)\n",
            "Requirement already satisfied: pexpect in /usr/local/lib/python3.7/dist-packages (from ipython->jupyter-dash) (4.8.0)\n",
            "Requirement already satisfied: pygments in /usr/local/lib/python3.7/dist-packages (from ipython->jupyter-dash) (2.6.1)\n",
            "Requirement already satisfied: prompt-toolkit<2.1.0,>=2.0.0 in /usr/local/lib/python3.7/dist-packages (from ipython->jupyter-dash) (2.0.10)\n",
            "Requirement already satisfied: decorator in /usr/local/lib/python3.7/dist-packages (from ipython->jupyter-dash) (4.4.2)\n",
            "Collecting jedi>=0.10\n",
            "  Downloading jedi-0.18.1-py2.py3-none-any.whl (1.6 MB)\n",
            "\u001b[K     |████████████████████████████████| 1.6 MB 46.8 MB/s \n",
            "\u001b[?25hRequirement already satisfied: backcall in /usr/local/lib/python3.7/dist-packages (from ipython->jupyter-dash) (0.2.0)\n",
            "Requirement already satisfied: pickleshare in /usr/local/lib/python3.7/dist-packages (from ipython->jupyter-dash) (0.7.5)\n",
            "Requirement already satisfied: parso<0.9.0,>=0.8.0 in /usr/local/lib/python3.7/dist-packages (from jedi>=0.10->ipython->jupyter-dash) (0.8.3)\n",
            "Requirement already satisfied: wcwidth in /usr/local/lib/python3.7/dist-packages (from prompt-toolkit<2.1.0,>=2.0.0->ipython->jupyter-dash) (0.2.5)\n",
            "Requirement already satisfied: python-dateutil>=2.1 in /usr/local/lib/python3.7/dist-packages (from jupyter-client->ipykernel->jupyter-dash) (2.8.2)\n",
            "Requirement already satisfied: pyzmq>=13 in /usr/local/lib/python3.7/dist-packages (from jupyter-client->ipykernel->jupyter-dash) (23.2.1)\n",
            "Requirement already satisfied: jupyter-core>=4.6.0 in /usr/local/lib/python3.7/dist-packages (from jupyter-client->ipykernel->jupyter-dash) (4.11.1)\n",
            "Requirement already satisfied: ptyprocess>=0.5 in /usr/local/lib/python3.7/dist-packages (from pexpect->ipython->jupyter-dash) (0.7.0)\n",
            "Requirement already satisfied: urllib3!=1.25.0,!=1.25.1,<1.26,>=1.21.1 in /usr/local/lib/python3.7/dist-packages (from requests->jupyter-dash) (1.24.3)\n",
            "Requirement already satisfied: idna<3,>=2.5 in /usr/local/lib/python3.7/dist-packages (from requests->jupyter-dash) (2.10)\n",
            "Requirement already satisfied: chardet<4,>=3.0.2 in /usr/local/lib/python3.7/dist-packages (from requests->jupyter-dash) (3.0.4)\n",
            "Requirement already satisfied: certifi>=2017.4.17 in /usr/local/lib/python3.7/dist-packages (from requests->jupyter-dash) (2022.9.24)\n",
            "Building wheels for collected packages: retrying\n",
            "  Building wheel for retrying (setup.py) ... \u001b[?25l\u001b[?25hdone\n",
            "  Created wheel for retrying: filename=retrying-1.3.3-py3-none-any.whl size=11447 sha256=176d3d3eb325cecb0b91c7dce26344914bf6b0592ef8dd7d7097393aa8b6d01f\n",
            "  Stored in directory: /root/.cache/pip/wheels/f9/8d/8d/f6af3f7f9eea3553bc2fe6d53e4b287dad18b06a861ac56ddf\n",
            "Successfully built retrying\n",
            "Installing collected packages: jedi, brotli, flask-compress, dash-table, dash-html-components, dash-core-components, retrying, nest-asyncio, dash, ansi2html, jupyter-dash\n",
            "Successfully installed ansi2html-1.8.0 brotli-1.0.9 dash-2.6.2 dash-core-components-2.0.0 dash-html-components-2.0.0 dash-table-5.0.0 flask-compress-1.13 jedi-0.18.1 jupyter-dash-0.4.2 nest-asyncio-1.5.6 retrying-1.3.3\n"
          ]
        }
      ]
    },
    {
      "cell_type": "code",
      "source": [
        "#CORRER ESTA LINEA DE CODIGO\n",
        "from jupyter_dash import JupyterDash # Versión de dash para notebooks\n",
        "from dash import dcc # Componentes HTML preconstruidos para dashboards\n",
        "from dash import html # Componentes HTML nativos\n",
        "from dash.dependencies import Input, Output # Clases Input y Output\n",
        "import plotly.express as px # Generar gráficas e importar datasets con Plotly\n",
        "from dash.exceptions import PreventUpdate\n",
        "import pandas as pd # Recolección y manipulación de datos\n",
        "import dash"
      ],
      "metadata": {
        "id": "UBIj_w2Pk5yA"
      },
      "execution_count": null,
      "outputs": []
    },
    {
      "cell_type": "code",
      "source": [
        "#CORRER ESTA LINEA DE CODIGO\n",
        "# Importamos una hoja de estilos externa\n",
        "external_stylesheets = ['https://codepen.io/chriddyp/pen/bWLwgP.css']\n",
        "#external_stylesheets = ['style/mihoja.css'] # Cascade Style Sheets\n",
        "\n",
        "# python file.py\n",
        "app = JupyterDash(__name__, external_stylesheets=external_stylesheets)\n",
        "\n",
        "colors = {\n",
        "    'background': '#111111',\n",
        "    'text': '#95c98f'\n",
        "}\n",
        "\n",
        "fig80 = px.scatter_mapbox(points_city, lat='Latitud' ,lon='Longitud',\n",
        "                        color='Cities',mapbox_style='open-street-map',\n",
        "                        zoom=5 ,\n",
        "                        center=({'lat':31.47425664311308,'lon':-99.05948478502832}),\n",
        "                        text='CUSTOMER',width=1365,height=550,\n",
        "                        )\n",
        "\n",
        "\n",
        "fig80.update_layout(clickmode='event+select',\n",
        "    plot_bgcolor=colors['background'],\n",
        "    paper_bgcolor=colors['background'],\n",
        "    font_color=colors['text'])\n",
        "fig80.update_traces(marker_size=15)\n",
        "\n",
        "\n",
        "\n",
        "fig2.update_layout(\n",
        "    plot_bgcolor=colors['background'],\n",
        "    paper_bgcolor=colors['background'],\n",
        "    font_color=colors['text']\n",
        ")\n",
        "\n",
        "fig6.update_layout(\n",
        "    plot_bgcolor=colors['background'],\n",
        "    paper_bgcolor=colors['background'],\n",
        "    font_color=colors['text']\n",
        ")\n",
        "\n",
        "fig4.update_layout(\n",
        "    plot_bgcolor=colors['background'],\n",
        "    paper_bgcolor=colors['background'],\n",
        "    font_color=colors['text']\n",
        ")\n",
        "\n",
        "\n",
        "\n",
        "\n",
        "\n",
        "\n",
        "\n",
        "\n",
        "app.layout =html.Div(style={'backgroundColor': colors['background']}, children=[\n",
        "    html.H1(children='Data Center',style={\n",
        "            'textAlign': 'center',\n",
        "            'color': colors['text']}),\n",
        "\n",
        "             html.Div(style={'backgroundColor': colors['background']}, children=[\n",
        "                   html.H3(children = 'Relationship of Hours Worked and salary received per worker',style={\n",
        "                                     'textAlign': 'center',\n",
        "                                     'color': colors['text']}),\n",
        "                   dcc.Graph(id='grafica_x'),\n",
        "                   dcc.Dropdown(id = 'multiple_callbacks', options = [x for x in df3['Worker']], value = [x for x in df3['Worker']], multi=True,style = {'color':'#111111',\n",
        "                                                              'background': '#111111',\n",
        "                                                              'font-size': 16}),]),\n",
        "\n",
        "            html.Div(style={'backgroundColor': colors['background']},children=[\n",
        "                    html.H3(children='Hours worked during the month of September per Employee',style={\n",
        "                                     'textAlign': 'center',\n",
        "                                     'color': colors['text']}),\n",
        "                    dcc.Dropdown(df2.columns[1:].unique(),value = 'ABACUC FIGUEROA', style = {'color':'#111111',\n",
        "                                                              'background': '#95c98f',\n",
        "                                                              'font-size': 18},\n",
        "                                                               id = 'change_worker'),\n",
        "                    dcc.Graph(id='graph_worker')]),\n",
        "                                                                                \n",
        "            html.Div(style={'backgroundColor': colors['background']}, children=[\n",
        "                   html.H3(children='Projects and budget assigned to contractors during September',style={\n",
        "                                     'textAlign': 'center',\n",
        "                                     'color': colors['text']}),\n",
        "                   dcc.Graph(id='grafica_2021', figure=fig6)]),\n",
        "\n",
        "            html.Div(style={'backgroundColor': colors['background']}, children=[\n",
        "                   html.H3(children = 'Comparison between 2021 VS 2022',style={\n",
        "                                     'textAlign': 'center',\n",
        "                                     'color': colors['text']}),\n",
        "                   html.Button('Overview Comparison 2021-2022', id='submit-val', style={\n",
        "                                     'textAlign': 'center',\n",
        "                                     'color': colors['text'],\n",
        "                                     }),\n",
        "                   dcc.Graph(id='grafica_2022', figure = fig2),\n",
        "                   dcc.Slider(0,8, step = None, value = 1, marks = {0: '',\n",
        "                                                         1:{'label':'Mar','style':{'color':'#95c98f'}},2:{'label':'Apr','style':{'color':'#95c98f'}},\n",
        "                                                         3:{'label':'May','style':{'color':'#95c98f'}},4:{'label':'Jun','style':{'color':'#95c98f'}},\n",
        "                                                         5:{'label':'Jul','style':{'color':'#95c98f'}},6:{'label':'Aug','style':{'color':'#95c98f'}},\n",
        "                                                         7:{'label':'Sep','style':{'color':'#95c98f'}},8:''},\n",
        "                                                          id = 'month_slider')]),\n",
        "\n",
        "            \n",
        "            \n",
        "            html.Div([\n",
        "              html.Div([\n",
        "                html.Div([html.H3('Cashflow Out 2022',style = {'textAlign':'center',\n",
        "                                                              'color':colors['text']}),\n",
        "                          dcc.Dropdown(disabled = True, style= {'display': 'none'}),                          \n",
        "                          dcc.Graph(id='g1', figure=fig4)\n",
        "                         ], className=\"six columns\"),\n",
        "\n",
        "                html.Div([html.H4('Cashflow Out by Month',style = {'textAlign':'center',\n",
        "                                                              'color':colors['text']}),\n",
        "                          dcc.Dropdown(df_E2022.columns[1:].unique(), value = 'Jan', style = {'textAlign':'center',\n",
        "                                                              'color':'#111111',\n",
        "                                                              'background': '#95c98f',\n",
        "                                                              'font-size': 18},\n",
        "                                      id='xaxis-column'), \n",
        "                          dcc.Graph(id='graph-with-choose')\n",
        "                         ], className=\"six columns\"),\n",
        "                       ], className=\"row\")\n",
        "                      ]),\n",
        "\n",
        "\n",
        "              html.Div(style={'backgroundColor': colors['background']},children=[\n",
        "                    html.H3(children='Work locations',style={\n",
        "                                     'textAlign': 'center',\n",
        "                                     'color': colors['text']}),  \n",
        "                    dcc.Graph(id='Map',figure=fig80 )])\n",
        "\n",
        "            ])\n",
        "\n",
        "@app.callback(\n",
        "    Output('graph-with-choose', 'figure'),\n",
        "    Input('xaxis-column', 'value'))\n",
        "\n",
        "def update_figure(selected_month):\n",
        "\n",
        "  fig = go.Figure(data=[go.Pie(values=df_E2022[selected_month],labels=df_E2022['Name'],name=\"Categoria\")])\n",
        "  fig.update_traces(textposition='inside',textinfo='percent+label')\n",
        "  fig.update_layout(\n",
        "    plot_bgcolor=colors['background'],\n",
        "    paper_bgcolor=colors['background'],\n",
        "    font_color=colors['text'],\n",
        "    )\n",
        " \n",
        "  fig.show()\n",
        "  \n",
        "  return fig\n",
        "\n",
        "@app.callback(\n",
        "    Output('graph_worker', 'figure'),\n",
        "    Input('change_worker', 'value'))\n",
        "\n",
        "def update_worker(selected_worker):\n",
        "\n",
        "  figx = px.line(df2, x='Date', y=df2[selected_worker],\n",
        "              hover_data={\"Date\": \"|%B %d, %Y\"},\n",
        "              labels = {'value':'Worked Hours [Hrs]',\n",
        "                        'Date': 'SEPTEMBER'})\n",
        "              \n",
        "  figx.update_xaxes(\n",
        "    dtick='D1',\n",
        "    tickformat=\"%d %B \",\n",
        "    ticklabelmode=\"period\")\n",
        "  \n",
        "  figx.update_traces(line_color=\"#f5f502\")\n",
        "  \n",
        "  figx.update_layout(title_x= 0.5, plot_bgcolor=colors['background'],\n",
        "    paper_bgcolor=colors['background'],\n",
        "    font_color=colors['text'])\n",
        "  figx.show()\n",
        "  \n",
        "  return figx\n",
        "\n",
        "@app.callback(\n",
        "    Output('grafica_2022', 'figure'),\n",
        "    Input('month_slider', 'value'),\n",
        "    Input('submit-val','n_clicks'))\n",
        "\n",
        "def month_2022(month_slider,n_clicks):\n",
        "  months = {0:'Mar', 1:'Mar', 2:'Apr', 3:'May', 4:'Jun', 5:'Jul', 6:'Aug', 7:'Sep', 8:'Sep'}\n",
        "  months2 = {0:'MARCH', 1:'MARCH', 2:'APRIL', 3:'MAY', 4:'JUNE', 5:'JULY', 6:'AUGUST', 7:'SEPTEMBER', 8:'SEPTEMBER'}\n",
        "\n",
        "  f = str(months2[month_slider])\n",
        "\n",
        "  changed_id = [p['prop_id'] for p in dash.callback_context.triggered][0]\n",
        "\n",
        "  if 'submit-val' in changed_id:\n",
        "    return fig2\n",
        "\n",
        "  else:\n",
        "  \n",
        "    figy = go.Figure()\n",
        "\n",
        "    trace1 = go.Bar(x=df_comparison['Name'], y=df_comparison[months[month_slider]+'_'+'x'], xaxis='x2', yaxis='y2',\n",
        "                marker=dict(color='#20912b'),\n",
        "                name='Gastos 2021',text=df_comparison[months[month_slider]+'_'+'x'])\n",
        "    trace2 = go.Bar(x=df_comparison['Name'], y=df_comparison[months[month_slider]+'_'+'y'], xaxis='x2', yaxis='y2',\n",
        "                marker=dict(color='#404040'),\n",
        "                name='Gastos 2022',text=df_comparison[months[month_slider]+'_'+'y'])\n",
        "\n",
        "    figy.add_traces([trace1, trace2])\n",
        "\n",
        "    figy['layout']['xaxis2'] = {}\n",
        "    figy['layout']['yaxis2'] = {}\n",
        "\n",
        "    figy.layout.yaxis2.update({'anchor': 'x2'})\n",
        "    figy.layout.xaxis2.update({'anchor': 'y2'})\n",
        "    figy.layout.yaxis2.update({'title': 'Cashflow Out [USD]'})\n",
        "\n",
        "    figy.layout.margin.update({'t':75, 'l':50})\n",
        "    figy.layout.update({'title': 'Cashflow Out Comparison' + ' ' + f + ' ' +  '2021-2022'},title_x = 0.42)\n",
        "\n",
        "    figy.layout.update({'height':400},plot_bgcolor=colors['background'],\n",
        "        paper_bgcolor=colors['background'],\n",
        "        font_color=colors['text'])\n",
        "\n",
        "    figy.show()\n",
        "\n",
        "    return figy\n",
        "\n",
        "@app.callback(\n",
        "    Output('grafica_x', 'figure'),\n",
        "    Input('multiple_callbacks', 'value'))\n",
        "\n",
        "def month_2022(multiple_callbacks):\n",
        "  if len(multiple_callbacks) == 0:\n",
        "    return dash.no_update\n",
        "  else:\n",
        "    df33 = df3[df3.Worker.isin(multiple_callbacks)]\n",
        "    figza = px.scatter(df33, x = 'Time Pay', y = 'Quantity Pay',\n",
        "     color = 'Worker', size = 'Quantity Pay',\n",
        "     labels = {'Quantity Pay':'Quantity Pay [USD]',\n",
        "                        'Time Pay': 'Time Pay [HRS]'})\n",
        "    figza.update_layout(plot_bgcolor=colors['background'],\n",
        "    paper_bgcolor=colors['background'],\n",
        "    font_color=colors['text'])\n",
        "    figza.show()\n",
        "\n",
        "    return figza\n",
        "\n",
        "if __name__ == '__main__':\n",
        "    app.run_server(debug=True, mode='external')"
      ],
      "metadata": {
        "colab": {
          "base_uri": "https://localhost:8080/",
          "height": 52
        },
        "id": "lrnTSxajlB39",
        "outputId": "0d738b86-f799-4f94-bcc1-61b125368367"
      },
      "execution_count": null,
      "outputs": [
        {
          "output_type": "stream",
          "name": "stdout",
          "text": [
            "Dash app running on:\n"
          ]
        },
        {
          "output_type": "display_data",
          "data": {
            "text/plain": [
              "<IPython.core.display.Javascript object>"
            ],
            "application/javascript": [
              "(async (port, path, text, element) => {\n",
              "    if (!google.colab.kernel.accessAllowed) {\n",
              "      return;\n",
              "    }\n",
              "    element.appendChild(document.createTextNode(''));\n",
              "    const url = await google.colab.kernel.proxyPort(port);\n",
              "    const anchor = document.createElement('a');\n",
              "    anchor.href = new URL(path, url).toString();\n",
              "    anchor.target = '_blank';\n",
              "    anchor.setAttribute('data-href', url + path);\n",
              "    anchor.textContent = text;\n",
              "    element.appendChild(anchor);\n",
              "  })(8050, \"/\", \"http://127.0.0.1:8050/\", window.element)"
            ]
          },
          "metadata": {}
        }
      ]
    }
  ]
}